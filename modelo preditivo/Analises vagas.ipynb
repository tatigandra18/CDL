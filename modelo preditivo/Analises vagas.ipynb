{
 "cells": [
  {
   "cell_type": "code",
   "execution_count": 1,
   "metadata": {},
   "outputs": [],
   "source": [
    "import pandas as pd\n",
    "import plotly.graph_objs as go\n",
    "from plotly.subplots import make_subplots\n"
   ]
  },
  {
   "cell_type": "code",
   "execution_count": 2,
   "metadata": {},
   "outputs": [],
   "source": [
    "df = pd.read_csv('C:/Users/Inteli/Desktop/Pesquisa de carreiras/Webscrapping total.csv')"
   ]
  },
  {
   "cell_type": "code",
   "execution_count": 3,
   "metadata": {},
   "outputs": [
    {
     "data": {
      "text/html": [
       "<div>\n",
       "<style scoped>\n",
       "    .dataframe tbody tr th:only-of-type {\n",
       "        vertical-align: middle;\n",
       "    }\n",
       "\n",
       "    .dataframe tbody tr th {\n",
       "        vertical-align: top;\n",
       "    }\n",
       "\n",
       "    .dataframe thead th {\n",
       "        text-align: right;\n",
       "    }\n",
       "</style>\n",
       "<table border=\"1\" class=\"dataframe\">\n",
       "  <thead>\n",
       "    <tr style=\"text-align: right;\">\n",
       "      <th></th>\n",
       "      <th>Funcao</th>\n",
       "      <th>Localização</th>\n",
       "      <th>Skills Necessarias</th>\n",
       "      <th>Média Salarial</th>\n",
       "      <th>separação 1</th>\n",
       "      <th>separação 2</th>\n",
       "      <th>separação 3</th>\n",
       "      <th>separação 4</th>\n",
       "      <th>Cargo</th>\n",
       "    </tr>\n",
       "  </thead>\n",
       "  <tbody>\n",
       "    <tr>\n",
       "      <th>0</th>\n",
       "      <td>LawnStarter\\n4.4\\nSenior UX/Product Designer\\n...</td>\n",
       "      <td>Trabalho remoto</td>\n",
       "      <td>LawnStarter is the leading on-demand platform ...</td>\n",
       "      <td>R$ 60 mil – R$ 70 mil/ano (est. Empresa)</td>\n",
       "      <td>LawnStarter</td>\n",
       "      <td>4.4</td>\n",
       "      <td>Senior UX/Product Designer</td>\n",
       "      <td>Trabalho remoto</td>\n",
       "      <td>Senior UX/Product Designer</td>\n",
       "    </tr>\n",
       "    <tr>\n",
       "      <th>1</th>\n",
       "      <td>Harris Corrections - Harris Computer Guardian ...</td>\n",
       "      <td>Trabalho remoto</td>\n",
       "      <td>Please send your CV in English\\nWHO WE ARE\\nHa...</td>\n",
       "      <td>R$ 10 mil – R$ 15 mil/mês (est. Empresa)</td>\n",
       "      <td>Harris Corrections - Harris Computer Guardian ...</td>\n",
       "      <td>4.1</td>\n",
       "      <td>Business Analyst</td>\n",
       "      <td>Trabalho remoto</td>\n",
       "      <td>Business Analyst</td>\n",
       "    </tr>\n",
       "    <tr>\n",
       "      <th>2</th>\n",
       "      <td>BJ Centro de Terceirização\\nDesigner Digital\\n...</td>\n",
       "      <td>Curitiba</td>\n",
       "      <td>Vaga Incrível para Designer Criativo e Estraté...</td>\n",
       "      <td>R$ 4 mil/mês (est. Empresa)</td>\n",
       "      <td>BJ Centro de Terceirização</td>\n",
       "      <td>Designer Digital</td>\n",
       "      <td>Curitiba</td>\n",
       "      <td>NaN</td>\n",
       "      <td>Designer Digital</td>\n",
       "    </tr>\n",
       "    <tr>\n",
       "      <th>3</th>\n",
       "      <td>TOTVS\\n4.3\\nPessoa Desenvolvedora Front-End - ...</td>\n",
       "      <td>Joinville</td>\n",
       "      <td>Detalhes da vaga\\n\\n\\nAcreditamos no poder tra...</td>\n",
       "      <td>NF</td>\n",
       "      <td>TOTVS</td>\n",
       "      <td>4.3</td>\n",
       "      <td>Pessoa Desenvolvedora Front-End - Sênior</td>\n",
       "      <td>Joinville</td>\n",
       "      <td>Pessoa Desenvolvedora Front-End - Sênior</td>\n",
       "    </tr>\n",
       "    <tr>\n",
       "      <th>4</th>\n",
       "      <td>Loja do Mecânico\\n3.9\\nANALISTA DE MARKETING E...</td>\n",
       "      <td>Barueri</td>\n",
       "      <td>Objetivo do cargo:\\n- Auxiliar na implementaçã...</td>\n",
       "      <td>R$ 2 mil – R$ 4 mil/mês (est. Empresa)</td>\n",
       "      <td>Loja do Mecânico</td>\n",
       "      <td>3.9</td>\n",
       "      <td>ANALISTA DE MARKETING E PERFORMANCE PL</td>\n",
       "      <td>Barueri</td>\n",
       "      <td>ANALISTA DE MARKETING E PERFORMANCE PL</td>\n",
       "    </tr>\n",
       "  </tbody>\n",
       "</table>\n",
       "</div>"
      ],
      "text/plain": [
       "                                              Funcao      Localização  \\\n",
       "0  LawnStarter\\n4.4\\nSenior UX/Product Designer\\n...  Trabalho remoto   \n",
       "1  Harris Corrections - Harris Computer Guardian ...  Trabalho remoto   \n",
       "2  BJ Centro de Terceirização\\nDesigner Digital\\n...         Curitiba   \n",
       "3  TOTVS\\n4.3\\nPessoa Desenvolvedora Front-End - ...        Joinville   \n",
       "4  Loja do Mecânico\\n3.9\\nANALISTA DE MARKETING E...          Barueri   \n",
       "\n",
       "                                  Skills Necessarias  \\\n",
       "0  LawnStarter is the leading on-demand platform ...   \n",
       "1  Please send your CV in English\\nWHO WE ARE\\nHa...   \n",
       "2  Vaga Incrível para Designer Criativo e Estraté...   \n",
       "3  Detalhes da vaga\\n\\n\\nAcreditamos no poder tra...   \n",
       "4  Objetivo do cargo:\\n- Auxiliar na implementaçã...   \n",
       "\n",
       "                             Média Salarial  \\\n",
       "0  R$ 60 mil – R$ 70 mil/ano (est. Empresa)   \n",
       "1  R$ 10 mil – R$ 15 mil/mês (est. Empresa)   \n",
       "2               R$ 4 mil/mês (est. Empresa)   \n",
       "3                                        NF   \n",
       "4    R$ 2 mil – R$ 4 mil/mês (est. Empresa)   \n",
       "\n",
       "                                         separação 1       separação 2  \\\n",
       "0                                        LawnStarter               4.4   \n",
       "1  Harris Corrections - Harris Computer Guardian ...               4.1   \n",
       "2                         BJ Centro de Terceirização  Designer Digital   \n",
       "3                                              TOTVS               4.3   \n",
       "4                                   Loja do Mecânico               3.9   \n",
       "\n",
       "                                separação 3      separação 4  \\\n",
       "0                Senior UX/Product Designer  Trabalho remoto   \n",
       "1                          Business Analyst  Trabalho remoto   \n",
       "2                                  Curitiba              NaN   \n",
       "3  Pessoa Desenvolvedora Front-End - Sênior        Joinville   \n",
       "4    ANALISTA DE MARKETING E PERFORMANCE PL          Barueri   \n",
       "\n",
       "                                      Cargo  \n",
       "0                Senior UX/Product Designer  \n",
       "1                          Business Analyst  \n",
       "2                          Designer Digital  \n",
       "3  Pessoa Desenvolvedora Front-End - Sênior  \n",
       "4    ANALISTA DE MARKETING E PERFORMANCE PL  "
      ]
     },
     "execution_count": 3,
     "metadata": {},
     "output_type": "execute_result"
    }
   ],
   "source": [
    "df.head()"
   ]
  },
  {
   "cell_type": "code",
   "execution_count": 4,
   "metadata": {},
   "outputs": [
    {
     "name": "stdout",
     "output_type": "stream",
     "text": [
      "<class 'pandas.core.frame.DataFrame'>\n",
      "RangeIndex: 38108 entries, 0 to 38107\n",
      "Data columns (total 9 columns):\n",
      " #   Column              Non-Null Count  Dtype \n",
      "---  ------              --------------  ----- \n",
      " 0   Funcao              38108 non-null  object\n",
      " 1   Localização         38104 non-null  object\n",
      " 2   Skills Necessarias  38108 non-null  object\n",
      " 3   Média Salarial      37404 non-null  object\n",
      " 4   separação 1         38108 non-null  object\n",
      " 5   separação 2         38108 non-null  object\n",
      " 6   separação 3         38073 non-null  object\n",
      " 7   separação 4         28577 non-null  object\n",
      " 8   Cargo               38108 non-null  object\n",
      "dtypes: object(9)\n",
      "memory usage: 2.6+ MB\n"
     ]
    }
   ],
   "source": [
    "df.info()"
   ]
  },
  {
   "cell_type": "code",
   "execution_count": 5,
   "metadata": {},
   "outputs": [],
   "source": [
    "df_novo = df[['Funcao','Localização', 'Skills Necessarias','Média Salarial', 'Cargo']]"
   ]
  },
  {
   "cell_type": "code",
   "execution_count": 6,
   "metadata": {},
   "outputs": [
    {
     "data": {
      "text/html": [
       "<div>\n",
       "<style scoped>\n",
       "    .dataframe tbody tr th:only-of-type {\n",
       "        vertical-align: middle;\n",
       "    }\n",
       "\n",
       "    .dataframe tbody tr th {\n",
       "        vertical-align: top;\n",
       "    }\n",
       "\n",
       "    .dataframe thead th {\n",
       "        text-align: right;\n",
       "    }\n",
       "</style>\n",
       "<table border=\"1\" class=\"dataframe\">\n",
       "  <thead>\n",
       "    <tr style=\"text-align: right;\">\n",
       "      <th></th>\n",
       "      <th>Funcao</th>\n",
       "      <th>Localização</th>\n",
       "      <th>Skills Necessarias</th>\n",
       "      <th>Média Salarial</th>\n",
       "      <th>Cargo</th>\n",
       "    </tr>\n",
       "  </thead>\n",
       "  <tbody>\n",
       "    <tr>\n",
       "      <th>0</th>\n",
       "      <td>LawnStarter\\n4.4\\nSenior UX/Product Designer\\n...</td>\n",
       "      <td>Trabalho remoto</td>\n",
       "      <td>LawnStarter is the leading on-demand platform ...</td>\n",
       "      <td>R$ 60 mil – R$ 70 mil/ano (est. Empresa)</td>\n",
       "      <td>Senior UX/Product Designer</td>\n",
       "    </tr>\n",
       "    <tr>\n",
       "      <th>1</th>\n",
       "      <td>Harris Corrections - Harris Computer Guardian ...</td>\n",
       "      <td>Trabalho remoto</td>\n",
       "      <td>Please send your CV in English\\nWHO WE ARE\\nHa...</td>\n",
       "      <td>R$ 10 mil – R$ 15 mil/mês (est. Empresa)</td>\n",
       "      <td>Business Analyst</td>\n",
       "    </tr>\n",
       "    <tr>\n",
       "      <th>2</th>\n",
       "      <td>BJ Centro de Terceirização\\nDesigner Digital\\n...</td>\n",
       "      <td>Curitiba</td>\n",
       "      <td>Vaga Incrível para Designer Criativo e Estraté...</td>\n",
       "      <td>R$ 4 mil/mês (est. Empresa)</td>\n",
       "      <td>Designer Digital</td>\n",
       "    </tr>\n",
       "    <tr>\n",
       "      <th>3</th>\n",
       "      <td>TOTVS\\n4.3\\nPessoa Desenvolvedora Front-End - ...</td>\n",
       "      <td>Joinville</td>\n",
       "      <td>Detalhes da vaga\\n\\n\\nAcreditamos no poder tra...</td>\n",
       "      <td>NF</td>\n",
       "      <td>Pessoa Desenvolvedora Front-End - Sênior</td>\n",
       "    </tr>\n",
       "    <tr>\n",
       "      <th>4</th>\n",
       "      <td>Loja do Mecânico\\n3.9\\nANALISTA DE MARKETING E...</td>\n",
       "      <td>Barueri</td>\n",
       "      <td>Objetivo do cargo:\\n- Auxiliar na implementaçã...</td>\n",
       "      <td>R$ 2 mil – R$ 4 mil/mês (est. Empresa)</td>\n",
       "      <td>ANALISTA DE MARKETING E PERFORMANCE PL</td>\n",
       "    </tr>\n",
       "  </tbody>\n",
       "</table>\n",
       "</div>"
      ],
      "text/plain": [
       "                                              Funcao      Localização  \\\n",
       "0  LawnStarter\\n4.4\\nSenior UX/Product Designer\\n...  Trabalho remoto   \n",
       "1  Harris Corrections - Harris Computer Guardian ...  Trabalho remoto   \n",
       "2  BJ Centro de Terceirização\\nDesigner Digital\\n...         Curitiba   \n",
       "3  TOTVS\\n4.3\\nPessoa Desenvolvedora Front-End - ...        Joinville   \n",
       "4  Loja do Mecânico\\n3.9\\nANALISTA DE MARKETING E...          Barueri   \n",
       "\n",
       "                                  Skills Necessarias  \\\n",
       "0  LawnStarter is the leading on-demand platform ...   \n",
       "1  Please send your CV in English\\nWHO WE ARE\\nHa...   \n",
       "2  Vaga Incrível para Designer Criativo e Estraté...   \n",
       "3  Detalhes da vaga\\n\\n\\nAcreditamos no poder tra...   \n",
       "4  Objetivo do cargo:\\n- Auxiliar na implementaçã...   \n",
       "\n",
       "                             Média Salarial  \\\n",
       "0  R$ 60 mil – R$ 70 mil/ano (est. Empresa)   \n",
       "1  R$ 10 mil – R$ 15 mil/mês (est. Empresa)   \n",
       "2               R$ 4 mil/mês (est. Empresa)   \n",
       "3                                        NF   \n",
       "4    R$ 2 mil – R$ 4 mil/mês (est. Empresa)   \n",
       "\n",
       "                                      Cargo  \n",
       "0                Senior UX/Product Designer  \n",
       "1                          Business Analyst  \n",
       "2                          Designer Digital  \n",
       "3  Pessoa Desenvolvedora Front-End - Sênior  \n",
       "4    ANALISTA DE MARKETING E PERFORMANCE PL  "
      ]
     },
     "execution_count": 6,
     "metadata": {},
     "output_type": "execute_result"
    }
   ],
   "source": [
    "df_novo.head()"
   ]
  },
  {
   "cell_type": "code",
   "execution_count": 7,
   "metadata": {},
   "outputs": [
    {
     "name": "stderr",
     "output_type": "stream",
     "text": [
      "C:\\Users\\Inteli\\AppData\\Local\\Temp\\ipykernel_28572\\2712762024.py:11: SettingWithCopyWarning: \n",
      "A value is trying to be set on a copy of a slice from a DataFrame.\n",
      "Try using .loc[row_indexer,col_indexer] = value instead\n",
      "\n",
      "See the caveats in the documentation: https://pandas.pydata.org/pandas-docs/stable/user_guide/indexing.html#returning-a-view-versus-a-copy\n",
      "  df_novo['Cargo'] = df_novo['Cargo'].apply(add_spaces)\n"
     ]
    },
    {
     "data": {
      "text/html": [
       "<div>\n",
       "<style scoped>\n",
       "    .dataframe tbody tr th:only-of-type {\n",
       "        vertical-align: middle;\n",
       "    }\n",
       "\n",
       "    .dataframe tbody tr th {\n",
       "        vertical-align: top;\n",
       "    }\n",
       "\n",
       "    .dataframe thead th {\n",
       "        text-align: right;\n",
       "    }\n",
       "</style>\n",
       "<table border=\"1\" class=\"dataframe\">\n",
       "  <thead>\n",
       "    <tr style=\"text-align: right;\">\n",
       "      <th></th>\n",
       "      <th>Funcao</th>\n",
       "      <th>Localização</th>\n",
       "      <th>Skills Necessarias</th>\n",
       "      <th>Média Salarial</th>\n",
       "      <th>Cargo</th>\n",
       "    </tr>\n",
       "  </thead>\n",
       "  <tbody>\n",
       "    <tr>\n",
       "      <th>0</th>\n",
       "      <td>LawnStarter\\n4.4\\nSenior UX/Product Designer\\n...</td>\n",
       "      <td>Trabalho remoto</td>\n",
       "      <td>LawnStarter is the leading on-demand platform ...</td>\n",
       "      <td>R$ 60 mil – R$ 70 mil/ano (est. Empresa)</td>\n",
       "      <td>Senior UX/Product Designer</td>\n",
       "    </tr>\n",
       "    <tr>\n",
       "      <th>1</th>\n",
       "      <td>Harris Corrections - Harris Computer Guardian ...</td>\n",
       "      <td>Trabalho remoto</td>\n",
       "      <td>Please send your CV in English\\nWHO WE ARE\\nHa...</td>\n",
       "      <td>R$ 10 mil – R$ 15 mil/mês (est. Empresa)</td>\n",
       "      <td>Business Analyst</td>\n",
       "    </tr>\n",
       "    <tr>\n",
       "      <th>2</th>\n",
       "      <td>BJ Centro de Terceirização\\nDesigner Digital\\n...</td>\n",
       "      <td>Curitiba</td>\n",
       "      <td>Vaga Incrível para Designer Criativo e Estraté...</td>\n",
       "      <td>R$ 4 mil/mês (est. Empresa)</td>\n",
       "      <td>Designer Digital</td>\n",
       "    </tr>\n",
       "    <tr>\n",
       "      <th>3</th>\n",
       "      <td>TOTVS\\n4.3\\nPessoa Desenvolvedora Front-End - ...</td>\n",
       "      <td>Joinville</td>\n",
       "      <td>Detalhes da vaga\\n\\n\\nAcreditamos no poder tra...</td>\n",
       "      <td>NF</td>\n",
       "      <td>Pessoa Desenvolvedora Front-End - Sênior</td>\n",
       "    </tr>\n",
       "    <tr>\n",
       "      <th>4</th>\n",
       "      <td>Loja do Mecânico\\n3.9\\nANALISTA DE MARKETING E...</td>\n",
       "      <td>Barueri</td>\n",
       "      <td>Objetivo do cargo:\\n- Auxiliar na implementaçã...</td>\n",
       "      <td>R$ 2 mil – R$ 4 mil/mês (est. Empresa)</td>\n",
       "      <td>ANALISTA DE MARKETING E PERFORMANCE PL</td>\n",
       "    </tr>\n",
       "  </tbody>\n",
       "</table>\n",
       "</div>"
      ],
      "text/plain": [
       "                                              Funcao      Localização  \\\n",
       "0  LawnStarter\\n4.4\\nSenior UX/Product Designer\\n...  Trabalho remoto   \n",
       "1  Harris Corrections - Harris Computer Guardian ...  Trabalho remoto   \n",
       "2  BJ Centro de Terceirização\\nDesigner Digital\\n...         Curitiba   \n",
       "3  TOTVS\\n4.3\\nPessoa Desenvolvedora Front-End - ...        Joinville   \n",
       "4  Loja do Mecânico\\n3.9\\nANALISTA DE MARKETING E...          Barueri   \n",
       "\n",
       "                                  Skills Necessarias  \\\n",
       "0  LawnStarter is the leading on-demand platform ...   \n",
       "1  Please send your CV in English\\nWHO WE ARE\\nHa...   \n",
       "2  Vaga Incrível para Designer Criativo e Estraté...   \n",
       "3  Detalhes da vaga\\n\\n\\nAcreditamos no poder tra...   \n",
       "4  Objetivo do cargo:\\n- Auxiliar na implementaçã...   \n",
       "\n",
       "                             Média Salarial  \\\n",
       "0  R$ 60 mil – R$ 70 mil/ano (est. Empresa)   \n",
       "1  R$ 10 mil – R$ 15 mil/mês (est. Empresa)   \n",
       "2               R$ 4 mil/mês (est. Empresa)   \n",
       "3                                        NF   \n",
       "4    R$ 2 mil – R$ 4 mil/mês (est. Empresa)   \n",
       "\n",
       "                                        Cargo  \n",
       "0                 Senior UX/Product Designer   \n",
       "1                           Business Analyst   \n",
       "2                           Designer Digital   \n",
       "3   Pessoa Desenvolvedora Front-End - Sênior   \n",
       "4     ANALISTA DE MARKETING E PERFORMANCE PL   "
      ]
     },
     "execution_count": 7,
     "metadata": {},
     "output_type": "execute_result"
    }
   ],
   "source": [
    "import pandas as pd\n",
    "\n",
    "# Supondo que df seja o seu DataFrame com a coluna \"cargo\"\n",
    "# Substitua df pelo nome do seu DataFrame\n",
    "\n",
    "# Função para adicionar espaço em branco antes e depois de cada valor\n",
    "def add_spaces(value):\n",
    "    return f\" {value} \"\n",
    "\n",
    "# Aplicar a função apenas na coluna \"cargo\"\n",
    "df_novo['Cargo'] = df_novo['Cargo'].apply(add_spaces)\n",
    "\n",
    "# Visualizar o DataFrame com espaços adicionados na coluna \"cargo\"\n",
    "df_novo.head()\n"
   ]
  },
  {
   "cell_type": "code",
   "execution_count": 8,
   "metadata": {},
   "outputs": [
    {
     "name": "stderr",
     "output_type": "stream",
     "text": [
      "C:\\Users\\Inteli\\AppData\\Local\\Temp\\ipykernel_28572\\2230730721.py:13: SettingWithCopyWarning: \n",
      "A value is trying to be set on a copy of a slice from a DataFrame.\n",
      "Try using .loc[row_indexer,col_indexer] = value instead\n",
      "\n",
      "See the caveats in the documentation: https://pandas.pydata.org/pandas-docs/stable/user_guide/indexing.html#returning-a-view-versus-a-copy\n",
      "  df_novo['Cargo'] = df_novo['Cargo'].apply(remove_accent_and_lower)\n"
     ]
    },
    {
     "data": {
      "text/html": [
       "<div>\n",
       "<style scoped>\n",
       "    .dataframe tbody tr th:only-of-type {\n",
       "        vertical-align: middle;\n",
       "    }\n",
       "\n",
       "    .dataframe tbody tr th {\n",
       "        vertical-align: top;\n",
       "    }\n",
       "\n",
       "    .dataframe thead th {\n",
       "        text-align: right;\n",
       "    }\n",
       "</style>\n",
       "<table border=\"1\" class=\"dataframe\">\n",
       "  <thead>\n",
       "    <tr style=\"text-align: right;\">\n",
       "      <th></th>\n",
       "      <th>Funcao</th>\n",
       "      <th>Localização</th>\n",
       "      <th>Skills Necessarias</th>\n",
       "      <th>Média Salarial</th>\n",
       "      <th>Cargo</th>\n",
       "    </tr>\n",
       "  </thead>\n",
       "  <tbody>\n",
       "    <tr>\n",
       "      <th>0</th>\n",
       "      <td>LawnStarter\\n4.4\\nSenior UX/Product Designer\\n...</td>\n",
       "      <td>Trabalho remoto</td>\n",
       "      <td>LawnStarter is the leading on-demand platform ...</td>\n",
       "      <td>R$ 60 mil – R$ 70 mil/ano (est. Empresa)</td>\n",
       "      <td>senior ux/product designer</td>\n",
       "    </tr>\n",
       "    <tr>\n",
       "      <th>1</th>\n",
       "      <td>Harris Corrections - Harris Computer Guardian ...</td>\n",
       "      <td>Trabalho remoto</td>\n",
       "      <td>Please send your CV in English\\nWHO WE ARE\\nHa...</td>\n",
       "      <td>R$ 10 mil – R$ 15 mil/mês (est. Empresa)</td>\n",
       "      <td>business analyst</td>\n",
       "    </tr>\n",
       "    <tr>\n",
       "      <th>2</th>\n",
       "      <td>BJ Centro de Terceirização\\nDesigner Digital\\n...</td>\n",
       "      <td>Curitiba</td>\n",
       "      <td>Vaga Incrível para Designer Criativo e Estraté...</td>\n",
       "      <td>R$ 4 mil/mês (est. Empresa)</td>\n",
       "      <td>designer digital</td>\n",
       "    </tr>\n",
       "    <tr>\n",
       "      <th>3</th>\n",
       "      <td>TOTVS\\n4.3\\nPessoa Desenvolvedora Front-End - ...</td>\n",
       "      <td>Joinville</td>\n",
       "      <td>Detalhes da vaga\\n\\n\\nAcreditamos no poder tra...</td>\n",
       "      <td>NF</td>\n",
       "      <td>pessoa desenvolvedora front-end - senior</td>\n",
       "    </tr>\n",
       "    <tr>\n",
       "      <th>4</th>\n",
       "      <td>Loja do Mecânico\\n3.9\\nANALISTA DE MARKETING E...</td>\n",
       "      <td>Barueri</td>\n",
       "      <td>Objetivo do cargo:\\n- Auxiliar na implementaçã...</td>\n",
       "      <td>R$ 2 mil – R$ 4 mil/mês (est. Empresa)</td>\n",
       "      <td>analista de marketing e performance pl</td>\n",
       "    </tr>\n",
       "  </tbody>\n",
       "</table>\n",
       "</div>"
      ],
      "text/plain": [
       "                                              Funcao      Localização  \\\n",
       "0  LawnStarter\\n4.4\\nSenior UX/Product Designer\\n...  Trabalho remoto   \n",
       "1  Harris Corrections - Harris Computer Guardian ...  Trabalho remoto   \n",
       "2  BJ Centro de Terceirização\\nDesigner Digital\\n...         Curitiba   \n",
       "3  TOTVS\\n4.3\\nPessoa Desenvolvedora Front-End - ...        Joinville   \n",
       "4  Loja do Mecânico\\n3.9\\nANALISTA DE MARKETING E...          Barueri   \n",
       "\n",
       "                                  Skills Necessarias  \\\n",
       "0  LawnStarter is the leading on-demand platform ...   \n",
       "1  Please send your CV in English\\nWHO WE ARE\\nHa...   \n",
       "2  Vaga Incrível para Designer Criativo e Estraté...   \n",
       "3  Detalhes da vaga\\n\\n\\nAcreditamos no poder tra...   \n",
       "4  Objetivo do cargo:\\n- Auxiliar na implementaçã...   \n",
       "\n",
       "                             Média Salarial  \\\n",
       "0  R$ 60 mil – R$ 70 mil/ano (est. Empresa)   \n",
       "1  R$ 10 mil – R$ 15 mil/mês (est. Empresa)   \n",
       "2               R$ 4 mil/mês (est. Empresa)   \n",
       "3                                        NF   \n",
       "4    R$ 2 mil – R$ 4 mil/mês (est. Empresa)   \n",
       "\n",
       "                                        Cargo  \n",
       "0                 senior ux/product designer   \n",
       "1                           business analyst   \n",
       "2                           designer digital   \n",
       "3   pessoa desenvolvedora front-end - senior   \n",
       "4     analista de marketing e performance pl   "
      ]
     },
     "execution_count": 8,
     "metadata": {},
     "output_type": "execute_result"
    }
   ],
   "source": [
    "import pandas as pd\n",
    "from unidecode import unidecode\n",
    "\n",
    "# Supondo que df seja o seu DataFrame com a coluna \"cargo\"\n",
    "# Substitua df pelo nome do seu DataFrame\n",
    "\n",
    "# Função para remover acentos e converter para minúsculas\n",
    "def remove_accent_and_lower(text):\n",
    "    text = unidecode(text)  # Remove acentos\n",
    "    return text.lower()     # Converte para minúsculas\n",
    "\n",
    "# Aplicar a função na coluna \"cargo\"\n",
    "df_novo['Cargo'] = df_novo['Cargo'].apply(remove_accent_and_lower)\n",
    "\n",
    "# Visualizar o DataFrame com os tratamentos aplicados na coluna \"cargo\"\n",
    "df_novo.head()\n"
   ]
  },
  {
   "cell_type": "code",
   "execution_count": 9,
   "metadata": {},
   "outputs": [
    {
     "name": "stderr",
     "output_type": "stream",
     "text": [
      "C:\\Users\\Inteli\\AppData\\Local\\Temp\\ipykernel_28572\\2690583390.py:1: SettingWithCopyWarning: \n",
      "A value is trying to be set on a copy of a slice from a DataFrame.\n",
      "Try using .loc[row_indexer,col_indexer] = value instead\n",
      "\n",
      "See the caveats in the documentation: https://pandas.pydata.org/pandas-docs/stable/user_guide/indexing.html#returning-a-view-versus-a-copy\n",
      "  df_novo['Cargo'] = df_novo['Cargo'].str.replace('/', ' / ')\n",
      "C:\\Users\\Inteli\\AppData\\Local\\Temp\\ipykernel_28572\\2690583390.py:2: SettingWithCopyWarning: \n",
      "A value is trying to be set on a copy of a slice from a DataFrame.\n",
      "Try using .loc[row_indexer,col_indexer] = value instead\n",
      "\n",
      "See the caveats in the documentation: https://pandas.pydata.org/pandas-docs/stable/user_guide/indexing.html#returning-a-view-versus-a-copy\n",
      "  df_novo['Cargo'] = df_novo['Cargo'].str.replace('|', ' | ')\n",
      "C:\\Users\\Inteli\\AppData\\Local\\Temp\\ipykernel_28572\\2690583390.py:3: SettingWithCopyWarning: \n",
      "A value is trying to be set on a copy of a slice from a DataFrame.\n",
      "Try using .loc[row_indexer,col_indexer] = value instead\n",
      "\n",
      "See the caveats in the documentation: https://pandas.pydata.org/pandas-docs/stable/user_guide/indexing.html#returning-a-view-versus-a-copy\n",
      "  df_novo['Cargo'] = df_novo['Cargo'].str.replace('t.i', 'ti')\n",
      "C:\\Users\\Inteli\\AppData\\Local\\Temp\\ipykernel_28572\\2690583390.py:4: SettingWithCopyWarning: \n",
      "A value is trying to be set on a copy of a slice from a DataFrame.\n",
      "Try using .loc[row_indexer,col_indexer] = value instead\n",
      "\n",
      "See the caveats in the documentation: https://pandas.pydata.org/pandas-docs/stable/user_guide/indexing.html#returning-a-view-versus-a-copy\n",
      "  df_novo['Cargo'] = df_novo['Cargo'].str.replace('q.a', 'qa')\n",
      "C:\\Users\\Inteli\\AppData\\Local\\Temp\\ipykernel_28572\\2690583390.py:5: SettingWithCopyWarning: \n",
      "A value is trying to be set on a copy of a slice from a DataFrame.\n",
      "Try using .loc[row_indexer,col_indexer] = value instead\n",
      "\n",
      "See the caveats in the documentation: https://pandas.pydata.org/pandas-docs/stable/user_guide/indexing.html#returning-a-view-versus-a-copy\n",
      "  df_novo['Cargo'] = df_novo['Cargo'].str.replace('.', ' . ')\n",
      "C:\\Users\\Inteli\\AppData\\Local\\Temp\\ipykernel_28572\\2690583390.py:6: SettingWithCopyWarning: \n",
      "A value is trying to be set on a copy of a slice from a DataFrame.\n",
      "Try using .loc[row_indexer,col_indexer] = value instead\n",
      "\n",
      "See the caveats in the documentation: https://pandas.pydata.org/pandas-docs/stable/user_guide/indexing.html#returning-a-view-versus-a-copy\n",
      "  df_novo['Cargo'] = df_novo['Cargo'].str.replace('(', ' ( ')\n",
      "C:\\Users\\Inteli\\AppData\\Local\\Temp\\ipykernel_28572\\2690583390.py:7: SettingWithCopyWarning: \n",
      "A value is trying to be set on a copy of a slice from a DataFrame.\n",
      "Try using .loc[row_indexer,col_indexer] = value instead\n",
      "\n",
      "See the caveats in the documentation: https://pandas.pydata.org/pandas-docs/stable/user_guide/indexing.html#returning-a-view-versus-a-copy\n",
      "  df_novo['Cargo'] = df_novo['Cargo'].str.replace(')', ' ) ')\n",
      "C:\\Users\\Inteli\\AppData\\Local\\Temp\\ipykernel_28572\\2690583390.py:8: SettingWithCopyWarning: \n",
      "A value is trying to be set on a copy of a slice from a DataFrame.\n",
      "Try using .loc[row_indexer,col_indexer] = value instead\n",
      "\n",
      "See the caveats in the documentation: https://pandas.pydata.org/pandas-docs/stable/user_guide/indexing.html#returning-a-view-versus-a-copy\n",
      "  df_novo['Cargo'] = df_novo['Cargo'].str.replace('[', ' [ ')\n",
      "C:\\Users\\Inteli\\AppData\\Local\\Temp\\ipykernel_28572\\2690583390.py:9: SettingWithCopyWarning: \n",
      "A value is trying to be set on a copy of a slice from a DataFrame.\n",
      "Try using .loc[row_indexer,col_indexer] = value instead\n",
      "\n",
      "See the caveats in the documentation: https://pandas.pydata.org/pandas-docs/stable/user_guide/indexing.html#returning-a-view-versus-a-copy\n",
      "  df_novo['Cargo'] = df_novo['Cargo'].str.replace(']', ' ] ')\n",
      "C:\\Users\\Inteli\\AppData\\Local\\Temp\\ipykernel_28572\\2690583390.py:10: SettingWithCopyWarning: \n",
      "A value is trying to be set on a copy of a slice from a DataFrame.\n",
      "Try using .loc[row_indexer,col_indexer] = value instead\n",
      "\n",
      "See the caveats in the documentation: https://pandas.pydata.org/pandas-docs/stable/user_guide/indexing.html#returning-a-view-versus-a-copy\n",
      "  df_novo['Cargo'] = df_novo['Cargo'].str.replace(':', ' : ')\n",
      "C:\\Users\\Inteli\\AppData\\Local\\Temp\\ipykernel_28572\\2690583390.py:11: SettingWithCopyWarning: \n",
      "A value is trying to be set on a copy of a slice from a DataFrame.\n",
      "Try using .loc[row_indexer,col_indexer] = value instead\n",
      "\n",
      "See the caveats in the documentation: https://pandas.pydata.org/pandas-docs/stable/user_guide/indexing.html#returning-a-view-versus-a-copy\n",
      "  df_novo['Cargo'] = df_novo['Cargo'].str.replace('-', ' - ')\n"
     ]
    },
    {
     "data": {
      "text/html": [
       "<div>\n",
       "<style scoped>\n",
       "    .dataframe tbody tr th:only-of-type {\n",
       "        vertical-align: middle;\n",
       "    }\n",
       "\n",
       "    .dataframe tbody tr th {\n",
       "        vertical-align: top;\n",
       "    }\n",
       "\n",
       "    .dataframe thead th {\n",
       "        text-align: right;\n",
       "    }\n",
       "</style>\n",
       "<table border=\"1\" class=\"dataframe\">\n",
       "  <thead>\n",
       "    <tr style=\"text-align: right;\">\n",
       "      <th></th>\n",
       "      <th>Funcao</th>\n",
       "      <th>Localização</th>\n",
       "      <th>Skills Necessarias</th>\n",
       "      <th>Média Salarial</th>\n",
       "      <th>Cargo</th>\n",
       "    </tr>\n",
       "  </thead>\n",
       "  <tbody>\n",
       "    <tr>\n",
       "      <th>38103</th>\n",
       "      <td>Smarthis\\n4.3\\nDesenvolvedor RPA Pleno\\nSão Paulo</td>\n",
       "      <td>São Paulo</td>\n",
       "      <td>Quem somos\\n\\nA Smarthis é uma Tech startup qu...</td>\n",
       "      <td>NF</td>\n",
       "      <td>desenvolvedor rpa pleno</td>\n",
       "    </tr>\n",
       "    <tr>\n",
       "      <th>38104</th>\n",
       "      <td>Netvagas\\n3.0\\nAnalista de sistemas pl - jundi...</td>\n",
       "      <td>Jundiaí</td>\n",
       "      <td>Descrição:\\nInglês intermediário\\nExperiência ...</td>\n",
       "      <td>NF</td>\n",
       "      <td>analista de sistemas pl  -  jundiai / sp</td>\n",
       "    </tr>\n",
       "    <tr>\n",
       "      <th>38105</th>\n",
       "      <td>Bianco Azure Home Care\\n4.3\\nTécnico de Enferm...</td>\n",
       "      <td>Americana</td>\n",
       "      <td>Responsabilidades: Home Care – Rotina pertinen...</td>\n",
       "      <td>NF</td>\n",
       "      <td>tecnico de enfermagem</td>\n",
       "    </tr>\n",
       "    <tr>\n",
       "      <th>38106</th>\n",
       "      <td>RPA Transportes e Logística LTDA\\n4.0\\nMotoris...</td>\n",
       "      <td>Jundiaí</td>\n",
       "      <td>Estamos com oportunidades para motoristas cate...</td>\n",
       "      <td>NF</td>\n",
       "      <td>motorista de caminhao  ( categoria d )</td>\n",
       "    </tr>\n",
       "    <tr>\n",
       "      <th>38107</th>\n",
       "      <td>Livelo Tech\\n4.4\\nAnalista Engenharia de Siste...</td>\n",
       "      <td>Barueri</td>\n",
       "      <td>Se você procura uma empresa com ambiente inova...</td>\n",
       "      <td>NF</td>\n",
       "      <td>analista engenharia de sistemas sr  ( tech le...</td>\n",
       "    </tr>\n",
       "  </tbody>\n",
       "</table>\n",
       "</div>"
      ],
      "text/plain": [
       "                                                  Funcao Localização  \\\n",
       "38103  Smarthis\\n4.3\\nDesenvolvedor RPA Pleno\\nSão Paulo   São Paulo   \n",
       "38104  Netvagas\\n3.0\\nAnalista de sistemas pl - jundi...     Jundiaí   \n",
       "38105  Bianco Azure Home Care\\n4.3\\nTécnico de Enferm...   Americana   \n",
       "38106  RPA Transportes e Logística LTDA\\n4.0\\nMotoris...     Jundiaí   \n",
       "38107  Livelo Tech\\n4.4\\nAnalista Engenharia de Siste...     Barueri   \n",
       "\n",
       "                                      Skills Necessarias Média Salarial  \\\n",
       "38103  Quem somos\\n\\nA Smarthis é uma Tech startup qu...             NF   \n",
       "38104  Descrição:\\nInglês intermediário\\nExperiência ...             NF   \n",
       "38105  Responsabilidades: Home Care – Rotina pertinen...             NF   \n",
       "38106  Estamos com oportunidades para motoristas cate...             NF   \n",
       "38107  Se você procura uma empresa com ambiente inova...             NF   \n",
       "\n",
       "                                                   Cargo  \n",
       "38103                           desenvolvedor rpa pleno   \n",
       "38104          analista de sistemas pl  -  jundiai / sp   \n",
       "38105                             tecnico de enfermagem   \n",
       "38106           motorista de caminhao  ( categoria d )    \n",
       "38107   analista engenharia de sistemas sr  ( tech le...  "
      ]
     },
     "execution_count": 9,
     "metadata": {},
     "output_type": "execute_result"
    }
   ],
   "source": [
    "df_novo['Cargo'] = df_novo['Cargo'].str.replace('/', ' / ')\n",
    "df_novo['Cargo'] = df_novo['Cargo'].str.replace('|', ' | ')\n",
    "df_novo['Cargo'] = df_novo['Cargo'].str.replace('t.i', 'ti')\n",
    "df_novo['Cargo'] = df_novo['Cargo'].str.replace('q.a', 'qa')\n",
    "df_novo['Cargo'] = df_novo['Cargo'].str.replace('.', ' . ')\n",
    "df_novo['Cargo'] = df_novo['Cargo'].str.replace('(', ' ( ')\n",
    "df_novo['Cargo'] = df_novo['Cargo'].str.replace(')', ' ) ')\n",
    "df_novo['Cargo'] = df_novo['Cargo'].str.replace('[', ' [ ')\n",
    "df_novo['Cargo'] = df_novo['Cargo'].str.replace(']', ' ] ')\n",
    "df_novo['Cargo'] = df_novo['Cargo'].str.replace(':', ' : ')\n",
    "df_novo['Cargo'] = df_novo['Cargo'].str.replace('-', ' - ')\n",
    "df_novo.tail()"
   ]
  },
  {
   "cell_type": "code",
   "execution_count": 10,
   "metadata": {},
   "outputs": [],
   "source": [
    "cargos = [' coach ', ' analista ', ' analyst ', ' arquiteto ', ' chief ', ' cientista ', ' consultor ', ' coordenador ', ' engenheiro ', ' diretor ', ' engineer ', ' especialista ', ' gerente ', ' hacker ', ' head ', ' lider ', ' lead ', ' owner ', ' officer ', ' auditor ', ' administrador ', ' master ', ' architect ', ' director ', ' scientist ', ' consultant ', ' coordinator ', ' specialist ', ' manager ', ' administrator ', ' dono ', ' tecnico ', ' designer ', ' technician ', ' assistente ', ' assistant ', ' technical ', ' developer ', ' testador ', ' desenvolvedor ', ' programador ', ' tester ', ' programmer ', ' desenvolvedora ', ' programadora ', ' testadora ', ' dev ', 'webdesiner', 'webdesign']\n",
    "palavras_chave = [' agile ', ' bi ', ' dados ', ' infraestrutura ', ' product ', ' redes ', ' security ', ' sistemas ', ' tecnologia ', ' banco ', ' nuvem ', ' data ', ' information ', ' ciso ', ' marketing ', ' erp ', ' projetos ', ' cto ', ' net ', ' back-end ', ' jogos ', ' big data ', ' front-end ', ' fullstack ', ' javascript ', ' python ', ' web ', ' plataforma ', ' software ', ' devops ', ' Fintech ', ' digital ', ' e-commerce ', ' desenvolvimento ', ' ia ', ' IOT ', ' growth ', ' ti ', ' entrega ', ' tech ', ' qualidade ', ' sre ', ' ux ', ' rpa ', ' mobile ', ' devsecops ', ' auditoria em TI ', ' java  ', ' php ', ' ruby ', ' node ', ' scrum ', ' business ', ' infrastructure ', ' produto ', ' segurança ', ' system ', ' technology ', ' base ', ' cloud ', ' cio ', ' sap ', ' project ', ' dotnet ', ' back ', ' games ', ' front ', ' full ', ' js ', ' platform ', ' comercio ', ' development ', ' inteligência ', ' internet ', ' crescimento ', ' delivery ', ' helpdesk ', ' confiabiliadade ', ' ui ', ' robotic ', ' protection ', ' network ', ' ios ', ' auditoria de TI ', ' node.js ', ' palavra-chave 3 ', ' intelligence ', ' analytics ', ' suporte ', ' cdo ', ' protheus ', ' end ', ' stack ', ' artificial ', ' things ', ' qa ', ' site ', ' user ', ' ciência ', ' engenharia ', ' process  ', ' proteção ', ' android ', ' informação ', ' suport ', ' oracle ', ' backend ', ' frontend ', ' full-stack ', ' coisas ', ' quality ', ' reliability ', ' experience ', ' science ', ' engineering ', ' automation ', ' native ', ' empresarial ', ' cibernetica ', ' react ', ' teste ', ' pentester ', ' help ', ' angular ', ' test ', ' web3 ', ' blockchain ', ' aws ', ' azure ', ' gcp ', ' go ', ' testes', ' sql ', ' dba ', ' etl ', ' experiencia do usuario ', ' chatbot ', ' c# ', ' net ', ' java  ', ' support ', ' database ', ' field application ', ' linux ', ' microsoft ', ' programacao ', ' informatica', ' it ']\n",
    "nivel = [' junior ', ' jr ', ' pleno ', ' pl ', ' senior ', ' sr ', ' 1 ', ' 2 ', ' 3 ', ' 4 ', ' 5 ', ' 6 ', ' 7 ', ' 8 ', ' i ', ' ii ', ' iii ', ' iv ', ' v ', ' middle ', ' estagio ', ' intern ', ' auxiliar ']\n",
    "cargos_tech = [' developer ', ' testador ', ' desenvolvedor ', ' programador ', ' tester ', ' programmer ', ' desenvolvedora ', ' programadora ', ' testadora ', ' dev ']"
   ]
  },
  {
   "cell_type": "code",
   "execution_count": 11,
   "metadata": {},
   "outputs": [],
   "source": [
    "cargos_corrigidos = [remove_accent_and_lower(cargo) for cargo in cargos]\n",
    "palavras_chave_corrigidas = [remove_accent_and_lower(palavra) for palavra in palavras_chave]\n",
    "nivel_corrigido = [remove_accent_and_lower(n) for n in nivel]\n",
    "cargos_tech_corrigidos = [remove_accent_and_lower(cargo_tech) for cargo_tech in cargos_tech]"
   ]
  },
  {
   "cell_type": "code",
   "execution_count": 12,
   "metadata": {},
   "outputs": [
    {
     "name": "stderr",
     "output_type": "stream",
     "text": [
      "C:\\Users\\Inteli\\AppData\\Local\\Temp\\ipykernel_28572\\3593202226.py:7: SettingWithCopyWarning: \n",
      "A value is trying to be set on a copy of a slice from a DataFrame.\n",
      "Try using .loc[row_indexer,col_indexer] = value instead\n",
      "\n",
      "See the caveats in the documentation: https://pandas.pydata.org/pandas-docs/stable/user_guide/indexing.html#returning-a-view-versus-a-copy\n",
      "  df_novo['ver_cargo'] = df_novo['Cargo'].apply(lambda x: verificar_palavras_chave(x, cargos_corrigidos))\n",
      "C:\\Users\\Inteli\\AppData\\Local\\Temp\\ipykernel_28572\\3593202226.py:8: SettingWithCopyWarning: \n",
      "A value is trying to be set on a copy of a slice from a DataFrame.\n",
      "Try using .loc[row_indexer,col_indexer] = value instead\n",
      "\n",
      "See the caveats in the documentation: https://pandas.pydata.org/pandas-docs/stable/user_guide/indexing.html#returning-a-view-versus-a-copy\n",
      "  df_novo['palavra_chave'] = df_novo['Cargo'].apply(lambda x: verificar_palavras_chave(x, palavras_chave_corrigidas))\n",
      "C:\\Users\\Inteli\\AppData\\Local\\Temp\\ipykernel_28572\\3593202226.py:9: SettingWithCopyWarning: \n",
      "A value is trying to be set on a copy of a slice from a DataFrame.\n",
      "Try using .loc[row_indexer,col_indexer] = value instead\n",
      "\n",
      "See the caveats in the documentation: https://pandas.pydata.org/pandas-docs/stable/user_guide/indexing.html#returning-a-view-versus-a-copy\n",
      "  df_novo['nivel'] = df_novo['Cargo'].apply(lambda x: verificar_palavras_chave(x, nivel_corrigido))\n"
     ]
    },
    {
     "data": {
      "text/html": [
       "<div>\n",
       "<style scoped>\n",
       "    .dataframe tbody tr th:only-of-type {\n",
       "        vertical-align: middle;\n",
       "    }\n",
       "\n",
       "    .dataframe tbody tr th {\n",
       "        vertical-align: top;\n",
       "    }\n",
       "\n",
       "    .dataframe thead th {\n",
       "        text-align: right;\n",
       "    }\n",
       "</style>\n",
       "<table border=\"1\" class=\"dataframe\">\n",
       "  <thead>\n",
       "    <tr style=\"text-align: right;\">\n",
       "      <th></th>\n",
       "      <th>Funcao</th>\n",
       "      <th>Localização</th>\n",
       "      <th>Skills Necessarias</th>\n",
       "      <th>Média Salarial</th>\n",
       "      <th>Cargo</th>\n",
       "      <th>ver_cargo</th>\n",
       "      <th>palavra_chave</th>\n",
       "      <th>nivel</th>\n",
       "      <th>cargos_tech</th>\n",
       "    </tr>\n",
       "  </thead>\n",
       "  <tbody>\n",
       "    <tr>\n",
       "      <th>0</th>\n",
       "      <td>LawnStarter\\n4.4\\nSenior UX/Product Designer\\n...</td>\n",
       "      <td>Trabalho remoto</td>\n",
       "      <td>LawnStarter is the leading on-demand platform ...</td>\n",
       "      <td>R$ 60 mil – R$ 70 mil/ano (est. Empresa)</td>\n",
       "      <td>senior ux / product designer</td>\n",
       "      <td>[ designer ]</td>\n",
       "      <td>[ product ,  ux ]</td>\n",
       "      <td>[ senior ]</td>\n",
       "      <td>[Outros]</td>\n",
       "    </tr>\n",
       "    <tr>\n",
       "      <th>1</th>\n",
       "      <td>Harris Corrections - Harris Computer Guardian ...</td>\n",
       "      <td>Trabalho remoto</td>\n",
       "      <td>Please send your CV in English\\nWHO WE ARE\\nHa...</td>\n",
       "      <td>R$ 10 mil – R$ 15 mil/mês (est. Empresa)</td>\n",
       "      <td>business analyst</td>\n",
       "      <td>[ analyst ]</td>\n",
       "      <td>[ business ]</td>\n",
       "      <td>[Outros]</td>\n",
       "      <td>[Outros]</td>\n",
       "    </tr>\n",
       "    <tr>\n",
       "      <th>2</th>\n",
       "      <td>BJ Centro de Terceirização\\nDesigner Digital\\n...</td>\n",
       "      <td>Curitiba</td>\n",
       "      <td>Vaga Incrível para Designer Criativo e Estraté...</td>\n",
       "      <td>R$ 4 mil/mês (est. Empresa)</td>\n",
       "      <td>designer digital</td>\n",
       "      <td>[ designer ]</td>\n",
       "      <td>[ digital ]</td>\n",
       "      <td>[Outros]</td>\n",
       "      <td>[Outros]</td>\n",
       "    </tr>\n",
       "    <tr>\n",
       "      <th>3</th>\n",
       "      <td>TOTVS\\n4.3\\nPessoa Desenvolvedora Front-End - ...</td>\n",
       "      <td>Joinville</td>\n",
       "      <td>Detalhes da vaga\\n\\n\\nAcreditamos no poder tra...</td>\n",
       "      <td>NF</td>\n",
       "      <td>pessoa desenvolvedora front - end  -  senior</td>\n",
       "      <td>[ desenvolvedora ]</td>\n",
       "      <td>[ front ,  end ]</td>\n",
       "      <td>[ senior ]</td>\n",
       "      <td>[ desenvolvedora ]</td>\n",
       "    </tr>\n",
       "    <tr>\n",
       "      <th>4</th>\n",
       "      <td>Loja do Mecânico\\n3.9\\nANALISTA DE MARKETING E...</td>\n",
       "      <td>Barueri</td>\n",
       "      <td>Objetivo do cargo:\\n- Auxiliar na implementaçã...</td>\n",
       "      <td>R$ 2 mil – R$ 4 mil/mês (est. Empresa)</td>\n",
       "      <td>analista de marketing e performance pl</td>\n",
       "      <td>[ analista ]</td>\n",
       "      <td>[ marketing ]</td>\n",
       "      <td>[ pl ]</td>\n",
       "      <td>[Outros]</td>\n",
       "    </tr>\n",
       "  </tbody>\n",
       "</table>\n",
       "</div>"
      ],
      "text/plain": [
       "                                              Funcao      Localização  \\\n",
       "0  LawnStarter\\n4.4\\nSenior UX/Product Designer\\n...  Trabalho remoto   \n",
       "1  Harris Corrections - Harris Computer Guardian ...  Trabalho remoto   \n",
       "2  BJ Centro de Terceirização\\nDesigner Digital\\n...         Curitiba   \n",
       "3  TOTVS\\n4.3\\nPessoa Desenvolvedora Front-End - ...        Joinville   \n",
       "4  Loja do Mecânico\\n3.9\\nANALISTA DE MARKETING E...          Barueri   \n",
       "\n",
       "                                  Skills Necessarias  \\\n",
       "0  LawnStarter is the leading on-demand platform ...   \n",
       "1  Please send your CV in English\\nWHO WE ARE\\nHa...   \n",
       "2  Vaga Incrível para Designer Criativo e Estraté...   \n",
       "3  Detalhes da vaga\\n\\n\\nAcreditamos no poder tra...   \n",
       "4  Objetivo do cargo:\\n- Auxiliar na implementaçã...   \n",
       "\n",
       "                             Média Salarial  \\\n",
       "0  R$ 60 mil – R$ 70 mil/ano (est. Empresa)   \n",
       "1  R$ 10 mil – R$ 15 mil/mês (est. Empresa)   \n",
       "2               R$ 4 mil/mês (est. Empresa)   \n",
       "3                                        NF   \n",
       "4    R$ 2 mil – R$ 4 mil/mês (est. Empresa)   \n",
       "\n",
       "                                            Cargo           ver_cargo  \\\n",
       "0                   senior ux / product designer         [ designer ]   \n",
       "1                               business analyst          [ analyst ]   \n",
       "2                               designer digital         [ designer ]   \n",
       "3   pessoa desenvolvedora front - end  -  senior   [ desenvolvedora ]   \n",
       "4         analista de marketing e performance pl         [ analista ]   \n",
       "\n",
       "       palavra_chave       nivel         cargos_tech  \n",
       "0  [ product ,  ux ]  [ senior ]            [Outros]  \n",
       "1       [ business ]    [Outros]            [Outros]  \n",
       "2        [ digital ]    [Outros]            [Outros]  \n",
       "3   [ front ,  end ]  [ senior ]  [ desenvolvedora ]  \n",
       "4      [ marketing ]      [ pl ]            [Outros]  "
      ]
     },
     "execution_count": 12,
     "metadata": {},
     "output_type": "execute_result"
    }
   ],
   "source": [
    "# Função para verificar a presença de palavras-chave\n",
    "def verificar_palavras_chave(cargo, palavras_chave):\n",
    "    encontradas = [palavra for palavra in palavras_chave if palavra.lower() in cargo.lower()]\n",
    "    return encontradas if encontradas else ['Outros']\n",
    "\n",
    "# Aplicar a função à coluna \"Cargo\"\n",
    "df_novo['ver_cargo'] = df_novo['Cargo'].apply(lambda x: verificar_palavras_chave(x, cargos_corrigidos))\n",
    "df_novo['palavra_chave'] = df_novo['Cargo'].apply(lambda x: verificar_palavras_chave(x, palavras_chave_corrigidas))\n",
    "df_novo['nivel'] = df_novo['Cargo'].apply(lambda x: verificar_palavras_chave(x, nivel_corrigido))\n",
    "df_novo['cargos_tech'] = df_novo['Cargo'].apply(lambda x: verificar_palavras_chave(x, cargos_tech_corrigidos))\n",
    "\n",
    "df_novo.head()"
   ]
  },
  {
   "cell_type": "code",
   "execution_count": 13,
   "metadata": {},
   "outputs": [],
   "source": [
    "df_novo['ver_cargo'] = df_novo['ver_cargo'].apply(lambda x: ', '.join(x))\n",
    "df_novo['palavra_chave'] = df_novo['palavra_chave'].apply(lambda x: ', '.join(x))\n",
    "df_novo['nivel'] = df_novo['nivel'].apply(lambda x: ', '.join(x))\n",
    "df_novo['cargos_tech'] = df_novo['cargos_tech'].apply(lambda x: ', '.join(x))"
   ]
  },
  {
   "cell_type": "code",
   "execution_count": 14,
   "metadata": {},
   "outputs": [
    {
     "data": {
      "text/html": [
       "<div>\n",
       "<style scoped>\n",
       "    .dataframe tbody tr th:only-of-type {\n",
       "        vertical-align: middle;\n",
       "    }\n",
       "\n",
       "    .dataframe tbody tr th {\n",
       "        vertical-align: top;\n",
       "    }\n",
       "\n",
       "    .dataframe thead th {\n",
       "        text-align: right;\n",
       "    }\n",
       "</style>\n",
       "<table border=\"1\" class=\"dataframe\">\n",
       "  <thead>\n",
       "    <tr style=\"text-align: right;\">\n",
       "      <th></th>\n",
       "      <th>Funcao</th>\n",
       "      <th>Localização</th>\n",
       "      <th>Skills Necessarias</th>\n",
       "      <th>Média Salarial</th>\n",
       "      <th>Cargo</th>\n",
       "      <th>ver_cargo</th>\n",
       "      <th>palavra_chave</th>\n",
       "      <th>nivel</th>\n",
       "      <th>cargos_tech</th>\n",
       "    </tr>\n",
       "  </thead>\n",
       "  <tbody>\n",
       "    <tr>\n",
       "      <th>0</th>\n",
       "      <td>LawnStarter\\n4.4\\nSenior UX/Product Designer\\n...</td>\n",
       "      <td>Trabalho remoto</td>\n",
       "      <td>LawnStarter is the leading on-demand platform ...</td>\n",
       "      <td>R$ 60 mil – R$ 70 mil/ano (est. Empresa)</td>\n",
       "      <td>senior ux / product designer</td>\n",
       "      <td>designer</td>\n",
       "      <td>product ,  ux</td>\n",
       "      <td>senior</td>\n",
       "      <td>Outros</td>\n",
       "    </tr>\n",
       "    <tr>\n",
       "      <th>1</th>\n",
       "      <td>Harris Corrections - Harris Computer Guardian ...</td>\n",
       "      <td>Trabalho remoto</td>\n",
       "      <td>Please send your CV in English\\nWHO WE ARE\\nHa...</td>\n",
       "      <td>R$ 10 mil – R$ 15 mil/mês (est. Empresa)</td>\n",
       "      <td>business analyst</td>\n",
       "      <td>analyst</td>\n",
       "      <td>business</td>\n",
       "      <td>Outros</td>\n",
       "      <td>Outros</td>\n",
       "    </tr>\n",
       "    <tr>\n",
       "      <th>2</th>\n",
       "      <td>BJ Centro de Terceirização\\nDesigner Digital\\n...</td>\n",
       "      <td>Curitiba</td>\n",
       "      <td>Vaga Incrível para Designer Criativo e Estraté...</td>\n",
       "      <td>R$ 4 mil/mês (est. Empresa)</td>\n",
       "      <td>designer digital</td>\n",
       "      <td>designer</td>\n",
       "      <td>digital</td>\n",
       "      <td>Outros</td>\n",
       "      <td>Outros</td>\n",
       "    </tr>\n",
       "    <tr>\n",
       "      <th>3</th>\n",
       "      <td>TOTVS\\n4.3\\nPessoa Desenvolvedora Front-End - ...</td>\n",
       "      <td>Joinville</td>\n",
       "      <td>Detalhes da vaga\\n\\n\\nAcreditamos no poder tra...</td>\n",
       "      <td>NF</td>\n",
       "      <td>pessoa desenvolvedora front - end  -  senior</td>\n",
       "      <td>desenvolvedora</td>\n",
       "      <td>front ,  end</td>\n",
       "      <td>senior</td>\n",
       "      <td>desenvolvedora</td>\n",
       "    </tr>\n",
       "    <tr>\n",
       "      <th>4</th>\n",
       "      <td>Loja do Mecânico\\n3.9\\nANALISTA DE MARKETING E...</td>\n",
       "      <td>Barueri</td>\n",
       "      <td>Objetivo do cargo:\\n- Auxiliar na implementaçã...</td>\n",
       "      <td>R$ 2 mil – R$ 4 mil/mês (est. Empresa)</td>\n",
       "      <td>analista de marketing e performance pl</td>\n",
       "      <td>analista</td>\n",
       "      <td>marketing</td>\n",
       "      <td>pl</td>\n",
       "      <td>Outros</td>\n",
       "    </tr>\n",
       "  </tbody>\n",
       "</table>\n",
       "</div>"
      ],
      "text/plain": [
       "                                              Funcao      Localização  \\\n",
       "0  LawnStarter\\n4.4\\nSenior UX/Product Designer\\n...  Trabalho remoto   \n",
       "1  Harris Corrections - Harris Computer Guardian ...  Trabalho remoto   \n",
       "2  BJ Centro de Terceirização\\nDesigner Digital\\n...         Curitiba   \n",
       "3  TOTVS\\n4.3\\nPessoa Desenvolvedora Front-End - ...        Joinville   \n",
       "4  Loja do Mecânico\\n3.9\\nANALISTA DE MARKETING E...          Barueri   \n",
       "\n",
       "                                  Skills Necessarias  \\\n",
       "0  LawnStarter is the leading on-demand platform ...   \n",
       "1  Please send your CV in English\\nWHO WE ARE\\nHa...   \n",
       "2  Vaga Incrível para Designer Criativo e Estraté...   \n",
       "3  Detalhes da vaga\\n\\n\\nAcreditamos no poder tra...   \n",
       "4  Objetivo do cargo:\\n- Auxiliar na implementaçã...   \n",
       "\n",
       "                             Média Salarial  \\\n",
       "0  R$ 60 mil – R$ 70 mil/ano (est. Empresa)   \n",
       "1  R$ 10 mil – R$ 15 mil/mês (est. Empresa)   \n",
       "2               R$ 4 mil/mês (est. Empresa)   \n",
       "3                                        NF   \n",
       "4    R$ 2 mil – R$ 4 mil/mês (est. Empresa)   \n",
       "\n",
       "                                            Cargo         ver_cargo  \\\n",
       "0                   senior ux / product designer          designer    \n",
       "1                               business analyst           analyst    \n",
       "2                               designer digital          designer    \n",
       "3   pessoa desenvolvedora front - end  -  senior    desenvolvedora    \n",
       "4         analista de marketing e performance pl          analista    \n",
       "\n",
       "     palavra_chave     nivel       cargos_tech  \n",
       "0   product ,  ux    senior             Outros  \n",
       "1        business     Outros            Outros  \n",
       "2         digital     Outros            Outros  \n",
       "3    front ,  end    senior    desenvolvedora   \n",
       "4       marketing        pl             Outros  "
      ]
     },
     "execution_count": 14,
     "metadata": {},
     "output_type": "execute_result"
    }
   ],
   "source": [
    "df_novo.head()"
   ]
  },
  {
   "cell_type": "code",
   "execution_count": 15,
   "metadata": {},
   "outputs": [],
   "source": [
    "condicao_outros = (df_novo['cargos_tech'] == 'Outros') & (df_novo['palavra_chave'] == 'Outros')\n",
    "df_outros = df_novo[condicao_outros]\n",
    "df_tech = df_novo[~condicao_outros]"
   ]
  },
  {
   "cell_type": "code",
   "execution_count": 16,
   "metadata": {},
   "outputs": [
    {
     "name": "stdout",
     "output_type": "stream",
     "text": [
      "<class 'pandas.core.frame.DataFrame'>\n",
      "Index: 13342 entries, 9 to 38106\n",
      "Data columns (total 9 columns):\n",
      " #   Column              Non-Null Count  Dtype \n",
      "---  ------              --------------  ----- \n",
      " 0   Funcao              13342 non-null  object\n",
      " 1   Localização         13338 non-null  object\n",
      " 2   Skills Necessarias  13342 non-null  object\n",
      " 3   Média Salarial      13243 non-null  object\n",
      " 4   Cargo               13342 non-null  object\n",
      " 5   ver_cargo           13342 non-null  object\n",
      " 6   palavra_chave       13342 non-null  object\n",
      " 7   nivel               13342 non-null  object\n",
      " 8   cargos_tech         13342 non-null  object\n",
      "dtypes: object(9)\n",
      "memory usage: 1.0+ MB\n"
     ]
    }
   ],
   "source": [
    "df_outros.info()"
   ]
  },
  {
   "cell_type": "code",
   "execution_count": 17,
   "metadata": {},
   "outputs": [],
   "source": [
    "df_outros_reduzido = df_outros[['Cargo', 'palavra_chave', 'cargos_tech']]"
   ]
  },
  {
   "cell_type": "code",
   "execution_count": 18,
   "metadata": {},
   "outputs": [],
   "source": [
    "df_outros_reduzido.to_csv('df_outros_2.csv', index = False)"
   ]
  },
  {
   "cell_type": "code",
   "execution_count": 19,
   "metadata": {},
   "outputs": [],
   "source": [
    "df_tech.to_csv('df_tech_2.csv', columns=['Cargo', 'palavra_chave', 'cargos_tech'], index = False)"
   ]
  },
  {
   "cell_type": "code",
   "execution_count": 20,
   "metadata": {},
   "outputs": [
    {
     "name": "stdout",
     "output_type": "stream",
     "text": [
      "<class 'pandas.core.frame.DataFrame'>\n",
      "Index: 24766 entries, 0 to 38107\n",
      "Data columns (total 9 columns):\n",
      " #   Column              Non-Null Count  Dtype \n",
      "---  ------              --------------  ----- \n",
      " 0   Funcao              24766 non-null  object\n",
      " 1   Localização         24766 non-null  object\n",
      " 2   Skills Necessarias  24766 non-null  object\n",
      " 3   Média Salarial      24161 non-null  object\n",
      " 4   Cargo               24766 non-null  object\n",
      " 5   ver_cargo           24766 non-null  object\n",
      " 6   palavra_chave       24766 non-null  object\n",
      " 7   nivel               24766 non-null  object\n",
      " 8   cargos_tech         24766 non-null  object\n",
      "dtypes: object(9)\n",
      "memory usage: 1.9+ MB\n"
     ]
    }
   ],
   "source": [
    "df_tech.info()"
   ]
  },
  {
   "cell_type": "code",
   "execution_count": 21,
   "metadata": {},
   "outputs": [],
   "source": [
    "areas_dict = {\n",
    "    ' .net ': [' dotnet ', ' net '],\n",
    "    ' agile ': [' agile ', ' scrum '],\n",
    "    ' angular ': [' angular '],\n",
    "    ' auditoria em TI ': [' auditoria em TI ', ' auditoria de TI ', ' audit '],\n",
    "    ' back-end ': [' back-end ', ' back end ', ' backend '],\n",
    "    ' banco de dados ': [' database ', ' banco de dados '],\n",
    "    ' bi ': [' bi ', ' business intelligence ', ' inteligência empresarial '],\n",
    "    ' big data ': [' big data '],\n",
    "    ' blockchain ': [' blockchain ', ' web3 '],\n",
    "    ' c# ': [' c# '],\n",
    "    ' cdo ': [' cdo ', ' chief data officer '],\n",
    "    ' chatbot ': [' chatbot '],\n",
    "    ' ciencia de dados ': [' data science ', ' ciencia de dados '],\n",
    "    ' cio ': [' cio ', ' chief information officer '],\n",
    "    ' ciso ': [' ciso ', ' chief information security officer '],\n",
    "    ' cto ': [' cto ', ' chief technology officer '],\n",
    "    ' dados ': [' dados ', ' data ', ' analytics ', ' sql '],\n",
    "    ' dba ': [' dba '],\n",
    "    ' desenvolvedor ': [' desenvolvedor ', ' developer ', ' programador ', ' programmer ', ' software engineer ', ' engenheiro de software ', ' desenvolvimento ', ' development ', ' programacao ', ' software engineering ', ' desenvolvedora ', ' platform engineer ', ' engenheiro de sistemas ', ' system engineer ', ' engenheira de software ', ' engenheira de sistemas ', ' engenharia de software ', ' engineering manager '],\n",
    "    ' devops ': [' devops '],\n",
    "    ' devsecops ': [' devsecops '],\n",
    "    ' transformacao digital ': [' transformacao digital '],\n",
    "    ' engenharia de dados ': [' data engineering ', ' engenharia de dados ', ' etl '],\n",
    "    ' entrega ': [' entrega ', ' delivery '],\n",
    "    ' erp ': [' erp ', ' sap ', ' protheus ', ' oracle ', ' salesforce '],\n",
    "    ' front-end ': [' front-end ', ' front end ', ' frontend '],\n",
    "    ' fullstack ': [' fullstack ', ' full stack ', ' full-stack '],\n",
    "    ' go ': [' go ', ' golang '],\n",
    "    ' ia ': [' ia ', ' inteligência ', ' artificial '],\n",
    "    ' infraestrutura de ti ': [' infraestrutura ', ' infrastructure '],\n",
    "    ' iot ': [' iot ', ' internet of things ', ' internet das coisas '],\n",
    "    ' java  ': [' java ', ' java  '],\n",
    "    ' javascript ': [' javascript ', ' js '],\n",
    "    ' jogos ': [' jogos ', ' games '],\n",
    "    ' mobile ': [' mobile ', ' ios ', ' android ', ' native '],\n",
    "    ' node ': [' node ', ' node.js '],\n",
    "    ' nuvem ': [' nuvem ', ' cloud ', ' aws ', ' azure ', ' gcp '],\n",
    "    ' php ': [' php '],\n",
    "    ' produto ': [' product ', ' produto ', ' requisitos ', ' requirements ', ' po '],\n",
    "    ' projetos ': [' projetos ', ' project ', ' projeto '],\n",
    "    ' protecao de dados ': [' protecao de dados ', ' data protection '],\n",
    "    ' python ': [' python '],\n",
    "    ' qa ': [' qualidade ', ' qa ', ' quality ', ' teste ', ' test ', ' testes ', ' tester ', ' sqa '],\n",
    "    ' react ': [' react '],\n",
    "    ' redes ': [' redes ', ' network ', ' tcp '],\n",
    "    ' rpa ': [' rpa ', ' robotic process automation '],\n",
    "    ' ruby ': [' ruby '],\n",
    "    ' seguranca da informacao ': [' cybersegurity ', ' seguranca da informacao ', ' seguranca cibernetica ', ' pentester ', ' information security ', ' cyber security ', ' cyber seguranca ', ' seguranca informacao '],\n",
    "    ' sistemas operacionais ': [' linux ', ' microsoft ', ' sistemas operacionais ', ' operating system ', ' operating systems ', ' sistema operacional '],\n",
    "    ' sre ': [' sre ', ' site reliability ', ' confiabilidade '],\n",
    "    ' suporte ': [' suport ', ' helpdesk ', ' suporte ', ' support ', ' field application ', ' help desk '],\n",
    "    ' tech lead ': [' tech lead ', ' lider tecnico ', ' technical lead ', ' tech leader '],\n",
    "    ' ti ': [' ti ', ' technology ', ' tecnologia ', ' it ', ' tech '],\n",
    "    ' ux ': [' ux ', ' ui ', ' user experience ', ' experiencia do usuario ', ' design digital ', ' designer digital '],\n",
    "    ' web designer ': [' web designer ', ' webdesigner ', ' web design ', ' designe web '],\n",
    "    ' automacao ': [' automacao '],\n",
    "    ' arquitetura de software ': [' arquitetura de software ', ' arquiteto de software ', ' arquiteto software ', ' software archtect ', ' arquiteto de sistemas ', ' system archtect ', ' arquiteta de sistemas ', ' arquiteta de softeare '],\n",
    "    ' analista de sistemas ': [' analista de sistemas ', ' system analyst ', ' coordenadora de sistemas ', ' system coordinator ', ' coordenadora de sistemas ', ' especialista de sistemas ', ' system specialist ', ' analise de sistemas '],\n",
    "    ' implantacao de sistemas ': [' implantacao de sistemas ', ' system implatation ', ' system embedding ', ' integracao de sistemas ', ' system integration ', ' implantador de software '],\n",
    "    ' tecnico em informatica ': [' tecnico em informatica ', ' tecnico de informatica '],\n",
    "}"
   ]
  },
  {
   "cell_type": "code",
   "execution_count": 22,
   "metadata": {},
   "outputs": [],
   "source": [
    "def encontrar_areas(cargo, dicionario):\n",
    "    areas_encontradas = []\n",
    "    for area, palavras in dicionario.items():\n",
    "        if any(palavra in cargo for palavra in palavras):\n",
    "            areas_encontradas.append(area)\n",
    "    if areas_encontradas:\n",
    "        return ', '.join(areas_encontradas)\n",
    "    return 'Indefinida'\n"
   ]
  },
  {
   "cell_type": "code",
   "execution_count": 23,
   "metadata": {},
   "outputs": [
    {
     "name": "stderr",
     "output_type": "stream",
     "text": [
      "C:\\Users\\Inteli\\AppData\\Local\\Temp\\ipykernel_28572\\2572205875.py:1: SettingWithCopyWarning: \n",
      "A value is trying to be set on a copy of a slice from a DataFrame.\n",
      "Try using .loc[row_indexer,col_indexer] = value instead\n",
      "\n",
      "See the caveats in the documentation: https://pandas.pydata.org/pandas-docs/stable/user_guide/indexing.html#returning-a-view-versus-a-copy\n",
      "  df_tech['area'] = df_tech['Cargo'].apply(lambda x: encontrar_areas(x, areas_dict))\n"
     ]
    }
   ],
   "source": [
    "df_tech['area'] = df_tech['Cargo'].apply(lambda x: encontrar_areas(x, areas_dict))\n"
   ]
  },
  {
   "cell_type": "code",
   "execution_count": 24,
   "metadata": {},
   "outputs": [
    {
     "data": {
      "text/html": [
       "<div>\n",
       "<style scoped>\n",
       "    .dataframe tbody tr th:only-of-type {\n",
       "        vertical-align: middle;\n",
       "    }\n",
       "\n",
       "    .dataframe tbody tr th {\n",
       "        vertical-align: top;\n",
       "    }\n",
       "\n",
       "    .dataframe thead th {\n",
       "        text-align: right;\n",
       "    }\n",
       "</style>\n",
       "<table border=\"1\" class=\"dataframe\">\n",
       "  <thead>\n",
       "    <tr style=\"text-align: right;\">\n",
       "      <th></th>\n",
       "      <th>Funcao</th>\n",
       "      <th>Localização</th>\n",
       "      <th>Skills Necessarias</th>\n",
       "      <th>Média Salarial</th>\n",
       "      <th>Cargo</th>\n",
       "      <th>ver_cargo</th>\n",
       "      <th>palavra_chave</th>\n",
       "      <th>nivel</th>\n",
       "      <th>cargos_tech</th>\n",
       "      <th>area</th>\n",
       "    </tr>\n",
       "  </thead>\n",
       "  <tbody>\n",
       "    <tr>\n",
       "      <th>0</th>\n",
       "      <td>LawnStarter\\n4.4\\nSenior UX/Product Designer\\n...</td>\n",
       "      <td>Trabalho remoto</td>\n",
       "      <td>LawnStarter is the leading on-demand platform ...</td>\n",
       "      <td>R$ 60 mil – R$ 70 mil/ano (est. Empresa)</td>\n",
       "      <td>senior ux / product designer</td>\n",
       "      <td>designer</td>\n",
       "      <td>product ,  ux</td>\n",
       "      <td>senior</td>\n",
       "      <td>Outros</td>\n",
       "      <td>produto ,  ux</td>\n",
       "    </tr>\n",
       "    <tr>\n",
       "      <th>1</th>\n",
       "      <td>Harris Corrections - Harris Computer Guardian ...</td>\n",
       "      <td>Trabalho remoto</td>\n",
       "      <td>Please send your CV in English\\nWHO WE ARE\\nHa...</td>\n",
       "      <td>R$ 10 mil – R$ 15 mil/mês (est. Empresa)</td>\n",
       "      <td>business analyst</td>\n",
       "      <td>analyst</td>\n",
       "      <td>business</td>\n",
       "      <td>Outros</td>\n",
       "      <td>Outros</td>\n",
       "      <td>Indefinida</td>\n",
       "    </tr>\n",
       "    <tr>\n",
       "      <th>2</th>\n",
       "      <td>BJ Centro de Terceirização\\nDesigner Digital\\n...</td>\n",
       "      <td>Curitiba</td>\n",
       "      <td>Vaga Incrível para Designer Criativo e Estraté...</td>\n",
       "      <td>R$ 4 mil/mês (est. Empresa)</td>\n",
       "      <td>designer digital</td>\n",
       "      <td>designer</td>\n",
       "      <td>digital</td>\n",
       "      <td>Outros</td>\n",
       "      <td>Outros</td>\n",
       "      <td>ux</td>\n",
       "    </tr>\n",
       "    <tr>\n",
       "      <th>3</th>\n",
       "      <td>TOTVS\\n4.3\\nPessoa Desenvolvedora Front-End - ...</td>\n",
       "      <td>Joinville</td>\n",
       "      <td>Detalhes da vaga\\n\\n\\nAcreditamos no poder tra...</td>\n",
       "      <td>NF</td>\n",
       "      <td>pessoa desenvolvedora front - end  -  senior</td>\n",
       "      <td>desenvolvedora</td>\n",
       "      <td>front ,  end</td>\n",
       "      <td>senior</td>\n",
       "      <td>desenvolvedora</td>\n",
       "      <td>desenvolvedor</td>\n",
       "    </tr>\n",
       "    <tr>\n",
       "      <th>4</th>\n",
       "      <td>Loja do Mecânico\\n3.9\\nANALISTA DE MARKETING E...</td>\n",
       "      <td>Barueri</td>\n",
       "      <td>Objetivo do cargo:\\n- Auxiliar na implementaçã...</td>\n",
       "      <td>R$ 2 mil – R$ 4 mil/mês (est. Empresa)</td>\n",
       "      <td>analista de marketing e performance pl</td>\n",
       "      <td>analista</td>\n",
       "      <td>marketing</td>\n",
       "      <td>pl</td>\n",
       "      <td>Outros</td>\n",
       "      <td>Indefinida</td>\n",
       "    </tr>\n",
       "  </tbody>\n",
       "</table>\n",
       "</div>"
      ],
      "text/plain": [
       "                                              Funcao      Localização  \\\n",
       "0  LawnStarter\\n4.4\\nSenior UX/Product Designer\\n...  Trabalho remoto   \n",
       "1  Harris Corrections - Harris Computer Guardian ...  Trabalho remoto   \n",
       "2  BJ Centro de Terceirização\\nDesigner Digital\\n...         Curitiba   \n",
       "3  TOTVS\\n4.3\\nPessoa Desenvolvedora Front-End - ...        Joinville   \n",
       "4  Loja do Mecânico\\n3.9\\nANALISTA DE MARKETING E...          Barueri   \n",
       "\n",
       "                                  Skills Necessarias  \\\n",
       "0  LawnStarter is the leading on-demand platform ...   \n",
       "1  Please send your CV in English\\nWHO WE ARE\\nHa...   \n",
       "2  Vaga Incrível para Designer Criativo e Estraté...   \n",
       "3  Detalhes da vaga\\n\\n\\nAcreditamos no poder tra...   \n",
       "4  Objetivo do cargo:\\n- Auxiliar na implementaçã...   \n",
       "\n",
       "                             Média Salarial  \\\n",
       "0  R$ 60 mil – R$ 70 mil/ano (est. Empresa)   \n",
       "1  R$ 10 mil – R$ 15 mil/mês (est. Empresa)   \n",
       "2               R$ 4 mil/mês (est. Empresa)   \n",
       "3                                        NF   \n",
       "4    R$ 2 mil – R$ 4 mil/mês (est. Empresa)   \n",
       "\n",
       "                                            Cargo         ver_cargo  \\\n",
       "0                   senior ux / product designer          designer    \n",
       "1                               business analyst           analyst    \n",
       "2                               designer digital          designer    \n",
       "3   pessoa desenvolvedora front - end  -  senior    desenvolvedora    \n",
       "4         analista de marketing e performance pl          analista    \n",
       "\n",
       "     palavra_chave     nivel       cargos_tech             area  \n",
       "0   product ,  ux    senior             Outros   produto ,  ux   \n",
       "1        business     Outros            Outros       Indefinida  \n",
       "2         digital     Outros            Outros              ux   \n",
       "3    front ,  end    senior    desenvolvedora    desenvolvedor   \n",
       "4       marketing        pl             Outros       Indefinida  "
      ]
     },
     "execution_count": 24,
     "metadata": {},
     "output_type": "execute_result"
    }
   ],
   "source": [
    "df_tech.head()"
   ]
  },
  {
   "cell_type": "code",
   "execution_count": 25,
   "metadata": {},
   "outputs": [],
   "source": [
    "df_tech.to_csv('df_tech_area.csv', columns=['Cargo', 'palavra_chave', 'cargos_tech', 'area'], index = False)"
   ]
  },
  {
   "cell_type": "code",
   "execution_count": 26,
   "metadata": {},
   "outputs": [],
   "source": [
    "condicao_indefinida = (df_tech['area'] == 'Indefinida')\n",
    "df_indefinida = df_tech[condicao_indefinida]\n",
    "df_classificada = df_tech[~condicao_indefinida]"
   ]
  },
  {
   "cell_type": "code",
   "execution_count": 27,
   "metadata": {},
   "outputs": [
    {
     "name": "stdout",
     "output_type": "stream",
     "text": [
      "<class 'pandas.core.frame.DataFrame'>\n",
      "Index: 2065 entries, 1 to 38083\n",
      "Data columns (total 10 columns):\n",
      " #   Column              Non-Null Count  Dtype \n",
      "---  ------              --------------  ----- \n",
      " 0   Funcao              2065 non-null   object\n",
      " 1   Localização         2065 non-null   object\n",
      " 2   Skills Necessarias  2065 non-null   object\n",
      " 3   Média Salarial      2049 non-null   object\n",
      " 4   Cargo               2065 non-null   object\n",
      " 5   ver_cargo           2065 non-null   object\n",
      " 6   palavra_chave       2065 non-null   object\n",
      " 7   nivel               2065 non-null   object\n",
      " 8   cargos_tech         2065 non-null   object\n",
      " 9   area                2065 non-null   object\n",
      "dtypes: object(10)\n",
      "memory usage: 177.5+ KB\n"
     ]
    }
   ],
   "source": [
    "df_indefinida.info()"
   ]
  },
  {
   "cell_type": "code",
   "execution_count": 28,
   "metadata": {},
   "outputs": [
    {
     "name": "stdout",
     "output_type": "stream",
     "text": [
      "<class 'pandas.core.frame.DataFrame'>\n",
      "Index: 22701 entries, 0 to 38107\n",
      "Data columns (total 10 columns):\n",
      " #   Column              Non-Null Count  Dtype \n",
      "---  ------              --------------  ----- \n",
      " 0   Funcao              22701 non-null  object\n",
      " 1   Localização         22701 non-null  object\n",
      " 2   Skills Necessarias  22701 non-null  object\n",
      " 3   Média Salarial      22112 non-null  object\n",
      " 4   Cargo               22701 non-null  object\n",
      " 5   ver_cargo           22701 non-null  object\n",
      " 6   palavra_chave       22701 non-null  object\n",
      " 7   nivel               22701 non-null  object\n",
      " 8   cargos_tech         22701 non-null  object\n",
      " 9   area                22701 non-null  object\n",
      "dtypes: object(10)\n",
      "memory usage: 1.9+ MB\n"
     ]
    }
   ],
   "source": [
    "df_classificada.info()"
   ]
  },
  {
   "cell_type": "code",
   "execution_count": 29,
   "metadata": {},
   "outputs": [
    {
     "data": {
      "text/plain": [
       "634"
      ]
     },
     "execution_count": 29,
     "metadata": {},
     "output_type": "execute_result"
    }
   ],
   "source": [
    "df_tech['area'].nunique()"
   ]
  },
  {
   "cell_type": "code",
   "execution_count": 30,
   "metadata": {},
   "outputs": [],
   "source": [
    "macro_area_dict={\n",
    "    'seguranca da informacao': [' protecao de dados ', ' seguranca da informacao '],\n",
    "    'cloud computing': [' nuvem '],\n",
    "    'dados': [' banco de dados ', ' bi ', ' big data ', ' dados ', ' ciencia de dados ', ' dba ', ' engenharia de dados '],\n",
    "    'desenvolvimento de software': [' .net ', ' angular ', ' back-end ', ' c# ', ' desenvolvedor ', ' front-end ', ' fullstack ', ' go ', ' java  ', ' javascript ', ' jogos ', ' mobile ', ' node ', ' php ', ' python ', ' react ', ' ruby ', ' tech lead '],\n",
    "    'inteligencia artificial': [' chatbot ', ' ia '],\n",
    "    'infraestrutura': [' infraestrutura de ti ', ' sistemas operacionais ', ' sre '],\n",
    "    'suporte': [' suporte ', ' tecnico em informatica '],\n",
    "    'conectividade iot e 5g': [' iot ', ' redes '],\n",
    "    'lideranca': [' cto ', ' ciso ', ' cio ', ' cdo '],\n",
    "    'qualidade': [' qa '],\n",
    "    'blockchain': [' blockchain '],\n",
    "    'design': [' ux ', ' web designer '],\n",
    "    'gestao': [' agile ', ' auditoria em TI ', ' entrega ', ' produto ', ' projetos '],\n",
    "    'aplicacao e implantacao de sistemas': [' erp ', ' implantacao de sistemas ', ' analista de sistemas '],\n",
    "    'hardware': [' rpa '],\n",
    "    'automacao': [' automacao '],\n",
    "    'arquitetura': [' arquitetura de software '],\n",
    "    'devops': [' devops '],\n",
    "    'devsecops': [' devsecops '],\n",
    "    'ti': [' ti '],\n",
    "    'transformacao digital': [' transformacao digital '],\n",
    "}"
   ]
  },
  {
   "cell_type": "code",
   "execution_count": 31,
   "metadata": {},
   "outputs": [],
   "source": [
    "prioridade_areas = {\n",
    "    'seguranca da informacao': 2,\n",
    "    'cloud computing': 2,\n",
    "    'dados': 2,\n",
    "    'desenvolvimento de software': 2,\n",
    "    'inteligencia artificial': 2,\n",
    "    'infraestrutura': 2,\n",
    "    'suporte': 1,\n",
    "    'conectividade iot e 5g': 2,\n",
    "    'lideranca': 1,\n",
    "    'qualidade': 2,\n",
    "    'blockchain': 2,\n",
    "    'design': 2,\n",
    "    'gestao': 3,\n",
    "    'aplicacao e implantacao de sistemas': 3,\n",
    "    'hardware': 2,\n",
    "    'automacao': 2,\n",
    "    'arquitetura': 2,\n",
    "    'devops': 2,\n",
    "    'devsecops': 2,\n",
    "    'ti': 4,\n",
    "    'transformacao digital': 2,\n",
    "}"
   ]
  },
  {
   "cell_type": "code",
   "execution_count": 32,
   "metadata": {},
   "outputs": [],
   "source": [
    "def encontrar_areas_prioritarias(cargo, dicionario, prioridades):\n",
    "    areas_encontradas = []\n",
    "    for area, palavras in dicionario.items():\n",
    "        if any(palavra in cargo for palavra in palavras):\n",
    "            areas_encontradas.append(area)\n",
    "    \n",
    "    if not areas_encontradas:\n",
    "        return 'Indefinida'\n",
    "    \n",
    "    # Encontrar a prioridade mínima entre as áreas encontradas\n",
    "    prioridade_minima = min(prioridades[area] for area in areas_encontradas)\n",
    "    \n",
    "    # Filtrar áreas que têm a prioridade mínima\n",
    "    areas_prioritarias = [area for area in areas_encontradas if prioridades[area] == prioridade_minima]\n",
    "    \n",
    "    # Retornar as áreas prioritárias como uma string concatenada\n",
    "    return ', '.join(areas_prioritarias)\n"
   ]
  },
  {
   "cell_type": "code",
   "execution_count": 33,
   "metadata": {},
   "outputs": [
    {
     "name": "stderr",
     "output_type": "stream",
     "text": [
      "C:\\Users\\Inteli\\AppData\\Local\\Temp\\ipykernel_28572\\3460167763.py:1: SettingWithCopyWarning: \n",
      "A value is trying to be set on a copy of a slice from a DataFrame.\n",
      "Try using .loc[row_indexer,col_indexer] = value instead\n",
      "\n",
      "See the caveats in the documentation: https://pandas.pydata.org/pandas-docs/stable/user_guide/indexing.html#returning-a-view-versus-a-copy\n",
      "  df_tech['macro_area'] = df_tech['area'].apply(lambda x: encontrar_areas_prioritarias(x, macro_area_dict, prioridade_areas))\n"
     ]
    }
   ],
   "source": [
    "df_tech['macro_area'] = df_tech['area'].apply(lambda x: encontrar_areas_prioritarias(x, macro_area_dict, prioridade_areas))"
   ]
  },
  {
   "cell_type": "code",
   "execution_count": 34,
   "metadata": {},
   "outputs": [],
   "source": [
    "df_tech.to_csv('df_tech_macro_area.csv', columns=['Cargo', 'palavra_chave', 'cargos_tech', 'area','macro_area'], index = False)"
   ]
  },
  {
   "cell_type": "code",
   "execution_count": 35,
   "metadata": {},
   "outputs": [
    {
     "data": {
      "text/plain": [
       "array(['design', 'Indefinida', 'desenvolvimento de software', 'dados',\n",
       "       'gestao', 'cloud computing', 'qualidade',\n",
       "       'inteligencia artificial', 'desenvolvimento de software, design',\n",
       "       'ti', 'aplicacao e implantacao de sistemas', 'qualidade, design',\n",
       "       'suporte', 'cloud computing, desenvolvimento de software',\n",
       "       'infraestrutura', 'gestao, aplicacao e implantacao de sistemas',\n",
       "       'dados, design', 'dados, desenvolvimento de software, design',\n",
       "       'dados, desenvolvimento de software', 'conectividade iot e 5g',\n",
       "       'dados, qualidade', 'devops', 'seguranca da informacao',\n",
       "       'infraestrutura, conectividade iot e 5g',\n",
       "       'seguranca da informacao, cloud computing', 'dados, devops',\n",
       "       'devsecops', 'desenvolvimento de software, qualidade', 'automacao',\n",
       "       'desenvolvimento de software, hardware', 'infraestrutura, devops',\n",
       "       'seguranca da informacao, infraestrutura',\n",
       "       'cloud computing, infraestrutura', 'cloud computing, dados',\n",
       "       'dados, infraestrutura', 'cloud computing, devops',\n",
       "       'desenvolvimento de software, devops', 'arquitetura',\n",
       "       'desenvolvimento de software, inteligencia artificial',\n",
       "       'desenvolvimento de software, infraestrutura', 'hardware',\n",
       "       'desenvolvimento de software, qualidade, automacao',\n",
       "       'dados, conectividade iot e 5g',\n",
       "       'infraestrutura, conectividade iot e 5g, automacao',\n",
       "       'seguranca da informacao, conectividade iot e 5g',\n",
       "       'qualidade, automacao',\n",
       "       'desenvolvimento de software, infraestrutura, devops',\n",
       "       'desenvolvimento de software, conectividade iot e 5g',\n",
       "       'seguranca da informacao, dados', 'dados, automacao',\n",
       "       'infraestrutura, automacao', 'dados, inteligencia artificial',\n",
       "       'dados, arquitetura',\n",
       "       'cloud computing, dados, conectividade iot e 5g',\n",
       "       'seguranca da informacao, devsecops', 'blockchain',\n",
       "       'desenvolvimento de software, arquitetura',\n",
       "       'inteligencia artificial, qualidade',\n",
       "       'cloud computing, desenvolvimento de software, devops',\n",
       "       'cloud computing, dados, desenvolvimento de software',\n",
       "       'hardware, automacao',\n",
       "       'cloud computing, desenvolvimento de software, infraestrutura',\n",
       "       'desenvolvimento de software, transformacao digital',\n",
       "       'dados, infraestrutura, qualidade', 'transformacao digital',\n",
       "       'desenvolvimento de software, devsecops', 'qualidade, hardware',\n",
       "       'lideranca',\n",
       "       'seguranca da informacao, desenvolvimento de software',\n",
       "       'desenvolvimento de software, blockchain',\n",
       "       'cloud computing, conectividade iot e 5g',\n",
       "       'cloud computing, infraestrutura, devops',\n",
       "       'seguranca da informacao, infraestrutura, conectividade iot e 5g',\n",
       "       'design, hardware',\n",
       "       'cloud computing, infraestrutura, conectividade iot e 5g',\n",
       "       'automacao, devops', 'desenvolvimento de software, automacao',\n",
       "       'inteligencia artificial, automacao',\n",
       "       'desenvolvimento de software, infraestrutura, arquitetura',\n",
       "       'seguranca da informacao, dados, inteligencia artificial',\n",
       "       'cloud computing, dados, desenvolvimento de software, infraestrutura',\n",
       "       'desenvolvimento de software, hardware, automacao'], dtype=object)"
      ]
     },
     "execution_count": 35,
     "metadata": {},
     "output_type": "execute_result"
    }
   ],
   "source": [
    "df_tech['macro_area'].unique()"
   ]
  },
  {
   "cell_type": "code",
   "execution_count": 36,
   "metadata": {},
   "outputs": [
    {
     "data": {
      "text/plain": [
       "82"
      ]
     },
     "execution_count": 36,
     "metadata": {},
     "output_type": "execute_result"
    }
   ],
   "source": [
    "df_tech['macro_area'].nunique()"
   ]
  },
  {
   "cell_type": "code",
   "execution_count": 37,
   "metadata": {},
   "outputs": [],
   "source": [
    "import pandas as pd\n",
    "import matplotlib.pyplot as plt\n",
    "from collections import Counter"
   ]
  },
  {
   "cell_type": "code",
   "execution_count": 38,
   "metadata": {},
   "outputs": [
    {
     "data": {
      "image/png": "[encoded data removed]",
      "text/plain": [
       "<Figure size 1200x600 with 1 Axes>"
      ]
     },
     "metadata": {},
     "output_type": "display_data"
    }
   ],
   "source": [
    "contagem_areas_individual = Counter()\n",
    "for areas in df_tech['macro_area']:\n",
    "    for area in areas.split(', '):\n",
    "        contagem_areas_individual[area] += 1\n",
    "\n",
    "if 'Indefinida' in contagem_areas_individual:\n",
    "    del contagem_areas_individual['Indefinida']\n",
    "\n",
    "# Gráfico de barras para quantificar cada área individualmente\n",
    "plt.figure(figsize=(12, 6))\n",
    "plt.bar(contagem_areas_individual.keys(), contagem_areas_individual.values(), color='skyblue')\n",
    "plt.xlabel('Áreas')\n",
    "plt.ylabel('Quantidade')\n",
    "plt.title('Quantidade de Vagas por Área Individualmente')\n",
    "plt.xticks(rotation=45, ha='right')\n",
    "plt.tight_layout()\n",
    "plt.show()"
   ]
  },
  {
   "cell_type": "code",
   "execution_count": 39,
   "metadata": {},
   "outputs": [
    {
     "data": {
      "image/png": "[encoded data removed]",
      "text/plain": [
       "<Figure size 1200x1000 with 1 Axes>"
      ]
     },
     "metadata": {},
     "output_type": "display_data"
    }
   ],
   "source": [
    "# Contabilizar combinações de áreas\n",
    "contagem_combinacoes_areas = Counter(df_tech['macro_area'])\n",
    "\n",
    "# Remover combinações que contenham \"Indefinida\"\n",
    "if 'Indefinida' in contagem_combinacoes_areas:\n",
    "    del contagem_combinacoes_areas['Indefinida']\n",
    "\n",
    "# Gráfico de barras para quantificar combinações de áreas\n",
    "plt.figure(figsize=(12, 10))\n",
    "plt.bar(contagem_combinacoes_areas.keys(), contagem_combinacoes_areas.values(), color='lightcoral')\n",
    "plt.xlabel('Combinações de Áreas')\n",
    "plt.ylabel('Quantidade')\n",
    "plt.title('Quantidade de Vagas por Combinações de Áreas')\n",
    "plt.xticks(rotation=90,ha='right')\n",
    "plt.tight_layout()\n",
    "plt.show()"
   ]
  },
  {
   "cell_type": "code",
   "execution_count": 40,
   "metadata": {},
   "outputs": [],
   "source": [
    "import plotly.express as px"
   ]
  },
  {
   "cell_type": "code",
   "execution_count": 41,
   "metadata": {},
   "outputs": [
    {
     "data": {
      "application/vnd.plotly.v1+json": {
       "config": {
        "plotlyServerURL": "https://plot.ly"
       },
       "data": [
        {
         "alignmentgroup": "True",
         "hovertemplate": "Quantidade=%{x}<br>Áreas=%{y}<br>Percentual=%{text}<extra></extra>",
         "legendgroup": "",
         "marker": {
          "color": "#636efa",
          "pattern": {
           "shape": ""
          }
         },
         "name": "",
         "offsetgroup": "",
         "orientation": "h",
         "showlegend": false,
         "text": [
          0.01674621116972285,
          0.0669848446788914,
          0.09629071422590639,
          0.12559658377292138,
          0.17583521728208992,
          0.41028217365820985,
          0.45214770158251694,
          0.5149459934689776,
          1.3062044712383825,
          1.5406514276145022,
          1.5657707443690865,
          2.0304781043288957,
          2.110022607385079,
          3.303190153227832,
          4.952691953445533,
          5.120154065142762,
          7.443690864941807,
          8.775014652934773,
          10.746881018169638,
          11.97354098635184,
          37.27287951101063
         ],
         "textposition": "outside",
         "texttemplate": "%{text:.2f}%",
         "type": "bar",
         "x": [
          4,
          16,
          23,
          30,
          42,
          98,
          108,
          123,
          312,
          368,
          374,
          485,
          504,
          789,
          1183,
          1223,
          1778,
          2096,
          2567,
          2860,
          8903
         ],
         "xaxis": "x",
         "y": [
          "lideranca",
          "transformacao digital",
          "blockchain",
          "devsecops",
          "arquitetura",
          "inteligencia artificial",
          "automacao",
          "hardware",
          "conectividade iot e 5g",
          "seguranca da informacao",
          "devops",
          "design",
          "cloud computing",
          "aplicacao e implantacao de sistemas",
          "infraestrutura",
          "qualidade",
          "gestao",
          "ti",
          "suporte",
          "dados",
          "desenvolvimento de software"
         ],
         "yaxis": "y"
        }
       ],
       "layout": {
        "barmode": "relative",
        "legend": {
         "tracegroupgap": 0
        },
        "margin": {
         "b": 50,
         "l": 200,
         "r": 50,
         "t": 50
        },
        "template": {
         "data": {
          "bar": [
           {
            "error_x": {
             "color": "#2a3f5f"
            },
            "error_y": {
             "color": "#2a3f5f"
            },
            "marker": {
             "line": {
              "color": "#E5ECF6",
              "width": 0.5
             },
             "pattern": {
              "fillmode": "overlay",
              "size": 10,
              "solidity": 0.2
             }
            },
            "type": "bar"
           }
          ],
          "barpolar": [
           {
            "marker": {
             "line": {
              "color": "#E5ECF6",
              "width": 0.5
             },
             "pattern": {
              "fillmode": "overlay",
              "size": 10,
              "solidity": 0.2
             }
            },
            "type": "barpolar"
           }
          ],
          "carpet": [
           {
            "aaxis": {
             "endlinecolor": "#2a3f5f",
             "gridcolor": "white",
             "linecolor": "white",
             "minorgridcolor": "white",
             "startlinecolor": "#2a3f5f"
            },
            "baxis": {
             "endlinecolor": "#2a3f5f",
             "gridcolor": "white",
             "linecolor": "white",
             "minorgridcolor": "white",
             "startlinecolor": "#2a3f5f"
            },
            "type": "carpet"
           }
          ],
          "choropleth": [
           {
            "colorbar": {
             "outlinewidth": 0,
             "ticks": ""
            },
            "type": "choropleth"
           }
          ],
          "contour": [
           {
            "colorbar": {
             "outlinewidth": 0,
             "ticks": ""
            },
            "colorscale": [
             [
              0,
              "#0d0887"
             ],
             [
              0.1111111111111111,
              "#46039f"
             ],
             [
              0.2222222222222222,
              "#7201a8"
             ],
             [
              0.3333333333333333,
              "#9c179e"
             ],
             [
              0.4444444444444444,
              "#bd3786"
             ],
             [
              0.5555555555555556,
              "#d8576b"
             ],
             [
              0.6666666666666666,
              "#ed7953"
             ],
             [
              0.7777777777777778,
              "#fb9f3a"
             ],
             [
              0.8888888888888888,
              "#fdca26"
             ],
             [
              1,
              "#f0f921"
             ]
            ],
            "type": "contour"
           }
          ],
          "contourcarpet": [
           {
            "colorbar": {
             "outlinewidth": 0,
             "ticks": ""
            },
            "type": "contourcarpet"
           }
          ],
          "heatmap": [
           {
            "colorbar": {
             "outlinewidth": 0,
             "ticks": ""
            },
            "colorscale": [
             [
              0,
              "#0d0887"
             ],
             [
              0.1111111111111111,
              "#46039f"
             ],
             [
              0.2222222222222222,
              "#7201a8"
             ],
             [
              0.3333333333333333,
              "#9c179e"
             ],
             [
              0.4444444444444444,
              "#bd3786"
             ],
             [
              0.5555555555555556,
              "#d8576b"
             ],
             [
              0.6666666666666666,
              "#ed7953"
             ],
             [
              0.7777777777777778,
              "#fb9f3a"
             ],
             [
              0.8888888888888888,
              "#fdca26"
             ],
             [
              1,
              "#f0f921"
             ]
            ],
            "type": "heatmap"
           }
          ],
          "heatmapgl": [
           {
            "colorbar": {
             "outlinewidth": 0,
             "ticks": ""
            },
            "colorscale": [
             [
              0,
              "#0d0887"
             ],
             [
              0.1111111111111111,
              "#46039f"
             ],
             [
              0.2222222222222222,
              "#7201a8"
             ],
             [
              0.3333333333333333,
              "#9c179e"
             ],
             [
              0.4444444444444444,
              "#bd3786"
             ],
             [
              0.5555555555555556,
              "#d8576b"
             ],
             [
              0.6666666666666666,
              "#ed7953"
             ],
             [
              0.7777777777777778,
              "#fb9f3a"
             ],
             [
              0.8888888888888888,
              "#fdca26"
             ],
             [
              1,
              "#f0f921"
             ]
            ],
            "type": "heatmapgl"
           }
          ],
          "histogram": [
           {
            "marker": {
             "pattern": {
              "fillmode": "overlay",
              "size": 10,
              "solidity": 0.2
             }
            },
            "type": "histogram"
           }
          ],
          "histogram2d": [
           {
            "colorbar": {
             "outlinewidth": 0,
             "ticks": ""
            },
            "colorscale": [
             [
              0,
              "#0d0887"
             ],
             [
              0.1111111111111111,
              "#46039f"
             ],
             [
              0.2222222222222222,
              "#7201a8"
             ],
             [
              0.3333333333333333,
              "#9c179e"
             ],
             [
              0.4444444444444444,
              "#bd3786"
             ],
             [
              0.5555555555555556,
              "#d8576b"
             ],
             [
              0.6666666666666666,
              "#ed7953"
             ],
             [
              0.7777777777777778,
              "#fb9f3a"
             ],
             [
              0.8888888888888888,
              "#fdca26"
             ],
             [
              1,
              "#f0f921"
             ]
            ],
            "type": "histogram2d"
           }
          ],
          "histogram2dcontour": [
           {
            "colorbar": {
             "outlinewidth": 0,
             "ticks": ""
            },
            "colorscale": [
             [
              0,
              "#0d0887"
             ],
             [
              0.1111111111111111,
              "#46039f"
             ],
             [
              0.2222222222222222,
              "#7201a8"
             ],
             [
              0.3333333333333333,
              "#9c179e"
             ],
             [
              0.4444444444444444,
              "#bd3786"
             ],
             [
              0.5555555555555556,
              "#d8576b"
             ],
             [
              0.6666666666666666,
              "#ed7953"
             ],
             [
              0.7777777777777778,
              "#fb9f3a"
             ],
             [
              0.8888888888888888,
              "#fdca26"
             ],
             [
              1,
              "#f0f921"
             ]
            ],
            "type": "histogram2dcontour"
           }
          ],
          "mesh3d": [
           {
            "colorbar": {
             "outlinewidth": 0,
             "ticks": ""
            },
            "type": "mesh3d"
           }
          ],
          "parcoords": [
           {
            "line": {
             "colorbar": {
              "outlinewidth": 0,
              "ticks": ""
             }
            },
            "type": "parcoords"
           }
          ],
          "pie": [
           {
            "automargin": true,
            "type": "pie"
           }
          ],
          "scatter": [
           {
            "fillpattern": {
             "fillmode": "overlay",
             "size": 10,
             "solidity": 0.2
            },
            "type": "scatter"
           }
          ],
          "scatter3d": [
           {
            "line": {
             "colorbar": {
              "outlinewidth": 0,
              "ticks": ""
             }
            },
            "marker": {
             "colorbar": {
              "outlinewidth": 0,
              "ticks": ""
             }
            },
            "type": "scatter3d"
           }
          ],
          "scattercarpet": [
           {
            "marker": {
             "colorbar": {
              "outlinewidth": 0,
              "ticks": ""
             }
            },
            "type": "scattercarpet"
           }
          ],
          "scattergeo": [
           {
            "marker": {
             "colorbar": {
              "outlinewidth": 0,
              "ticks": ""
             }
            },
            "type": "scattergeo"
           }
          ],
          "scattergl": [
           {
            "marker": {
             "colorbar": {
              "outlinewidth": 0,
              "ticks": ""
             }
            },
            "type": "scattergl"
           }
          ],
          "scattermapbox": [
           {
            "marker": {
             "colorbar": {
              "outlinewidth": 0,
              "ticks": ""
             }
            },
            "type": "scattermapbox"
           }
          ],
          "scatterpolar": [
           {
            "marker": {
             "colorbar": {
              "outlinewidth": 0,
              "ticks": ""
             }
            },
            "type": "scatterpolar"
           }
          ],
          "scatterpolargl": [
           {
            "marker": {
             "colorbar": {
              "outlinewidth": 0,
              "ticks": ""
             }
            },
            "type": "scatterpolargl"
           }
          ],
          "scatterternary": [
           {
            "marker": {
             "colorbar": {
              "outlinewidth": 0,
              "ticks": ""
             }
            },
            "type": "scatterternary"
           }
          ],
          "surface": [
           {
            "colorbar": {
             "outlinewidth": 0,
             "ticks": ""
            },
            "colorscale": [
             [
              0,
              "#0d0887"
             ],
             [
              0.1111111111111111,
              "#46039f"
             ],
             [
              0.2222222222222222,
              "#7201a8"
             ],
             [
              0.3333333333333333,
              "#9c179e"
             ],
             [
              0.4444444444444444,
              "#bd3786"
             ],
             [
              0.5555555555555556,
              "#d8576b"
             ],
             [
              0.6666666666666666,
              "#ed7953"
             ],
             [
              0.7777777777777778,
              "#fb9f3a"
             ],
             [
              0.8888888888888888,
              "#fdca26"
             ],
             [
              1,
              "#f0f921"
             ]
            ],
            "type": "surface"
           }
          ],
          "table": [
           {
            "cells": {
             "fill": {
              "color": "#EBF0F8"
             },
             "line": {
              "color": "white"
             }
            },
            "header": {
             "fill": {
              "color": "#C8D4E3"
             },
             "line": {
              "color": "white"
             }
            },
            "type": "table"
           }
          ]
         },
         "layout": {
          "annotationdefaults": {
           "arrowcolor": "#2a3f5f",
           "arrowhead": 0,
           "arrowwidth": 1
          },
          "autotypenumbers": "strict",
          "coloraxis": {
           "colorbar": {
            "outlinewidth": 0,
            "ticks": ""
           }
          },
          "colorscale": {
           "diverging": [
            [
             0,
             "#8e0152"
            ],
            [
             0.1,
             "#c51b7d"
            ],
            [
             0.2,
             "#de77ae"
            ],
            [
             0.3,
             "#f1b6da"
            ],
            [
             0.4,
             "#fde0ef"
            ],
            [
             0.5,
             "#f7f7f7"
            ],
            [
             0.6,
             "#e6f5d0"
            ],
            [
             0.7,
             "#b8e186"
            ],
            [
             0.8,
             "#7fbc41"
            ],
            [
             0.9,
             "#4d9221"
            ],
            [
             1,
             "#276419"
            ]
           ],
           "sequential": [
            [
             0,
             "#0d0887"
            ],
            [
             0.1111111111111111,
             "#46039f"
            ],
            [
             0.2222222222222222,
             "#7201a8"
            ],
            [
             0.3333333333333333,
             "#9c179e"
            ],
            [
             0.4444444444444444,
             "#bd3786"
            ],
            [
             0.5555555555555556,
             "#d8576b"
            ],
            [
             0.6666666666666666,
             "#ed7953"
            ],
            [
             0.7777777777777778,
             "#fb9f3a"
            ],
            [
             0.8888888888888888,
             "#fdca26"
            ],
            [
             1,
             "#f0f921"
            ]
           ],
           "sequentialminus": [
            [
             0,
             "#0d0887"
            ],
            [
             0.1111111111111111,
             "#46039f"
            ],
            [
             0.2222222222222222,
             "#7201a8"
            ],
            [
             0.3333333333333333,
             "#9c179e"
            ],
            [
             0.4444444444444444,
             "#bd3786"
            ],
            [
             0.5555555555555556,
             "#d8576b"
            ],
            [
             0.6666666666666666,
             "#ed7953"
            ],
            [
             0.7777777777777778,
             "#fb9f3a"
            ],
            [
             0.8888888888888888,
             "#fdca26"
            ],
            [
             1,
             "#f0f921"
            ]
           ]
          },
          "colorway": [
           "#636efa",
           "#EF553B",
           "#00cc96",
           "#ab63fa",
           "#FFA15A",
           "#19d3f3",
           "#FF6692",
           "#B6E880",
           "#FF97FF",
           "#FECB52"
          ],
          "font": {
           "color": "#2a3f5f"
          },
          "geo": {
           "bgcolor": "white",
           "lakecolor": "white",
           "landcolor": "#E5ECF6",
           "showlakes": true,
           "showland": true,
           "subunitcolor": "white"
          },
          "hoverlabel": {
           "align": "left"
          },
          "hovermode": "closest",
          "mapbox": {
           "style": "light"
          },
          "paper_bgcolor": "white",
          "plot_bgcolor": "#E5ECF6",
          "polar": {
           "angularaxis": {
            "gridcolor": "white",
            "linecolor": "white",
            "ticks": ""
           },
           "bgcolor": "#E5ECF6",
           "radialaxis": {
            "gridcolor": "white",
            "linecolor": "white",
            "ticks": ""
           }
          },
          "scene": {
           "xaxis": {
            "backgroundcolor": "#E5ECF6",
            "gridcolor": "white",
            "gridwidth": 2,
            "linecolor": "white",
            "showbackground": true,
            "ticks": "",
            "zerolinecolor": "white"
           },
           "yaxis": {
            "backgroundcolor": "#E5ECF6",
            "gridcolor": "white",
            "gridwidth": 2,
            "linecolor": "white",
            "showbackground": true,
            "ticks": "",
            "zerolinecolor": "white"
           },
           "zaxis": {
            "backgroundcolor": "#E5ECF6",
            "gridcolor": "white",
            "gridwidth": 2,
            "linecolor": "white",
            "showbackground": true,
            "ticks": "",
            "zerolinecolor": "white"
           }
          },
          "shapedefaults": {
           "line": {
            "color": "#2a3f5f"
           }
          },
          "ternary": {
           "aaxis": {
            "gridcolor": "white",
            "linecolor": "white",
            "ticks": ""
           },
           "baxis": {
            "gridcolor": "white",
            "linecolor": "white",
            "ticks": ""
           },
           "bgcolor": "#E5ECF6",
           "caxis": {
            "gridcolor": "white",
            "linecolor": "white",
            "ticks": ""
           }
          },
          "title": {
           "x": 0.05
          },
          "xaxis": {
           "automargin": true,
           "gridcolor": "white",
           "linecolor": "white",
           "ticks": "",
           "title": {
            "standoff": 15
           },
           "zerolinecolor": "white",
           "zerolinewidth": 2
          },
          "yaxis": {
           "automargin": true,
           "gridcolor": "white",
           "linecolor": "white",
           "ticks": "",
           "title": {
            "standoff": 15
           },
           "zerolinecolor": "white",
           "zerolinewidth": 2
          }
         }
        },
        "title": {
         "text": "Quantidade de Vagas por Área Individualmente"
        },
        "uniformtext": {
         "minsize": 8,
         "mode": "hide"
        },
        "xaxis": {
         "anchor": "y",
         "domain": [
          0,
          1
         ],
         "title": {
          "text": "Quantidade"
         }
        },
        "yaxis": {
         "anchor": "x",
         "categoryorder": "total ascending",
         "domain": [
          0,
          1
         ],
         "tickangle": 0,
         "title": {
          "text": "Áreas"
         }
        }
       }
      }
     },
     "metadata": {},
     "output_type": "display_data"
    }
   ],
   "source": [
    "# Converter o contador para um DataFrame\n",
    "df_contagem_areas = pd.DataFrame(contagem_areas_individual.items(), columns=['Área', 'Quantidade'])\n",
    "\n",
    "# Calcular percentual\n",
    "total = df_contagem_areas['Quantidade'].sum()\n",
    "df_contagem_areas['Percentual'] = (df_contagem_areas['Quantidade'] / total) * 100\n",
    "\n",
    "# Ordenar do menor para o maior\n",
    "df_contagem_areas = df_contagem_areas.sort_values(by='Quantidade')\n",
    "\n",
    "# Gráfico de barras com Plotly\n",
    "fig = px.bar(df_contagem_areas, x='Quantidade', y='Área', text='Percentual',\n",
    "             labels={'Quantidade': 'Quantidade', 'Área': 'Áreas'},\n",
    "             title='Quantidade de Vagas por Área Individualmente')\n",
    "\n",
    "fig.update_traces(texttemplate='%{text:.2f}%', textposition='outside')\n",
    "fig.update_layout(uniformtext_minsize=8, uniformtext_mode='hide', yaxis={'categoryorder':'total ascending'})\n",
    "\n",
    "fig.update_layout(margin=dict(l=200, r=50, b=50, t=50), yaxis_tickangle=0)\n",
    "\n",
    "fig.show()"
   ]
  },
  {
   "cell_type": "code",
   "execution_count": 42,
   "metadata": {},
   "outputs": [
    {
     "data": {
      "application/vnd.plotly.v1+json": {
       "config": {
        "plotlyServerURL": "https://plot.ly"
       },
       "data": [
        {
         "alignmentgroup": "True",
         "hovertemplate": "Quantidade=%{x}<br>Combinações de Áreas=%{y}<br>Percentual=%{text}<extra></extra>",
         "legendgroup": "",
         "marker": {
          "color": "#636efa",
          "pattern": {
           "shape": ""
          }
         },
         "name": "",
         "offsetgroup": "",
         "orientation": "h",
         "showlegend": false,
         "text": [
          0.0044050922866834055,
          0.0044050922866834055,
          0.0044050922866834055,
          0.0044050922866834055,
          0.0044050922866834055,
          0.0044050922866834055,
          0.008810184573366811,
          0.008810184573366811,
          0.008810184573366811,
          0.008810184573366811,
          0.008810184573366811,
          0.008810184573366811,
          0.008810184573366811,
          0.008810184573366811,
          0.008810184573366811,
          0.008810184573366811,
          0.008810184573366811,
          0.008810184573366811,
          0.008810184573366811,
          0.008810184573366811,
          0.008810184573366811,
          0.013215276860050218,
          0.013215276860050218,
          0.013215276860050218,
          0.017620369146733622,
          0.017620369146733622,
          0.017620369146733622,
          0.017620369146733622,
          0.02202546143341703,
          0.02202546143341703,
          0.026430553720100437,
          0.026430553720100437,
          0.026430553720100437,
          0.026430553720100437,
          0.026430553720100437,
          0.03083564600678384,
          0.03083564600678384,
          0.03083564600678384,
          0.035240738293467244,
          0.035240738293467244,
          0.04845601515351746,
          0.05286110744020087,
          0.05286110744020087,
          0.057266199726884286,
          0.057266199726884286,
          0.07048147658693449,
          0.07929166116030131,
          0.09691203030703492,
          0.09691203030703492,
          0.11453239945376857,
          0.11453239945376857,
          0.11893749174045196,
          0.11893749174045196,
          0.11893749174045196,
          0.1497731377472358,
          0.1497731377472358,
          0.1497731377472358,
          0.1541782300339192,
          0.1541782300339192,
          0.17179859918065285,
          0.18501387604070307,
          0.2114444297608035,
          0.22465970662085372,
          0.25990044491432096,
          0.31716664464120525,
          0.4713448746751244,
          0.4801550592484913,
          0.9911457645037665,
          1.0351966873706004,
          1.1056781639575348,
          1.2025901942645698,
          1.4448702700321572,
          1.942645698427382,
          3.3566803224527555,
          4.202458041495969,
          4.576890885864058,
          7.713316593982644,
          9.23307343288842,
          10.933439055548213,
          11.307871899916304,
          36.06889564336373
         ],
         "textposition": "outside",
         "texttemplate": "%{text:.2f}%",
         "type": "bar",
         "x": [
          1,
          1,
          1,
          1,
          1,
          1,
          2,
          2,
          2,
          2,
          2,
          2,
          2,
          2,
          2,
          2,
          2,
          2,
          2,
          2,
          2,
          3,
          3,
          3,
          4,
          4,
          4,
          4,
          5,
          5,
          6,
          6,
          6,
          6,
          6,
          7,
          7,
          7,
          8,
          8,
          11,
          12,
          12,
          13,
          13,
          16,
          18,
          22,
          22,
          26,
          26,
          27,
          27,
          27,
          34,
          34,
          34,
          35,
          35,
          39,
          42,
          48,
          51,
          59,
          72,
          107,
          109,
          225,
          235,
          251,
          273,
          328,
          441,
          762,
          954,
          1039,
          1751,
          2096,
          2482,
          2567,
          8188
         ],
         "xaxis": "x",
         "y": [
          "seguranca da informacao, dados, inteligencia artificial",
          "desenvolvimento de software, infraestrutura, arquitetura",
          "inteligencia artificial, automacao",
          "dados, infraestrutura, qualidade",
          "dados, design",
          "dados, arquitetura",
          "qualidade, design",
          "desenvolvimento de software, devsecops",
          "qualidade, hardware",
          "dados, devops",
          "inteligencia artificial, qualidade",
          "seguranca da informacao, devsecops",
          "cloud computing, desenvolvimento de software, infraestrutura",
          "cloud computing, dados, desenvolvimento de software, infraestrutura",
          "cloud computing, infraestrutura, devops",
          "seguranca da informacao, infraestrutura, conectividade iot e 5g",
          "seguranca da informacao, conectividade iot e 5g",
          "cloud computing, infraestrutura, conectividade iot e 5g",
          "automacao, devops",
          "infraestrutura, conectividade iot e 5g, automacao",
          "cloud computing, dados, conectividade iot e 5g",
          "desenvolvimento de software, hardware, automacao",
          "desenvolvimento de software, transformacao digital",
          "dados, desenvolvimento de software, design",
          "cloud computing, dados, desenvolvimento de software",
          "lideranca",
          "design, hardware",
          "cloud computing, conectividade iot e 5g",
          "cloud computing, desenvolvimento de software, devops",
          "desenvolvimento de software, arquitetura",
          "seguranca da informacao, cloud computing",
          "desenvolvimento de software, automacao",
          "seguranca da informacao, infraestrutura",
          "infraestrutura, automacao",
          "desenvolvimento de software, conectividade iot e 5g",
          "desenvolvimento de software, infraestrutura, devops",
          "dados, conectividade iot e 5g",
          "hardware, automacao",
          "seguranca da informacao, desenvolvimento de software",
          "dados, automacao",
          "blockchain",
          "desenvolvimento de software, blockchain",
          "desenvolvimento de software, qualidade, automacao",
          "transformacao digital",
          "seguranca da informacao, dados",
          "dados, inteligencia artificial",
          "desenvolvimento de software, devops",
          "dados, infraestrutura",
          "dados, qualidade",
          "cloud computing, devops",
          "devsecops",
          "automacao",
          "gestao, aplicacao e implantacao de sistemas",
          "desenvolvimento de software, inteligencia artificial",
          "infraestrutura, conectividade iot e 5g",
          "desenvolvimento de software, design",
          "qualidade, automacao",
          "hardware",
          "arquitetura",
          "infraestrutura, devops",
          "desenvolvimento de software, infraestrutura",
          "cloud computing, dados",
          "inteligencia artificial",
          "cloud computing, infraestrutura",
          "desenvolvimento de software, hardware",
          "cloud computing, desenvolvimento de software",
          "desenvolvimento de software, qualidade",
          "dados, desenvolvimento de software",
          "cloud computing",
          "conectividade iot e 5g",
          "devops",
          "seguranca da informacao",
          "design",
          "aplicacao e implantacao de sistemas",
          "infraestrutura",
          "qualidade",
          "gestao",
          "ti",
          "dados",
          "suporte",
          "desenvolvimento de software"
         ],
         "yaxis": "y"
        }
       ],
       "layout": {
        "barmode": "relative",
        "legend": {
         "tracegroupgap": 0
        },
        "margin": {
         "b": 50,
         "l": 200,
         "r": 50,
         "t": 50
        },
        "template": {
         "data": {
          "bar": [
           {
            "error_x": {
             "color": "#2a3f5f"
            },
            "error_y": {
             "color": "#2a3f5f"
            },
            "marker": {
             "line": {
              "color": "#E5ECF6",
              "width": 0.5
             },
             "pattern": {
              "fillmode": "overlay",
              "size": 10,
              "solidity": 0.2
             }
            },
            "type": "bar"
           }
          ],
          "barpolar": [
           {
            "marker": {
             "line": {
              "color": "#E5ECF6",
              "width": 0.5
             },
             "pattern": {
              "fillmode": "overlay",
              "size": 10,
              "solidity": 0.2
             }
            },
            "type": "barpolar"
           }
          ],
          "carpet": [
           {
            "aaxis": {
             "endlinecolor": "#2a3f5f",
             "gridcolor": "white",
             "linecolor": "white",
             "minorgridcolor": "white",
             "startlinecolor": "#2a3f5f"
            },
            "baxis": {
             "endlinecolor": "#2a3f5f",
             "gridcolor": "white",
             "linecolor": "white",
             "minorgridcolor": "white",
             "startlinecolor": "#2a3f5f"
            },
            "type": "carpet"
           }
          ],
          "choropleth": [
           {
            "colorbar": {
             "outlinewidth": 0,
             "ticks": ""
            },
            "type": "choropleth"
           }
          ],
          "contour": [
           {
            "colorbar": {
             "outlinewidth": 0,
             "ticks": ""
            },
            "colorscale": [
             [
              0,
              "#0d0887"
             ],
             [
              0.1111111111111111,
              "#46039f"
             ],
             [
              0.2222222222222222,
              "#7201a8"
             ],
             [
              0.3333333333333333,
              "#9c179e"
             ],
             [
              0.4444444444444444,
              "#bd3786"
             ],
             [
              0.5555555555555556,
              "#d8576b"
             ],
             [
              0.6666666666666666,
              "#ed7953"
             ],
             [
              0.7777777777777778,
              "#fb9f3a"
             ],
             [
              0.8888888888888888,
              "#fdca26"
             ],
             [
              1,
              "#f0f921"
             ]
            ],
            "type": "contour"
           }
          ],
          "contourcarpet": [
           {
            "colorbar": {
             "outlinewidth": 0,
             "ticks": ""
            },
            "type": "contourcarpet"
           }
          ],
          "heatmap": [
           {
            "colorbar": {
             "outlinewidth": 0,
             "ticks": ""
            },
            "colorscale": [
             [
              0,
              "#0d0887"
             ],
             [
              0.1111111111111111,
              "#46039f"
             ],
             [
              0.2222222222222222,
              "#7201a8"
             ],
             [
              0.3333333333333333,
              "#9c179e"
             ],
             [
              0.4444444444444444,
              "#bd3786"
             ],
             [
              0.5555555555555556,
              "#d8576b"
             ],
             [
              0.6666666666666666,
              "#ed7953"
             ],
             [
              0.7777777777777778,
              "#fb9f3a"
             ],
             [
              0.8888888888888888,
              "#fdca26"
             ],
             [
              1,
              "#f0f921"
             ]
            ],
            "type": "heatmap"
           }
          ],
          "heatmapgl": [
           {
            "colorbar": {
             "outlinewidth": 0,
             "ticks": ""
            },
            "colorscale": [
             [
              0,
              "#0d0887"
             ],
             [
              0.1111111111111111,
              "#46039f"
             ],
             [
              0.2222222222222222,
              "#7201a8"
             ],
             [
              0.3333333333333333,
              "#9c179e"
             ],
             [
              0.4444444444444444,
              "#bd3786"
             ],
             [
              0.5555555555555556,
              "#d8576b"
             ],
             [
              0.6666666666666666,
              "#ed7953"
             ],
             [
              0.7777777777777778,
              "#fb9f3a"
             ],
             [
              0.8888888888888888,
              "#fdca26"
             ],
             [
              1,
              "#f0f921"
             ]
            ],
            "type": "heatmapgl"
           }
          ],
          "histogram": [
           {
            "marker": {
             "pattern": {
              "fillmode": "overlay",
              "size": 10,
              "solidity": 0.2
             }
            },
            "type": "histogram"
           }
          ],
          "histogram2d": [
           {
            "colorbar": {
             "outlinewidth": 0,
             "ticks": ""
            },
            "colorscale": [
             [
              0,
              "#0d0887"
             ],
             [
              0.1111111111111111,
              "#46039f"
             ],
             [
              0.2222222222222222,
              "#7201a8"
             ],
             [
              0.3333333333333333,
              "#9c179e"
             ],
             [
              0.4444444444444444,
              "#bd3786"
             ],
             [
              0.5555555555555556,
              "#d8576b"
             ],
             [
              0.6666666666666666,
              "#ed7953"
             ],
             [
              0.7777777777777778,
              "#fb9f3a"
             ],
             [
              0.8888888888888888,
              "#fdca26"
             ],
             [
              1,
              "#f0f921"
             ]
            ],
            "type": "histogram2d"
           }
          ],
          "histogram2dcontour": [
           {
            "colorbar": {
             "outlinewidth": 0,
             "ticks": ""
            },
            "colorscale": [
             [
              0,
              "#0d0887"
             ],
             [
              0.1111111111111111,
              "#46039f"
             ],
             [
              0.2222222222222222,
              "#7201a8"
             ],
             [
              0.3333333333333333,
              "#9c179e"
             ],
             [
              0.4444444444444444,
              "#bd3786"
             ],
             [
              0.5555555555555556,
              "#d8576b"
             ],
             [
              0.6666666666666666,
              "#ed7953"
             ],
             [
              0.7777777777777778,
              "#fb9f3a"
             ],
             [
              0.8888888888888888,
              "#fdca26"
             ],
             [
              1,
              "#f0f921"
             ]
            ],
            "type": "histogram2dcontour"
           }
          ],
          "mesh3d": [
           {
            "colorbar": {
             "outlinewidth": 0,
             "ticks": ""
            },
            "type": "mesh3d"
           }
          ],
          "parcoords": [
           {
            "line": {
             "colorbar": {
              "outlinewidth": 0,
              "ticks": ""
             }
            },
            "type": "parcoords"
           }
          ],
          "pie": [
           {
            "automargin": true,
            "type": "pie"
           }
          ],
          "scatter": [
           {
            "fillpattern": {
             "fillmode": "overlay",
             "size": 10,
             "solidity": 0.2
            },
            "type": "scatter"
           }
          ],
          "scatter3d": [
           {
            "line": {
             "colorbar": {
              "outlinewidth": 0,
              "ticks": ""
             }
            },
            "marker": {
             "colorbar": {
              "outlinewidth": 0,
              "ticks": ""
             }
            },
            "type": "scatter3d"
           }
          ],
          "scattercarpet": [
           {
            "marker": {
             "colorbar": {
              "outlinewidth": 0,
              "ticks": ""
             }
            },
            "type": "scattercarpet"
           }
          ],
          "scattergeo": [
           {
            "marker": {
             "colorbar": {
              "outlinewidth": 0,
              "ticks": ""
             }
            },
            "type": "scattergeo"
           }
          ],
          "scattergl": [
           {
            "marker": {
             "colorbar": {
              "outlinewidth": 0,
              "ticks": ""
             }
            },
            "type": "scattergl"
           }
          ],
          "scattermapbox": [
           {
            "marker": {
             "colorbar": {
              "outlinewidth": 0,
              "ticks": ""
             }
            },
            "type": "scattermapbox"
           }
          ],
          "scatterpolar": [
           {
            "marker": {
             "colorbar": {
              "outlinewidth": 0,
              "ticks": ""
             }
            },
            "type": "scatterpolar"
           }
          ],
          "scatterpolargl": [
           {
            "marker": {
             "colorbar": {
              "outlinewidth": 0,
              "ticks": ""
             }
            },
            "type": "scatterpolargl"
           }
          ],
          "scatterternary": [
           {
            "marker": {
             "colorbar": {
              "outlinewidth": 0,
              "ticks": ""
             }
            },
            "type": "scatterternary"
           }
          ],
          "surface": [
           {
            "colorbar": {
             "outlinewidth": 0,
             "ticks": ""
            },
            "colorscale": [
             [
              0,
              "#0d0887"
             ],
             [
              0.1111111111111111,
              "#46039f"
             ],
             [
              0.2222222222222222,
              "#7201a8"
             ],
             [
              0.3333333333333333,
              "#9c179e"
             ],
             [
              0.4444444444444444,
              "#bd3786"
             ],
             [
              0.5555555555555556,
              "#d8576b"
             ],
             [
              0.6666666666666666,
              "#ed7953"
             ],
             [
              0.7777777777777778,
              "#fb9f3a"
             ],
             [
              0.8888888888888888,
              "#fdca26"
             ],
             [
              1,
              "#f0f921"
             ]
            ],
            "type": "surface"
           }
          ],
          "table": [
           {
            "cells": {
             "fill": {
              "color": "#EBF0F8"
             },
             "line": {
              "color": "white"
             }
            },
            "header": {
             "fill": {
              "color": "#C8D4E3"
             },
             "line": {
              "color": "white"
             }
            },
            "type": "table"
           }
          ]
         },
         "layout": {
          "annotationdefaults": {
           "arrowcolor": "#2a3f5f",
           "arrowhead": 0,
           "arrowwidth": 1
          },
          "autotypenumbers": "strict",
          "coloraxis": {
           "colorbar": {
            "outlinewidth": 0,
            "ticks": ""
           }
          },
          "colorscale": {
           "diverging": [
            [
             0,
             "#8e0152"
            ],
            [
             0.1,
             "#c51b7d"
            ],
            [
             0.2,
             "#de77ae"
            ],
            [
             0.3,
             "#f1b6da"
            ],
            [
             0.4,
             "#fde0ef"
            ],
            [
             0.5,
             "#f7f7f7"
            ],
            [
             0.6,
             "#e6f5d0"
            ],
            [
             0.7,
             "#b8e186"
            ],
            [
             0.8,
             "#7fbc41"
            ],
            [
             0.9,
             "#4d9221"
            ],
            [
             1,
             "#276419"
            ]
           ],
           "sequential": [
            [
             0,
             "#0d0887"
            ],
            [
             0.1111111111111111,
             "#46039f"
            ],
            [
             0.2222222222222222,
             "#7201a8"
            ],
            [
             0.3333333333333333,
             "#9c179e"
            ],
            [
             0.4444444444444444,
             "#bd3786"
            ],
            [
             0.5555555555555556,
             "#d8576b"
            ],
            [
             0.6666666666666666,
             "#ed7953"
            ],
            [
             0.7777777777777778,
             "#fb9f3a"
            ],
            [
             0.8888888888888888,
             "#fdca26"
            ],
            [
             1,
             "#f0f921"
            ]
           ],
           "sequentialminus": [
            [
             0,
             "#0d0887"
            ],
            [
             0.1111111111111111,
             "#46039f"
            ],
            [
             0.2222222222222222,
             "#7201a8"
            ],
            [
             0.3333333333333333,
             "#9c179e"
            ],
            [
             0.4444444444444444,
             "#bd3786"
            ],
            [
             0.5555555555555556,
             "#d8576b"
            ],
            [
             0.6666666666666666,
             "#ed7953"
            ],
            [
             0.7777777777777778,
             "#fb9f3a"
            ],
            [
             0.8888888888888888,
             "#fdca26"
            ],
            [
             1,
             "#f0f921"
            ]
           ]
          },
          "colorway": [
           "#636efa",
           "#EF553B",
           "#00cc96",
           "#ab63fa",
           "#FFA15A",
           "#19d3f3",
           "#FF6692",
           "#B6E880",
           "#FF97FF",
           "#FECB52"
          ],
          "font": {
           "color": "#2a3f5f"
          },
          "geo": {
           "bgcolor": "white",
           "lakecolor": "white",
           "landcolor": "#E5ECF6",
           "showlakes": true,
           "showland": true,
           "subunitcolor": "white"
          },
          "hoverlabel": {
           "align": "left"
          },
          "hovermode": "closest",
          "mapbox": {
           "style": "light"
          },
          "paper_bgcolor": "white",
          "plot_bgcolor": "#E5ECF6",
          "polar": {
           "angularaxis": {
            "gridcolor": "white",
            "linecolor": "white",
            "ticks": ""
           },
           "bgcolor": "#E5ECF6",
           "radialaxis": {
            "gridcolor": "white",
            "linecolor": "white",
            "ticks": ""
           }
          },
          "scene": {
           "xaxis": {
            "backgroundcolor": "#E5ECF6",
            "gridcolor": "white",
            "gridwidth": 2,
            "linecolor": "white",
            "showbackground": true,
            "ticks": "",
            "zerolinecolor": "white"
           },
           "yaxis": {
            "backgroundcolor": "#E5ECF6",
            "gridcolor": "white",
            "gridwidth": 2,
            "linecolor": "white",
            "showbackground": true,
            "ticks": "",
            "zerolinecolor": "white"
           },
           "zaxis": {
            "backgroundcolor": "#E5ECF6",
            "gridcolor": "white",
            "gridwidth": 2,
            "linecolor": "white",
            "showbackground": true,
            "ticks": "",
            "zerolinecolor": "white"
           }
          },
          "shapedefaults": {
           "line": {
            "color": "#2a3f5f"
           }
          },
          "ternary": {
           "aaxis": {
            "gridcolor": "white",
            "linecolor": "white",
            "ticks": ""
           },
           "baxis": {
            "gridcolor": "white",
            "linecolor": "white",
            "ticks": ""
           },
           "bgcolor": "#E5ECF6",
           "caxis": {
            "gridcolor": "white",
            "linecolor": "white",
            "ticks": ""
           }
          },
          "title": {
           "x": 0.05
          },
          "xaxis": {
           "automargin": true,
           "gridcolor": "white",
           "linecolor": "white",
           "ticks": "",
           "title": {
            "standoff": 15
           },
           "zerolinecolor": "white",
           "zerolinewidth": 2
          },
          "yaxis": {
           "automargin": true,
           "gridcolor": "white",
           "linecolor": "white",
           "ticks": "",
           "title": {
            "standoff": 15
           },
           "zerolinecolor": "white",
           "zerolinewidth": 2
          }
         }
        },
        "title": {
         "text": "Quantidade de Vagas por Combinações de Áreas"
        },
        "uniformtext": {
         "minsize": 8,
         "mode": "hide"
        },
        "xaxis": {
         "anchor": "y",
         "domain": [
          0,
          1
         ],
         "title": {
          "text": "Quantidade"
         }
        },
        "yaxis": {
         "anchor": "x",
         "categoryorder": "total ascending",
         "domain": [
          0,
          1
         ],
         "tickangle": 0,
         "title": {
          "text": "Combinações de Áreas"
         }
        }
       }
      }
     },
     "metadata": {},
     "output_type": "display_data"
    }
   ],
   "source": [
    "# Converter o contador para um DataFrame\n",
    "df_contagem_combinacoes = pd.DataFrame(contagem_combinacoes_areas.items(), columns=['Combinação de Áreas', 'Quantidade'])\n",
    "\n",
    "# Calcular percentual\n",
    "total_combinacoes = df_contagem_combinacoes['Quantidade'].sum()\n",
    "df_contagem_combinacoes['Percentual'] = (df_contagem_combinacoes['Quantidade'] / total_combinacoes) * 100\n",
    "\n",
    "# Ordenar do menor para o maior\n",
    "df_contagem_combinacoes = df_contagem_combinacoes.sort_values(by='Quantidade')\n",
    "\n",
    "# Gráfico de barras com Plotly\n",
    "fig2 = px.bar(df_contagem_combinacoes, x='Quantidade', y='Combinação de Áreas', text='Percentual',\n",
    "              labels={'Quantidade': 'Quantidade', 'Combinação de Áreas': 'Combinações de Áreas'},\n",
    "              title='Quantidade de Vagas por Combinações de Áreas')\n",
    "\n",
    "fig2.update_traces(texttemplate='%{text:.2f}%', textposition='outside')\n",
    "fig2.update_layout(uniformtext_minsize=8, uniformtext_mode='hide', yaxis={'categoryorder':'total ascending'})\n",
    "\n",
    "# Ajuste da margem e espaçamento\n",
    "fig2.update_layout(margin=dict(l=200, r=50, b=50, t=50), yaxis_tickangle=0)\n",
    "\n",
    "fig2.show()"
   ]
  },
  {
   "cell_type": "code",
   "execution_count": 43,
   "metadata": {},
   "outputs": [],
   "source": [
    "tipo_cargo = {\n",
    "    'cargos iniciais': [' estagio ', ' intern ', 'estagiario', ' intern ', ' auxiliar ', ' assistente ', ' assistant ', ' trainee ', ' estagiaria ', ' aprendiz ', ' internship '],\n",
    "    'cargos gestao': [' chief ', ' coordenador ', ' diretor ', ' gerente ', ' head ', ' lider ', ' lead ', ' director ', ' coordinator ', ' manager ', ' diretora ', ' leader ', ' gestor ', ' supervisor '],\n",
    "    'cargos tecnicos': [' coach ', ' analista ', ' analyst ', ' arquiteto ', ' cientista ', ' consultor ', ' engenheiro ', ' engineer ', ' hacker ', ' owner ', ' officer ', ' auditor ', ' administrador ', ' master ', ' architect ', ' scientist ', ' consultant ', ' administrator ', ' dono ', ' tecnico ', ' designer ', ' technician ', ' technical ', ' developer ', ' testador ', ' desenvolvedor ', ' programador ', ' tester ', ' programmer ', ' desenvolvedora ', ' programadora ', ' testadora ', ' dev ', ' webdesiner ', ' webdesign ', ' ux ', ' ui ', ' agilista ', ' qa ', ' quality assurance ', ' po ', ' engenheira ', ' sre ', ' arquiteta ', ' integrator ', ' devsecops ', ' associate ', ' professor ', ' help desk ', ' automatizador ', ' projetista ', ' devops ', ' dba ', ' administradora ', ' product design ', ' instrutor ', ' writer ', ' researcher '],\n",
    "    'cargo y': [' especialista ', ' specialist ', ' product manager '],\n",
    "    }"
   ]
  },
  {
   "cell_type": "code",
   "execution_count": 44,
   "metadata": {},
   "outputs": [],
   "source": [
    "tipo_nivel = {\n",
    "    'niveis iniciais': [' junior ', ' jr ', ' 1 ', ' i '],\n",
    "    'outros niveis': [' pleno ', ' pl ', ' senior ', ' sr ', ' 2 ', ' 3 ', ' 4 ', ' 5 ', ' 6 ', ' 7 ', ' 8 ', ' ii ', ' iii ', ' iv ', ' middle ', ' v '],\n",
    "}"
   ]
  },
  {
   "cell_type": "code",
   "execution_count": 45,
   "metadata": {},
   "outputs": [],
   "source": [
    "prioridade_tipo_cargo = {\n",
    "    'cargos iniciais': 1,\n",
    "    'cargos gestao': 3,\n",
    "    'cargos tecnicos': 4,\n",
    "    'cargo y': 2,\n",
    "}"
   ]
  },
  {
   "cell_type": "code",
   "execution_count": 46,
   "metadata": {},
   "outputs": [
    {
     "name": "stderr",
     "output_type": "stream",
     "text": [
      "C:\\Users\\Inteli\\AppData\\Local\\Temp\\ipykernel_28572\\1051943291.py:1: SettingWithCopyWarning:\n",
      "\n",
      "\n",
      "A value is trying to be set on a copy of a slice from a DataFrame.\n",
      "Try using .loc[row_indexer,col_indexer] = value instead\n",
      "\n",
      "See the caveats in the documentation: https://pandas.pydata.org/pandas-docs/stable/user_guide/indexing.html#returning-a-view-versus-a-copy\n",
      "\n"
     ]
    }
   ],
   "source": [
    "df_tech['tipo_cargo'] = df_tech['Cargo'].apply(lambda x: encontrar_areas_prioritarias(x, tipo_cargo, prioridade_tipo_cargo))"
   ]
  },
  {
   "cell_type": "code",
   "execution_count": 47,
   "metadata": {},
   "outputs": [
    {
     "data": {
      "text/plain": [
       "array(['cargos tecnicos', 'cargos gestao', 'Indefinida',\n",
       "       'cargos iniciais', 'cargo y'], dtype=object)"
      ]
     },
     "execution_count": 47,
     "metadata": {},
     "output_type": "execute_result"
    }
   ],
   "source": [
    "df_tech['tipo_cargo'].unique()"
   ]
  },
  {
   "cell_type": "code",
   "execution_count": 48,
   "metadata": {},
   "outputs": [
    {
     "data": {
      "text/plain": [
       "5"
      ]
     },
     "execution_count": 48,
     "metadata": {},
     "output_type": "execute_result"
    }
   ],
   "source": [
    "df_tech['tipo_cargo'].nunique()"
   ]
  },
  {
   "cell_type": "code",
   "execution_count": 49,
   "metadata": {},
   "outputs": [],
   "source": [
    "df_tech.to_csv('df_tech_tipo_cargo.csv', columns=['Cargo', 'palavra_chave', 'cargos_tech', 'area','macro_area', 'tipo_cargo'], index = False)"
   ]
  },
  {
   "cell_type": "code",
   "execution_count": 50,
   "metadata": {},
   "outputs": [
    {
     "data": {
      "application/vnd.plotly.v1+json": {
       "config": {
        "plotlyServerURL": "https://plot.ly"
       },
       "data": [
        {
         "alignmentgroup": "True",
         "hovertemplate": "Quantidade=%{x}<br>Combinações de Áreas=%{y}<br>Percentual=%{text}<extra></extra>",
         "legendgroup": "",
         "marker": {
          "color": "#636efa",
          "pattern": {
           "shape": ""
          }
         },
         "name": "",
         "offsetgroup": "",
         "orientation": "h",
         "showlegend": false,
         "text": [
          4.441573124444803,
          4.9745618993781795,
          7.926189130259226,
          10.526528304934184,
          72.1311475409836
         ],
         "textposition": "outside",
         "texttemplate": "%{text:.2f}%",
         "type": "bar",
         "x": [
          1100,
          1232,
          1963,
          2607,
          17864
         ],
         "xaxis": "x",
         "y": [
          "cargo y",
          "Indefinida",
          "cargos gestao",
          "cargos iniciais",
          "cargos tecnicos"
         ],
         "yaxis": "y"
        }
       ],
       "layout": {
        "barmode": "relative",
        "legend": {
         "tracegroupgap": 0
        },
        "margin": {
         "b": 50,
         "l": 200,
         "r": 50,
         "t": 50
        },
        "template": {
         "data": {
          "bar": [
           {
            "error_x": {
             "color": "#2a3f5f"
            },
            "error_y": {
             "color": "#2a3f5f"
            },
            "marker": {
             "line": {
              "color": "#E5ECF6",
              "width": 0.5
             },
             "pattern": {
              "fillmode": "overlay",
              "size": 10,
              "solidity": 0.2
             }
            },
            "type": "bar"
           }
          ],
          "barpolar": [
           {
            "marker": {
             "line": {
              "color": "#E5ECF6",
              "width": 0.5
             },
             "pattern": {
              "fillmode": "overlay",
              "size": 10,
              "solidity": 0.2
             }
            },
            "type": "barpolar"
           }
          ],
          "carpet": [
           {
            "aaxis": {
             "endlinecolor": "#2a3f5f",
             "gridcolor": "white",
             "linecolor": "white",
             "minorgridcolor": "white",
             "startlinecolor": "#2a3f5f"
            },
            "baxis": {
             "endlinecolor": "#2a3f5f",
             "gridcolor": "white",
             "linecolor": "white",
             "minorgridcolor": "white",
             "startlinecolor": "#2a3f5f"
            },
            "type": "carpet"
           }
          ],
          "choropleth": [
           {
            "colorbar": {
             "outlinewidth": 0,
             "ticks": ""
            },
            "type": "choropleth"
           }
          ],
          "contour": [
           {
            "colorbar": {
             "outlinewidth": 0,
             "ticks": ""
            },
            "colorscale": [
             [
              0,
              "#0d0887"
             ],
             [
              0.1111111111111111,
              "#46039f"
             ],
             [
              0.2222222222222222,
              "#7201a8"
             ],
             [
              0.3333333333333333,
              "#9c179e"
             ],
             [
              0.4444444444444444,
              "#bd3786"
             ],
             [
              0.5555555555555556,
              "#d8576b"
             ],
             [
              0.6666666666666666,
              "#ed7953"
             ],
             [
              0.7777777777777778,
              "#fb9f3a"
             ],
             [
              0.8888888888888888,
              "#fdca26"
             ],
             [
              1,
              "#f0f921"
             ]
            ],
            "type": "contour"
           }
          ],
          "contourcarpet": [
           {
            "colorbar": {
             "outlinewidth": 0,
             "ticks": ""
            },
            "type": "contourcarpet"
           }
          ],
          "heatmap": [
           {
            "colorbar": {
             "outlinewidth": 0,
             "ticks": ""
            },
            "colorscale": [
             [
              0,
              "#0d0887"
             ],
             [
              0.1111111111111111,
              "#46039f"
             ],
             [
              0.2222222222222222,
              "#7201a8"
             ],
             [
              0.3333333333333333,
              "#9c179e"
             ],
             [
              0.4444444444444444,
              "#bd3786"
             ],
             [
              0.5555555555555556,
              "#d8576b"
             ],
             [
              0.6666666666666666,
              "#ed7953"
             ],
             [
              0.7777777777777778,
              "#fb9f3a"
             ],
             [
              0.8888888888888888,
              "#fdca26"
             ],
             [
              1,
              "#f0f921"
             ]
            ],
            "type": "heatmap"
           }
          ],
          "heatmapgl": [
           {
            "colorbar": {
             "outlinewidth": 0,
             "ticks": ""
            },
            "colorscale": [
             [
              0,
              "#0d0887"
             ],
             [
              0.1111111111111111,
              "#46039f"
             ],
             [
              0.2222222222222222,
              "#7201a8"
             ],
             [
              0.3333333333333333,
              "#9c179e"
             ],
             [
              0.4444444444444444,
              "#bd3786"
             ],
             [
              0.5555555555555556,
              "#d8576b"
             ],
             [
              0.6666666666666666,
              "#ed7953"
             ],
             [
              0.7777777777777778,
              "#fb9f3a"
             ],
             [
              0.8888888888888888,
              "#fdca26"
             ],
             [
              1,
              "#f0f921"
             ]
            ],
            "type": "heatmapgl"
           }
          ],
          "histogram": [
           {
            "marker": {
             "pattern": {
              "fillmode": "overlay",
              "size": 10,
              "solidity": 0.2
             }
            },
            "type": "histogram"
           }
          ],
          "histogram2d": [
           {
            "colorbar": {
             "outlinewidth": 0,
             "ticks": ""
            },
            "colorscale": [
             [
              0,
              "#0d0887"
             ],
             [
              0.1111111111111111,
              "#46039f"
             ],
             [
              0.2222222222222222,
              "#7201a8"
             ],
             [
              0.3333333333333333,
              "#9c179e"
             ],
             [
              0.4444444444444444,
              "#bd3786"
             ],
             [
              0.5555555555555556,
              "#d8576b"
             ],
             [
              0.6666666666666666,
              "#ed7953"
             ],
             [
              0.7777777777777778,
              "#fb9f3a"
             ],
             [
              0.8888888888888888,
              "#fdca26"
             ],
             [
              1,
              "#f0f921"
             ]
            ],
            "type": "histogram2d"
           }
          ],
          "histogram2dcontour": [
           {
            "colorbar": {
             "outlinewidth": 0,
             "ticks": ""
            },
            "colorscale": [
             [
              0,
              "#0d0887"
             ],
             [
              0.1111111111111111,
              "#46039f"
             ],
             [
              0.2222222222222222,
              "#7201a8"
             ],
             [
              0.3333333333333333,
              "#9c179e"
             ],
             [
              0.4444444444444444,
              "#bd3786"
             ],
             [
              0.5555555555555556,
              "#d8576b"
             ],
             [
              0.6666666666666666,
              "#ed7953"
             ],
             [
              0.7777777777777778,
              "#fb9f3a"
             ],
             [
              0.8888888888888888,
              "#fdca26"
             ],
             [
              1,
              "#f0f921"
             ]
            ],
            "type": "histogram2dcontour"
           }
          ],
          "mesh3d": [
           {
            "colorbar": {
             "outlinewidth": 0,
             "ticks": ""
            },
            "type": "mesh3d"
           }
          ],
          "parcoords": [
           {
            "line": {
             "colorbar": {
              "outlinewidth": 0,
              "ticks": ""
             }
            },
            "type": "parcoords"
           }
          ],
          "pie": [
           {
            "automargin": true,
            "type": "pie"
           }
          ],
          "scatter": [
           {
            "fillpattern": {
             "fillmode": "overlay",
             "size": 10,
             "solidity": 0.2
            },
            "type": "scatter"
           }
          ],
          "scatter3d": [
           {
            "line": {
             "colorbar": {
              "outlinewidth": 0,
              "ticks": ""
             }
            },
            "marker": {
             "colorbar": {
              "outlinewidth": 0,
              "ticks": ""
             }
            },
            "type": "scatter3d"
           }
          ],
          "scattercarpet": [
           {
            "marker": {
             "colorbar": {
              "outlinewidth": 0,
              "ticks": ""
             }
            },
            "type": "scattercarpet"
           }
          ],
          "scattergeo": [
           {
            "marker": {
             "colorbar": {
              "outlinewidth": 0,
              "ticks": ""
             }
            },
            "type": "scattergeo"
           }
          ],
          "scattergl": [
           {
            "marker": {
             "colorbar": {
              "outlinewidth": 0,
              "ticks": ""
             }
            },
            "type": "scattergl"
           }
          ],
          "scattermapbox": [
           {
            "marker": {
             "colorbar": {
              "outlinewidth": 0,
              "ticks": ""
             }
            },
            "type": "scattermapbox"
           }
          ],
          "scatterpolar": [
           {
            "marker": {
             "colorbar": {
              "outlinewidth": 0,
              "ticks": ""
             }
            },
            "type": "scatterpolar"
           }
          ],
          "scatterpolargl": [
           {
            "marker": {
             "colorbar": {
              "outlinewidth": 0,
              "ticks": ""
             }
            },
            "type": "scatterpolargl"
           }
          ],
          "scatterternary": [
           {
            "marker": {
             "colorbar": {
              "outlinewidth": 0,
              "ticks": ""
             }
            },
            "type": "scatterternary"
           }
          ],
          "surface": [
           {
            "colorbar": {
             "outlinewidth": 0,
             "ticks": ""
            },
            "colorscale": [
             [
              0,
              "#0d0887"
             ],
             [
              0.1111111111111111,
              "#46039f"
             ],
             [
              0.2222222222222222,
              "#7201a8"
             ],
             [
              0.3333333333333333,
              "#9c179e"
             ],
             [
              0.4444444444444444,
              "#bd3786"
             ],
             [
              0.5555555555555556,
              "#d8576b"
             ],
             [
              0.6666666666666666,
              "#ed7953"
             ],
             [
              0.7777777777777778,
              "#fb9f3a"
             ],
             [
              0.8888888888888888,
              "#fdca26"
             ],
             [
              1,
              "#f0f921"
             ]
            ],
            "type": "surface"
           }
          ],
          "table": [
           {
            "cells": {
             "fill": {
              "color": "#EBF0F8"
             },
             "line": {
              "color": "white"
             }
            },
            "header": {
             "fill": {
              "color": "#C8D4E3"
             },
             "line": {
              "color": "white"
             }
            },
            "type": "table"
           }
          ]
         },
         "layout": {
          "annotationdefaults": {
           "arrowcolor": "#2a3f5f",
           "arrowhead": 0,
           "arrowwidth": 1
          },
          "autotypenumbers": "strict",
          "coloraxis": {
           "colorbar": {
            "outlinewidth": 0,
            "ticks": ""
           }
          },
          "colorscale": {
           "diverging": [
            [
             0,
             "#8e0152"
            ],
            [
             0.1,
             "#c51b7d"
            ],
            [
             0.2,
             "#de77ae"
            ],
            [
             0.3,
             "#f1b6da"
            ],
            [
             0.4,
             "#fde0ef"
            ],
            [
             0.5,
             "#f7f7f7"
            ],
            [
             0.6,
             "#e6f5d0"
            ],
            [
             0.7,
             "#b8e186"
            ],
            [
             0.8,
             "#7fbc41"
            ],
            [
             0.9,
             "#4d9221"
            ],
            [
             1,
             "#276419"
            ]
           ],
           "sequential": [
            [
             0,
             "#0d0887"
            ],
            [
             0.1111111111111111,
             "#46039f"
            ],
            [
             0.2222222222222222,
             "#7201a8"
            ],
            [
             0.3333333333333333,
             "#9c179e"
            ],
            [
             0.4444444444444444,
             "#bd3786"
            ],
            [
             0.5555555555555556,
             "#d8576b"
            ],
            [
             0.6666666666666666,
             "#ed7953"
            ],
            [
             0.7777777777777778,
             "#fb9f3a"
            ],
            [
             0.8888888888888888,
             "#fdca26"
            ],
            [
             1,
             "#f0f921"
            ]
           ],
           "sequentialminus": [
            [
             0,
             "#0d0887"
            ],
            [
             0.1111111111111111,
             "#46039f"
            ],
            [
             0.2222222222222222,
             "#7201a8"
            ],
            [
             0.3333333333333333,
             "#9c179e"
            ],
            [
             0.4444444444444444,
             "#bd3786"
            ],
            [
             0.5555555555555556,
             "#d8576b"
            ],
            [
             0.6666666666666666,
             "#ed7953"
            ],
            [
             0.7777777777777778,
             "#fb9f3a"
            ],
            [
             0.8888888888888888,
             "#fdca26"
            ],
            [
             1,
             "#f0f921"
            ]
           ]
          },
          "colorway": [
           "#636efa",
           "#EF553B",
           "#00cc96",
           "#ab63fa",
           "#FFA15A",
           "#19d3f3",
           "#FF6692",
           "#B6E880",
           "#FF97FF",
           "#FECB52"
          ],
          "font": {
           "color": "#2a3f5f"
          },
          "geo": {
           "bgcolor": "white",
           "lakecolor": "white",
           "landcolor": "#E5ECF6",
           "showlakes": true,
           "showland": true,
           "subunitcolor": "white"
          },
          "hoverlabel": {
           "align": "left"
          },
          "hovermode": "closest",
          "mapbox": {
           "style": "light"
          },
          "paper_bgcolor": "white",
          "plot_bgcolor": "#E5ECF6",
          "polar": {
           "angularaxis": {
            "gridcolor": "white",
            "linecolor": "white",
            "ticks": ""
           },
           "bgcolor": "#E5ECF6",
           "radialaxis": {
            "gridcolor": "white",
            "linecolor": "white",
            "ticks": ""
           }
          },
          "scene": {
           "xaxis": {
            "backgroundcolor": "#E5ECF6",
            "gridcolor": "white",
            "gridwidth": 2,
            "linecolor": "white",
            "showbackground": true,
            "ticks": "",
            "zerolinecolor": "white"
           },
           "yaxis": {
            "backgroundcolor": "#E5ECF6",
            "gridcolor": "white",
            "gridwidth": 2,
            "linecolor": "white",
            "showbackground": true,
            "ticks": "",
            "zerolinecolor": "white"
           },
           "zaxis": {
            "backgroundcolor": "#E5ECF6",
            "gridcolor": "white",
            "gridwidth": 2,
            "linecolor": "white",
            "showbackground": true,
            "ticks": "",
            "zerolinecolor": "white"
           }
          },
          "shapedefaults": {
           "line": {
            "color": "#2a3f5f"
           }
          },
          "ternary": {
           "aaxis": {
            "gridcolor": "white",
            "linecolor": "white",
            "ticks": ""
           },
           "baxis": {
            "gridcolor": "white",
            "linecolor": "white",
            "ticks": ""
           },
           "bgcolor": "#E5ECF6",
           "caxis": {
            "gridcolor": "white",
            "linecolor": "white",
            "ticks": ""
           }
          },
          "title": {
           "x": 0.05
          },
          "xaxis": {
           "automargin": true,
           "gridcolor": "white",
           "linecolor": "white",
           "ticks": "",
           "title": {
            "standoff": 15
           },
           "zerolinecolor": "white",
           "zerolinewidth": 2
          },
          "yaxis": {
           "automargin": true,
           "gridcolor": "white",
           "linecolor": "white",
           "ticks": "",
           "title": {
            "standoff": 15
           },
           "zerolinecolor": "white",
           "zerolinewidth": 2
          }
         }
        },
        "title": {
         "text": "Quantidade de Vagas por Combinações de Áreas"
        },
        "uniformtext": {
         "minsize": 8,
         "mode": "hide"
        },
        "xaxis": {
         "anchor": "y",
         "domain": [
          0,
          1
         ],
         "title": {
          "text": "Quantidade"
         }
        },
        "yaxis": {
         "anchor": "x",
         "categoryorder": "total ascending",
         "domain": [
          0,
          1
         ],
         "tickangle": 0,
         "title": {
          "text": "Combinações de Áreas"
         }
        }
       }
      }
     },
     "metadata": {},
     "output_type": "display_data"
    }
   ],
   "source": [
    "# Contabilizar combinações de áreas\n",
    "contagem_combinacoes_tipo_cargo = Counter(df_tech['tipo_cargo'])\n",
    "\n",
    "# Converter o contador para um DataFrame\n",
    "df_contagem_combinacoes_tipo_cargo = pd.DataFrame(contagem_combinacoes_tipo_cargo.items(), columns=['Combinação de Áreas', 'Quantidade'])\n",
    "\n",
    "# Calcular percentual\n",
    "total_combinacoes = df_contagem_combinacoes_tipo_cargo['Quantidade'].sum()\n",
    "df_contagem_combinacoes_tipo_cargo['Percentual'] = (df_contagem_combinacoes_tipo_cargo['Quantidade'] / total_combinacoes) * 100\n",
    "\n",
    "# Ordenar do menor para o maior\n",
    "df_contagem_combinacoes_tipo_cargo = df_contagem_combinacoes_tipo_cargo.sort_values(by='Quantidade')\n",
    "\n",
    "# Gráfico de barras com Plotly\n",
    "fig2 = px.bar(df_contagem_combinacoes_tipo_cargo, x='Quantidade', y='Combinação de Áreas', text='Percentual',\n",
    "              labels={'Quantidade': 'Quantidade', 'Combinação de Áreas': 'Combinações de Áreas'},\n",
    "              title='Quantidade de Vagas por Combinações de Áreas')\n",
    "\n",
    "fig2.update_traces(texttemplate='%{text:.2f}%', textposition='outside')\n",
    "fig2.update_layout(uniformtext_minsize=8, uniformtext_mode='hide', yaxis={'categoryorder':'total ascending'})\n",
    "\n",
    "# Ajuste da margem e espaçamento\n",
    "fig2.update_layout(margin=dict(l=200, r=50, b=50, t=50), yaxis_tickangle=0)\n",
    "\n",
    "fig2.show()"
   ]
  },
  {
   "cell_type": "code",
   "execution_count": 51,
   "metadata": {},
   "outputs": [
    {
     "name": "stderr",
     "output_type": "stream",
     "text": [
      "C:\\Users\\Inteli\\AppData\\Local\\Temp\\ipykernel_28572\\3853992268.py:1: SettingWithCopyWarning:\n",
      "\n",
      "\n",
      "A value is trying to be set on a copy of a slice from a DataFrame.\n",
      "Try using .loc[row_indexer,col_indexer] = value instead\n",
      "\n",
      "See the caveats in the documentation: https://pandas.pydata.org/pandas-docs/stable/user_guide/indexing.html#returning-a-view-versus-a-copy\n",
      "\n"
     ]
    }
   ],
   "source": [
    "df_tech['tipo_nivel'] = df_tech['Cargo'].apply(lambda x: encontrar_areas(x, tipo_nivel))"
   ]
  },
  {
   "cell_type": "code",
   "execution_count": 52,
   "metadata": {},
   "outputs": [
    {
     "data": {
      "text/plain": [
       "array(['outros niveis', 'Indefinida', 'niveis iniciais',\n",
       "       'niveis iniciais, outros niveis'], dtype=object)"
      ]
     },
     "execution_count": 52,
     "metadata": {},
     "output_type": "execute_result"
    }
   ],
   "source": [
    "df_tech['tipo_nivel'].unique()"
   ]
  },
  {
   "cell_type": "code",
   "execution_count": 53,
   "metadata": {},
   "outputs": [
    {
     "data": {
      "application/vnd.plotly.v1+json": {
       "config": {
        "plotlyServerURL": "https://plot.ly"
       },
       "data": [
        {
         "alignmentgroup": "True",
         "hovertemplate": "Quantidade=%{x}<br>Combinações de Áreas=%{y}<br>Percentual=%{text}<extra></extra>",
         "legendgroup": "",
         "marker": {
          "color": "#636efa",
          "pattern": {
           "shape": ""
          }
         },
         "name": "",
         "offsetgroup": "",
         "orientation": "h",
         "showlegend": false,
         "text": [
          0.4885730436889284,
          7.83735766777033,
          25.276588871840428,
          66.39748041670032
         ],
         "textposition": "outside",
         "texttemplate": "%{text:.2f}%",
         "type": "bar",
         "x": [
          121,
          1941,
          6260,
          16444
         ],
         "xaxis": "x",
         "y": [
          "niveis iniciais, outros niveis",
          "niveis iniciais",
          "outros niveis",
          "Indefinida"
         ],
         "yaxis": "y"
        }
       ],
       "layout": {
        "barmode": "relative",
        "legend": {
         "tracegroupgap": 0
        },
        "margin": {
         "b": 50,
         "l": 200,
         "r": 50,
         "t": 50
        },
        "template": {
         "data": {
          "bar": [
           {
            "error_x": {
             "color": "#2a3f5f"
            },
            "error_y": {
             "color": "#2a3f5f"
            },
            "marker": {
             "line": {
              "color": "#E5ECF6",
              "width": 0.5
             },
             "pattern": {
              "fillmode": "overlay",
              "size": 10,
              "solidity": 0.2
             }
            },
            "type": "bar"
           }
          ],
          "barpolar": [
           {
            "marker": {
             "line": {
              "color": "#E5ECF6",
              "width": 0.5
             },
             "pattern": {
              "fillmode": "overlay",
              "size": 10,
              "solidity": 0.2
             }
            },
            "type": "barpolar"
           }
          ],
          "carpet": [
           {
            "aaxis": {
             "endlinecolor": "#2a3f5f",
             "gridcolor": "white",
             "linecolor": "white",
             "minorgridcolor": "white",
             "startlinecolor": "#2a3f5f"
            },
            "baxis": {
             "endlinecolor": "#2a3f5f",
             "gridcolor": "white",
             "linecolor": "white",
             "minorgridcolor": "white",
             "startlinecolor": "#2a3f5f"
            },
            "type": "carpet"
           }
          ],
          "choropleth": [
           {
            "colorbar": {
             "outlinewidth": 0,
             "ticks": ""
            },
            "type": "choropleth"
           }
          ],
          "contour": [
           {
            "colorbar": {
             "outlinewidth": 0,
             "ticks": ""
            },
            "colorscale": [
             [
              0,
              "#0d0887"
             ],
             [
              0.1111111111111111,
              "#46039f"
             ],
             [
              0.2222222222222222,
              "#7201a8"
             ],
             [
              0.3333333333333333,
              "#9c179e"
             ],
             [
              0.4444444444444444,
              "#bd3786"
             ],
             [
              0.5555555555555556,
              "#d8576b"
             ],
             [
              0.6666666666666666,
              "#ed7953"
             ],
             [
              0.7777777777777778,
              "#fb9f3a"
             ],
             [
              0.8888888888888888,
              "#fdca26"
             ],
             [
              1,
              "#f0f921"
             ]
            ],
            "type": "contour"
           }
          ],
          "contourcarpet": [
           {
            "colorbar": {
             "outlinewidth": 0,
             "ticks": ""
            },
            "type": "contourcarpet"
           }
          ],
          "heatmap": [
           {
            "colorbar": {
             "outlinewidth": 0,
             "ticks": ""
            },
            "colorscale": [
             [
              0,
              "#0d0887"
             ],
             [
              0.1111111111111111,
              "#46039f"
             ],
             [
              0.2222222222222222,
              "#7201a8"
             ],
             [
              0.3333333333333333,
              "#9c179e"
             ],
             [
              0.4444444444444444,
              "#bd3786"
             ],
             [
              0.5555555555555556,
              "#d8576b"
             ],
             [
              0.6666666666666666,
              "#ed7953"
             ],
             [
              0.7777777777777778,
              "#fb9f3a"
             ],
             [
              0.8888888888888888,
              "#fdca26"
             ],
             [
              1,
              "#f0f921"
             ]
            ],
            "type": "heatmap"
           }
          ],
          "heatmapgl": [
           {
            "colorbar": {
             "outlinewidth": 0,
             "ticks": ""
            },
            "colorscale": [
             [
              0,
              "#0d0887"
             ],
             [
              0.1111111111111111,
              "#46039f"
             ],
             [
              0.2222222222222222,
              "#7201a8"
             ],
             [
              0.3333333333333333,
              "#9c179e"
             ],
             [
              0.4444444444444444,
              "#bd3786"
             ],
             [
              0.5555555555555556,
              "#d8576b"
             ],
             [
              0.6666666666666666,
              "#ed7953"
             ],
             [
              0.7777777777777778,
              "#fb9f3a"
             ],
             [
              0.8888888888888888,
              "#fdca26"
             ],
             [
              1,
              "#f0f921"
             ]
            ],
            "type": "heatmapgl"
           }
          ],
          "histogram": [
           {
            "marker": {
             "pattern": {
              "fillmode": "overlay",
              "size": 10,
              "solidity": 0.2
             }
            },
            "type": "histogram"
           }
          ],
          "histogram2d": [
           {
            "colorbar": {
             "outlinewidth": 0,
             "ticks": ""
            },
            "colorscale": [
             [
              0,
              "#0d0887"
             ],
             [
              0.1111111111111111,
              "#46039f"
             ],
             [
              0.2222222222222222,
              "#7201a8"
             ],
             [
              0.3333333333333333,
              "#9c179e"
             ],
             [
              0.4444444444444444,
              "#bd3786"
             ],
             [
              0.5555555555555556,
              "#d8576b"
             ],
             [
              0.6666666666666666,
              "#ed7953"
             ],
             [
              0.7777777777777778,
              "#fb9f3a"
             ],
             [
              0.8888888888888888,
              "#fdca26"
             ],
             [
              1,
              "#f0f921"
             ]
            ],
            "type": "histogram2d"
           }
          ],
          "histogram2dcontour": [
           {
            "colorbar": {
             "outlinewidth": 0,
             "ticks": ""
            },
            "colorscale": [
             [
              0,
              "#0d0887"
             ],
             [
              0.1111111111111111,
              "#46039f"
             ],
             [
              0.2222222222222222,
              "#7201a8"
             ],
             [
              0.3333333333333333,
              "#9c179e"
             ],
             [
              0.4444444444444444,
              "#bd3786"
             ],
             [
              0.5555555555555556,
              "#d8576b"
             ],
             [
              0.6666666666666666,
              "#ed7953"
             ],
             [
              0.7777777777777778,
              "#fb9f3a"
             ],
             [
              0.8888888888888888,
              "#fdca26"
             ],
             [
              1,
              "#f0f921"
             ]
            ],
            "type": "histogram2dcontour"
           }
          ],
          "mesh3d": [
           {
            "colorbar": {
             "outlinewidth": 0,
             "ticks": ""
            },
            "type": "mesh3d"
           }
          ],
          "parcoords": [
           {
            "line": {
             "colorbar": {
              "outlinewidth": 0,
              "ticks": ""
             }
            },
            "type": "parcoords"
           }
          ],
          "pie": [
           {
            "automargin": true,
            "type": "pie"
           }
          ],
          "scatter": [
           {
            "fillpattern": {
             "fillmode": "overlay",
             "size": 10,
             "solidity": 0.2
            },
            "type": "scatter"
           }
          ],
          "scatter3d": [
           {
            "line": {
             "colorbar": {
              "outlinewidth": 0,
              "ticks": ""
             }
            },
            "marker": {
             "colorbar": {
              "outlinewidth": 0,
              "ticks": ""
             }
            },
            "type": "scatter3d"
           }
          ],
          "scattercarpet": [
           {
            "marker": {
             "colorbar": {
              "outlinewidth": 0,
              "ticks": ""
             }
            },
            "type": "scattercarpet"
           }
          ],
          "scattergeo": [
           {
            "marker": {
             "colorbar": {
              "outlinewidth": 0,
              "ticks": ""
             }
            },
            "type": "scattergeo"
           }
          ],
          "scattergl": [
           {
            "marker": {
             "colorbar": {
              "outlinewidth": 0,
              "ticks": ""
             }
            },
            "type": "scattergl"
           }
          ],
          "scattermapbox": [
           {
            "marker": {
             "colorbar": {
              "outlinewidth": 0,
              "ticks": ""
             }
            },
            "type": "scattermapbox"
           }
          ],
          "scatterpolar": [
           {
            "marker": {
             "colorbar": {
              "outlinewidth": 0,
              "ticks": ""
             }
            },
            "type": "scatterpolar"
           }
          ],
          "scatterpolargl": [
           {
            "marker": {
             "colorbar": {
              "outlinewidth": 0,
              "ticks": ""
             }
            },
            "type": "scatterpolargl"
           }
          ],
          "scatterternary": [
           {
            "marker": {
             "colorbar": {
              "outlinewidth": 0,
              "ticks": ""
             }
            },
            "type": "scatterternary"
           }
          ],
          "surface": [
           {
            "colorbar": {
             "outlinewidth": 0,
             "ticks": ""
            },
            "colorscale": [
             [
              0,
              "#0d0887"
             ],
             [
              0.1111111111111111,
              "#46039f"
             ],
             [
              0.2222222222222222,
              "#7201a8"
             ],
             [
              0.3333333333333333,
              "#9c179e"
             ],
             [
              0.4444444444444444,
              "#bd3786"
             ],
             [
              0.5555555555555556,
              "#d8576b"
             ],
             [
              0.6666666666666666,
              "#ed7953"
             ],
             [
              0.7777777777777778,
              "#fb9f3a"
             ],
             [
              0.8888888888888888,
              "#fdca26"
             ],
             [
              1,
              "#f0f921"
             ]
            ],
            "type": "surface"
           }
          ],
          "table": [
           {
            "cells": {
             "fill": {
              "color": "#EBF0F8"
             },
             "line": {
              "color": "white"
             }
            },
            "header": {
             "fill": {
              "color": "#C8D4E3"
             },
             "line": {
              "color": "white"
             }
            },
            "type": "table"
           }
          ]
         },
         "layout": {
          "annotationdefaults": {
           "arrowcolor": "#2a3f5f",
           "arrowhead": 0,
           "arrowwidth": 1
          },
          "autotypenumbers": "strict",
          "coloraxis": {
           "colorbar": {
            "outlinewidth": 0,
            "ticks": ""
           }
          },
          "colorscale": {
           "diverging": [
            [
             0,
             "#8e0152"
            ],
            [
             0.1,
             "#c51b7d"
            ],
            [
             0.2,
             "#de77ae"
            ],
            [
             0.3,
             "#f1b6da"
            ],
            [
             0.4,
             "#fde0ef"
            ],
            [
             0.5,
             "#f7f7f7"
            ],
            [
             0.6,
             "#e6f5d0"
            ],
            [
             0.7,
             "#b8e186"
            ],
            [
             0.8,
             "#7fbc41"
            ],
            [
             0.9,
             "#4d9221"
            ],
            [
             1,
             "#276419"
            ]
           ],
           "sequential": [
            [
             0,
             "#0d0887"
            ],
            [
             0.1111111111111111,
             "#46039f"
            ],
            [
             0.2222222222222222,
             "#7201a8"
            ],
            [
             0.3333333333333333,
             "#9c179e"
            ],
            [
             0.4444444444444444,
             "#bd3786"
            ],
            [
             0.5555555555555556,
             "#d8576b"
            ],
            [
             0.6666666666666666,
             "#ed7953"
            ],
            [
             0.7777777777777778,
             "#fb9f3a"
            ],
            [
             0.8888888888888888,
             "#fdca26"
            ],
            [
             1,
             "#f0f921"
            ]
           ],
           "sequentialminus": [
            [
             0,
             "#0d0887"
            ],
            [
             0.1111111111111111,
             "#46039f"
            ],
            [
             0.2222222222222222,
             "#7201a8"
            ],
            [
             0.3333333333333333,
             "#9c179e"
            ],
            [
             0.4444444444444444,
             "#bd3786"
            ],
            [
             0.5555555555555556,
             "#d8576b"
            ],
            [
             0.6666666666666666,
             "#ed7953"
            ],
            [
             0.7777777777777778,
             "#fb9f3a"
            ],
            [
             0.8888888888888888,
             "#fdca26"
            ],
            [
             1,
             "#f0f921"
            ]
           ]
          },
          "colorway": [
           "#636efa",
           "#EF553B",
           "#00cc96",
           "#ab63fa",
           "#FFA15A",
           "#19d3f3",
           "#FF6692",
           "#B6E880",
           "#FF97FF",
           "#FECB52"
          ],
          "font": {
           "color": "#2a3f5f"
          },
          "geo": {
           "bgcolor": "white",
           "lakecolor": "white",
           "landcolor": "#E5ECF6",
           "showlakes": true,
           "showland": true,
           "subunitcolor": "white"
          },
          "hoverlabel": {
           "align": "left"
          },
          "hovermode": "closest",
          "mapbox": {
           "style": "light"
          },
          "paper_bgcolor": "white",
          "plot_bgcolor": "#E5ECF6",
          "polar": {
           "angularaxis": {
            "gridcolor": "white",
            "linecolor": "white",
            "ticks": ""
           },
           "bgcolor": "#E5ECF6",
           "radialaxis": {
            "gridcolor": "white",
            "linecolor": "white",
            "ticks": ""
           }
          },
          "scene": {
           "xaxis": {
            "backgroundcolor": "#E5ECF6",
            "gridcolor": "white",
            "gridwidth": 2,
            "linecolor": "white",
            "showbackground": true,
            "ticks": "",
            "zerolinecolor": "white"
           },
           "yaxis": {
            "backgroundcolor": "#E5ECF6",
            "gridcolor": "white",
            "gridwidth": 2,
            "linecolor": "white",
            "showbackground": true,
            "ticks": "",
            "zerolinecolor": "white"
           },
           "zaxis": {
            "backgroundcolor": "#E5ECF6",
            "gridcolor": "white",
            "gridwidth": 2,
            "linecolor": "white",
            "showbackground": true,
            "ticks": "",
            "zerolinecolor": "white"
           }
          },
          "shapedefaults": {
           "line": {
            "color": "#2a3f5f"
           }
          },
          "ternary": {
           "aaxis": {
            "gridcolor": "white",
            "linecolor": "white",
            "ticks": ""
           },
           "baxis": {
            "gridcolor": "white",
            "linecolor": "white",
            "ticks": ""
           },
           "bgcolor": "#E5ECF6",
           "caxis": {
            "gridcolor": "white",
            "linecolor": "white",
            "ticks": ""
           }
          },
          "title": {
           "x": 0.05
          },
          "xaxis": {
           "automargin": true,
           "gridcolor": "white",
           "linecolor": "white",
           "ticks": "",
           "title": {
            "standoff": 15
           },
           "zerolinecolor": "white",
           "zerolinewidth": 2
          },
          "yaxis": {
           "automargin": true,
           "gridcolor": "white",
           "linecolor": "white",
           "ticks": "",
           "title": {
            "standoff": 15
           },
           "zerolinecolor": "white",
           "zerolinewidth": 2
          }
         }
        },
        "title": {
         "text": "Quantidade de Vagas por Combinações de Áreas"
        },
        "uniformtext": {
         "minsize": 8,
         "mode": "hide"
        },
        "xaxis": {
         "anchor": "y",
         "domain": [
          0,
          1
         ],
         "title": {
          "text": "Quantidade"
         }
        },
        "yaxis": {
         "anchor": "x",
         "categoryorder": "total ascending",
         "domain": [
          0,
          1
         ],
         "tickangle": 0,
         "title": {
          "text": "Combinações de Áreas"
         }
        }
       }
      }
     },
     "metadata": {},
     "output_type": "display_data"
    }
   ],
   "source": [
    "# Contabilizar combinações de áreas\n",
    "contagem_combinacoes_tipo_nivel = Counter(df_tech['tipo_nivel'])\n",
    "\n",
    "# Converter o contador para um DataFrame\n",
    "df_contagem_combinacoes_tipo_nivel = pd.DataFrame(contagem_combinacoes_tipo_nivel.items(), columns=['Combinação de Áreas', 'Quantidade'])\n",
    "\n",
    "# Calcular percentual\n",
    "total_combinacoes = df_contagem_combinacoes_tipo_nivel['Quantidade'].sum()\n",
    "df_contagem_combinacoes_tipo_nivel['Percentual'] = (df_contagem_combinacoes_tipo_nivel['Quantidade'] / total_combinacoes) * 100\n",
    "\n",
    "# Ordenar do menor para o maior\n",
    "df_contagem_combinacoes_tipo_nivel = df_contagem_combinacoes_tipo_nivel.sort_values(by='Quantidade')\n",
    "\n",
    "# Gráfico de barras com Plotly\n",
    "fig2 = px.bar(df_contagem_combinacoes_tipo_nivel, x='Quantidade', y='Combinação de Áreas', text='Percentual',\n",
    "              labels={'Quantidade': 'Quantidade', 'Combinação de Áreas': 'Combinações de Áreas'},\n",
    "              title='Quantidade de Vagas por Combinações de Áreas')\n",
    "\n",
    "fig2.update_traces(texttemplate='%{text:.2f}%', textposition='outside')\n",
    "fig2.update_layout(uniformtext_minsize=8, uniformtext_mode='hide', yaxis={'categoryorder':'total ascending'})\n",
    "\n",
    "# Ajuste da margem e espaçamento\n",
    "fig2.update_layout(margin=dict(l=200, r=50, b=50, t=50), yaxis_tickangle=0)\n",
    "\n",
    "fig2.show()"
   ]
  },
  {
   "cell_type": "code",
   "execution_count": 54,
   "metadata": {},
   "outputs": [],
   "source": [
    "df_tech.to_csv('df_tech_tipo_nivel.csv', columns=['Cargo', 'palavra_chave', 'cargos_tech', 'area','macro_area', 'tipo_nivel'], index = False)"
   ]
  },
  {
   "cell_type": "code",
   "execution_count": 55,
   "metadata": {},
   "outputs": [],
   "source": [
    "def classificar_carreira(tipo_cargo, tipo_nivel):\n",
    "    if tipo_cargo == 'cargos iniciais':\n",
    "        return 'inicio de carreira'\n",
    "    if tipo_cargo == 'cargos tecnicos' and tipo_nivel == 'niveis iniciais':\n",
    "        return 'inicio de carreira'\n",
    "    return 'carreira avançada'"
   ]
  },
  {
   "cell_type": "code",
   "execution_count": 56,
   "metadata": {},
   "outputs": [
    {
     "name": "stderr",
     "output_type": "stream",
     "text": [
      "C:\\Users\\Inteli\\AppData\\Local\\Temp\\ipykernel_28572\\536946695.py:1: SettingWithCopyWarning:\n",
      "\n",
      "\n",
      "A value is trying to be set on a copy of a slice from a DataFrame.\n",
      "Try using .loc[row_indexer,col_indexer] = value instead\n",
      "\n",
      "See the caveats in the documentation: https://pandas.pydata.org/pandas-docs/stable/user_guide/indexing.html#returning-a-view-versus-a-copy\n",
      "\n"
     ]
    }
   ],
   "source": [
    "df_tech['momento_carreira'] = df_tech.apply(lambda row: classificar_carreira(row['tipo_cargo'], row['tipo_nivel']), axis=1)"
   ]
  },
  {
   "cell_type": "code",
   "execution_count": 57,
   "metadata": {},
   "outputs": [
    {
     "data": {
      "application/vnd.plotly.v1+json": {
       "config": {
        "plotlyServerURL": "https://plot.ly"
       },
       "data": [
        {
         "alignmentgroup": "True",
         "hovertemplate": "Quantidade=%{x}<br>Combinações de Áreas=%{y}<br>Percentual=%{text}<extra></extra>",
         "legendgroup": "",
         "marker": {
          "color": "#636efa",
          "pattern": {
           "shape": ""
          }
         },
         "name": "",
         "offsetgroup": "",
         "orientation": "h",
         "showlegend": false,
         "text": [
          17.34232415408221,
          82.6576758459178
         ],
         "textposition": "outside",
         "texttemplate": "%{text:.2f}%",
         "type": "bar",
         "x": [
          4295,
          20471
         ],
         "xaxis": "x",
         "y": [
          "inicio de carreira",
          "carreira avançada"
         ],
         "yaxis": "y"
        }
       ],
       "layout": {
        "barmode": "relative",
        "legend": {
         "tracegroupgap": 0
        },
        "margin": {
         "b": 50,
         "l": 200,
         "r": 50,
         "t": 50
        },
        "template": {
         "data": {
          "bar": [
           {
            "error_x": {
             "color": "#2a3f5f"
            },
            "error_y": {
             "color": "#2a3f5f"
            },
            "marker": {
             "line": {
              "color": "#E5ECF6",
              "width": 0.5
             },
             "pattern": {
              "fillmode": "overlay",
              "size": 10,
              "solidity": 0.2
             }
            },
            "type": "bar"
           }
          ],
          "barpolar": [
           {
            "marker": {
             "line": {
              "color": "#E5ECF6",
              "width": 0.5
             },
             "pattern": {
              "fillmode": "overlay",
              "size": 10,
              "solidity": 0.2
             }
            },
            "type": "barpolar"
           }
          ],
          "carpet": [
           {
            "aaxis": {
             "endlinecolor": "#2a3f5f",
             "gridcolor": "white",
             "linecolor": "white",
             "minorgridcolor": "white",
             "startlinecolor": "#2a3f5f"
            },
            "baxis": {
             "endlinecolor": "#2a3f5f",
             "gridcolor": "white",
             "linecolor": "white",
             "minorgridcolor": "white",
             "startlinecolor": "#2a3f5f"
            },
            "type": "carpet"
           }
          ],
          "choropleth": [
           {
            "colorbar": {
             "outlinewidth": 0,
             "ticks": ""
            },
            "type": "choropleth"
           }
          ],
          "contour": [
           {
            "colorbar": {
             "outlinewidth": 0,
             "ticks": ""
            },
            "colorscale": [
             [
              0,
              "#0d0887"
             ],
             [
              0.1111111111111111,
              "#46039f"
             ],
             [
              0.2222222222222222,
              "#7201a8"
             ],
             [
              0.3333333333333333,
              "#9c179e"
             ],
             [
              0.4444444444444444,
              "#bd3786"
             ],
             [
              0.5555555555555556,
              "#d8576b"
             ],
             [
              0.6666666666666666,
              "#ed7953"
             ],
             [
              0.7777777777777778,
              "#fb9f3a"
             ],
             [
              0.8888888888888888,
              "#fdca26"
             ],
             [
              1,
              "#f0f921"
             ]
            ],
            "type": "contour"
           }
          ],
          "contourcarpet": [
           {
            "colorbar": {
             "outlinewidth": 0,
             "ticks": ""
            },
            "type": "contourcarpet"
           }
          ],
          "heatmap": [
           {
            "colorbar": {
             "outlinewidth": 0,
             "ticks": ""
            },
            "colorscale": [
             [
              0,
              "#0d0887"
             ],
             [
              0.1111111111111111,
              "#46039f"
             ],
             [
              0.2222222222222222,
              "#7201a8"
             ],
             [
              0.3333333333333333,
              "#9c179e"
             ],
             [
              0.4444444444444444,
              "#bd3786"
             ],
             [
              0.5555555555555556,
              "#d8576b"
             ],
             [
              0.6666666666666666,
              "#ed7953"
             ],
             [
              0.7777777777777778,
              "#fb9f3a"
             ],
             [
              0.8888888888888888,
              "#fdca26"
             ],
             [
              1,
              "#f0f921"
             ]
            ],
            "type": "heatmap"
           }
          ],
          "heatmapgl": [
           {
            "colorbar": {
             "outlinewidth": 0,
             "ticks": ""
            },
            "colorscale": [
             [
              0,
              "#0d0887"
             ],
             [
              0.1111111111111111,
              "#46039f"
             ],
             [
              0.2222222222222222,
              "#7201a8"
             ],
             [
              0.3333333333333333,
              "#9c179e"
             ],
             [
              0.4444444444444444,
              "#bd3786"
             ],
             [
              0.5555555555555556,
              "#d8576b"
             ],
             [
              0.6666666666666666,
              "#ed7953"
             ],
             [
              0.7777777777777778,
              "#fb9f3a"
             ],
             [
              0.8888888888888888,
              "#fdca26"
             ],
             [
              1,
              "#f0f921"
             ]
            ],
            "type": "heatmapgl"
           }
          ],
          "histogram": [
           {
            "marker": {
             "pattern": {
              "fillmode": "overlay",
              "size": 10,
              "solidity": 0.2
             }
            },
            "type": "histogram"
           }
          ],
          "histogram2d": [
           {
            "colorbar": {
             "outlinewidth": 0,
             "ticks": ""
            },
            "colorscale": [
             [
              0,
              "#0d0887"
             ],
             [
              0.1111111111111111,
              "#46039f"
             ],
             [
              0.2222222222222222,
              "#7201a8"
             ],
             [
              0.3333333333333333,
              "#9c179e"
             ],
             [
              0.4444444444444444,
              "#bd3786"
             ],
             [
              0.5555555555555556,
              "#d8576b"
             ],
             [
              0.6666666666666666,
              "#ed7953"
             ],
             [
              0.7777777777777778,
              "#fb9f3a"
             ],
             [
              0.8888888888888888,
              "#fdca26"
             ],
             [
              1,
              "#f0f921"
             ]
            ],
            "type": "histogram2d"
           }
          ],
          "histogram2dcontour": [
           {
            "colorbar": {
             "outlinewidth": 0,
             "ticks": ""
            },
            "colorscale": [
             [
              0,
              "#0d0887"
             ],
             [
              0.1111111111111111,
              "#46039f"
             ],
             [
              0.2222222222222222,
              "#7201a8"
             ],
             [
              0.3333333333333333,
              "#9c179e"
             ],
             [
              0.4444444444444444,
              "#bd3786"
             ],
             [
              0.5555555555555556,
              "#d8576b"
             ],
             [
              0.6666666666666666,
              "#ed7953"
             ],
             [
              0.7777777777777778,
              "#fb9f3a"
             ],
             [
              0.8888888888888888,
              "#fdca26"
             ],
             [
              1,
              "#f0f921"
             ]
            ],
            "type": "histogram2dcontour"
           }
          ],
          "mesh3d": [
           {
            "colorbar": {
             "outlinewidth": 0,
             "ticks": ""
            },
            "type": "mesh3d"
           }
          ],
          "parcoords": [
           {
            "line": {
             "colorbar": {
              "outlinewidth": 0,
              "ticks": ""
             }
            },
            "type": "parcoords"
           }
          ],
          "pie": [
           {
            "automargin": true,
            "type": "pie"
           }
          ],
          "scatter": [
           {
            "fillpattern": {
             "fillmode": "overlay",
             "size": 10,
             "solidity": 0.2
            },
            "type": "scatter"
           }
          ],
          "scatter3d": [
           {
            "line": {
             "colorbar": {
              "outlinewidth": 0,
              "ticks": ""
             }
            },
            "marker": {
             "colorbar": {
              "outlinewidth": 0,
              "ticks": ""
             }
            },
            "type": "scatter3d"
           }
          ],
          "scattercarpet": [
           {
            "marker": {
             "colorbar": {
              "outlinewidth": 0,
              "ticks": ""
             }
            },
            "type": "scattercarpet"
           }
          ],
          "scattergeo": [
           {
            "marker": {
             "colorbar": {
              "outlinewidth": 0,
              "ticks": ""
             }
            },
            "type": "scattergeo"
           }
          ],
          "scattergl": [
           {
            "marker": {
             "colorbar": {
              "outlinewidth": 0,
              "ticks": ""
             }
            },
            "type": "scattergl"
           }
          ],
          "scattermapbox": [
           {
            "marker": {
             "colorbar": {
              "outlinewidth": 0,
              "ticks": ""
             }
            },
            "type": "scattermapbox"
           }
          ],
          "scatterpolar": [
           {
            "marker": {
             "colorbar": {
              "outlinewidth": 0,
              "ticks": ""
             }
            },
            "type": "scatterpolar"
           }
          ],
          "scatterpolargl": [
           {
            "marker": {
             "colorbar": {
              "outlinewidth": 0,
              "ticks": ""
             }
            },
            "type": "scatterpolargl"
           }
          ],
          "scatterternary": [
           {
            "marker": {
             "colorbar": {
              "outlinewidth": 0,
              "ticks": ""
             }
            },
            "type": "scatterternary"
           }
          ],
          "surface": [
           {
            "colorbar": {
             "outlinewidth": 0,
             "ticks": ""
            },
            "colorscale": [
             [
              0,
              "#0d0887"
             ],
             [
              0.1111111111111111,
              "#46039f"
             ],
             [
              0.2222222222222222,
              "#7201a8"
             ],
             [
              0.3333333333333333,
              "#9c179e"
             ],
             [
              0.4444444444444444,
              "#bd3786"
             ],
             [
              0.5555555555555556,
              "#d8576b"
             ],
             [
              0.6666666666666666,
              "#ed7953"
             ],
             [
              0.7777777777777778,
              "#fb9f3a"
             ],
             [
              0.8888888888888888,
              "#fdca26"
             ],
             [
              1,
              "#f0f921"
             ]
            ],
            "type": "surface"
           }
          ],
          "table": [
           {
            "cells": {
             "fill": {
              "color": "#EBF0F8"
             },
             "line": {
              "color": "white"
             }
            },
            "header": {
             "fill": {
              "color": "#C8D4E3"
             },
             "line": {
              "color": "white"
             }
            },
            "type": "table"
           }
          ]
         },
         "layout": {
          "annotationdefaults": {
           "arrowcolor": "#2a3f5f",
           "arrowhead": 0,
           "arrowwidth": 1
          },
          "autotypenumbers": "strict",
          "coloraxis": {
           "colorbar": {
            "outlinewidth": 0,
            "ticks": ""
           }
          },
          "colorscale": {
           "diverging": [
            [
             0,
             "#8e0152"
            ],
            [
             0.1,
             "#c51b7d"
            ],
            [
             0.2,
             "#de77ae"
            ],
            [
             0.3,
             "#f1b6da"
            ],
            [
             0.4,
             "#fde0ef"
            ],
            [
             0.5,
             "#f7f7f7"
            ],
            [
             0.6,
             "#e6f5d0"
            ],
            [
             0.7,
             "#b8e186"
            ],
            [
             0.8,
             "#7fbc41"
            ],
            [
             0.9,
             "#4d9221"
            ],
            [
             1,
             "#276419"
            ]
           ],
           "sequential": [
            [
             0,
             "#0d0887"
            ],
            [
             0.1111111111111111,
             "#46039f"
            ],
            [
             0.2222222222222222,
             "#7201a8"
            ],
            [
             0.3333333333333333,
             "#9c179e"
            ],
            [
             0.4444444444444444,
             "#bd3786"
            ],
            [
             0.5555555555555556,
             "#d8576b"
            ],
            [
             0.6666666666666666,
             "#ed7953"
            ],
            [
             0.7777777777777778,
             "#fb9f3a"
            ],
            [
             0.8888888888888888,
             "#fdca26"
            ],
            [
             1,
             "#f0f921"
            ]
           ],
           "sequentialminus": [
            [
             0,
             "#0d0887"
            ],
            [
             0.1111111111111111,
             "#46039f"
            ],
            [
             0.2222222222222222,
             "#7201a8"
            ],
            [
             0.3333333333333333,
             "#9c179e"
            ],
            [
             0.4444444444444444,
             "#bd3786"
            ],
            [
             0.5555555555555556,
             "#d8576b"
            ],
            [
             0.6666666666666666,
             "#ed7953"
            ],
            [
             0.7777777777777778,
             "#fb9f3a"
            ],
            [
             0.8888888888888888,
             "#fdca26"
            ],
            [
             1,
             "#f0f921"
            ]
           ]
          },
          "colorway": [
           "#636efa",
           "#EF553B",
           "#00cc96",
           "#ab63fa",
           "#FFA15A",
           "#19d3f3",
           "#FF6692",
           "#B6E880",
           "#FF97FF",
           "#FECB52"
          ],
          "font": {
           "color": "#2a3f5f"
          },
          "geo": {
           "bgcolor": "white",
           "lakecolor": "white",
           "landcolor": "#E5ECF6",
           "showlakes": true,
           "showland": true,
           "subunitcolor": "white"
          },
          "hoverlabel": {
           "align": "left"
          },
          "hovermode": "closest",
          "mapbox": {
           "style": "light"
          },
          "paper_bgcolor": "white",
          "plot_bgcolor": "#E5ECF6",
          "polar": {
           "angularaxis": {
            "gridcolor": "white",
            "linecolor": "white",
            "ticks": ""
           },
           "bgcolor": "#E5ECF6",
           "radialaxis": {
            "gridcolor": "white",
            "linecolor": "white",
            "ticks": ""
           }
          },
          "scene": {
           "xaxis": {
            "backgroundcolor": "#E5ECF6",
            "gridcolor": "white",
            "gridwidth": 2,
            "linecolor": "white",
            "showbackground": true,
            "ticks": "",
            "zerolinecolor": "white"
           },
           "yaxis": {
            "backgroundcolor": "#E5ECF6",
            "gridcolor": "white",
            "gridwidth": 2,
            "linecolor": "white",
            "showbackground": true,
            "ticks": "",
            "zerolinecolor": "white"
           },
           "zaxis": {
            "backgroundcolor": "#E5ECF6",
            "gridcolor": "white",
            "gridwidth": 2,
            "linecolor": "white",
            "showbackground": true,
            "ticks": "",
            "zerolinecolor": "white"
           }
          },
          "shapedefaults": {
           "line": {
            "color": "#2a3f5f"
           }
          },
          "ternary": {
           "aaxis": {
            "gridcolor": "white",
            "linecolor": "white",
            "ticks": ""
           },
           "baxis": {
            "gridcolor": "white",
            "linecolor": "white",
            "ticks": ""
           },
           "bgcolor": "#E5ECF6",
           "caxis": {
            "gridcolor": "white",
            "linecolor": "white",
            "ticks": ""
           }
          },
          "title": {
           "x": 0.05
          },
          "xaxis": {
           "automargin": true,
           "gridcolor": "white",
           "linecolor": "white",
           "ticks": "",
           "title": {
            "standoff": 15
           },
           "zerolinecolor": "white",
           "zerolinewidth": 2
          },
          "yaxis": {
           "automargin": true,
           "gridcolor": "white",
           "linecolor": "white",
           "ticks": "",
           "title": {
            "standoff": 15
           },
           "zerolinecolor": "white",
           "zerolinewidth": 2
          }
         }
        },
        "title": {
         "text": "Quantidade de Vagas por Combinações de Áreas"
        },
        "uniformtext": {
         "minsize": 8,
         "mode": "hide"
        },
        "xaxis": {
         "anchor": "y",
         "domain": [
          0,
          1
         ],
         "title": {
          "text": "Quantidade"
         }
        },
        "yaxis": {
         "anchor": "x",
         "categoryorder": "total ascending",
         "domain": [
          0,
          1
         ],
         "tickangle": 0,
         "title": {
          "text": "Combinações de Áreas"
         }
        }
       }
      }
     },
     "metadata": {},
     "output_type": "display_data"
    }
   ],
   "source": [
    "# Contabilizar combinações de áreas\n",
    "contagem_combinacoes_momento_carreira = Counter(df_tech['momento_carreira'])\n",
    "\n",
    "# Converter o contador para um DataFrame\n",
    "df_contagem_combinacoes_momento_carreira = pd.DataFrame(contagem_combinacoes_momento_carreira.items(), columns=['Combinação de Áreas', 'Quantidade'])\n",
    "\n",
    "# Calcular percentual\n",
    "total_combinacoes = df_contagem_combinacoes_momento_carreira['Quantidade'].sum()\n",
    "df_contagem_combinacoes_momento_carreira['Percentual'] = (df_contagem_combinacoes_momento_carreira['Quantidade'] / total_combinacoes) * 100\n",
    "\n",
    "# Ordenar do menor para o maior\n",
    "df_contagem_combinacoes_momento_carreira = df_contagem_combinacoes_momento_carreira.sort_values(by='Quantidade')\n",
    "\n",
    "# Gráfico de barras com Plotly\n",
    "fig2 = px.bar(df_contagem_combinacoes_momento_carreira, x='Quantidade', y='Combinação de Áreas', text='Percentual',\n",
    "              labels={'Quantidade': 'Quantidade', 'Combinação de Áreas': 'Combinações de Áreas'},\n",
    "              title='Quantidade de Vagas por Combinações de Áreas')\n",
    "\n",
    "fig2.update_traces(texttemplate='%{text:.2f}%', textposition='outside')\n",
    "fig2.update_layout(uniformtext_minsize=8, uniformtext_mode='hide', yaxis={'categoryorder':'total ascending'})\n",
    "\n",
    "# Ajuste da margem e espaçamento\n",
    "fig2.update_layout(margin=dict(l=200, r=50, b=50, t=50), yaxis_tickangle=0)\n",
    "\n",
    "fig2.show()"
   ]
  },
  {
   "cell_type": "code",
   "execution_count": 58,
   "metadata": {},
   "outputs": [],
   "source": [
    "# Separar as áreas em diferentes registros\n",
    "df_tech = df_tech.assign(Área=df_tech['macro_area'].str.split(', ')).explode('Área')\n",
    "\n",
    "# Filtrar os dados para vagas em início de carreira e não início de carreira\n",
    "df_inicio_carreira = df_tech[df_tech['momento_carreira'] == 'inicio de carreira']\n",
    "df_nao_inicio_carreira = df_tech[df_tech['momento_carreira'] == 'carreira avançada']\n",
    "\n",
    "# Contar as vagas em início de carreira e não início de carreira por área\n",
    "contagem_inicio_carreira = df_inicio_carreira['macro_area'].value_counts().reset_index()\n",
    "contagem_inicio_carreira.columns = ['Área', 'Quantidade']\n",
    "contagem_inicio_carreira['Tipo'] = 'Início de Carreira'\n",
    "\n",
    "contagem_nao_inicio_carreira = df_nao_inicio_carreira['macro_area'].value_counts().reset_index()\n",
    "contagem_nao_inicio_carreira.columns = ['Área', 'Quantidade']\n",
    "contagem_nao_inicio_carreira['Tipo'] = 'Não Início de Carreira'\n",
    "\n",
    "# Concatenar os dois DataFrames\n",
    "df_comparacao_carreira = pd.concat([contagem_inicio_carreira, contagem_nao_inicio_carreira])\n",
    "\n"
   ]
  },
  {
   "cell_type": "code",
   "execution_count": 59,
   "metadata": {},
   "outputs": [],
   "source": [
    "# Separar as áreas em diferentes registros\n",
    "df_tech = df_tech.assign(Área=df_tech['macro_area'].str.split(', ')).explode('Área')\n",
    "\n",
    "# Filtrar os dados para vagas em início de carreira e não início de carreira\n",
    "df_inicio_carreira = df_tech[df_tech['momento_carreira'] == 'inicio de carreira']\n",
    "df_nao_inicio_carreira = df_tech[df_tech['momento_carreira'] == 'carreira avançada']\n",
    "\n",
    "# Contar as vagas em início de carreira e não início de carreira por Área\n",
    "contagem_inicio_carreira = df_inicio_carreira['Área'].value_counts().reset_index()\n",
    "contagem_inicio_carreira.columns = ['Área', 'Quantidade']\n",
    "contagem_inicio_carreira['Tipo'] = 'Início de Carreira'\n",
    "\n",
    "contagem_nao_inicio_carreira = df_nao_inicio_carreira['Área'].value_counts().reset_index()\n",
    "contagem_nao_inicio_carreira.columns = ['Área', 'Quantidade']\n",
    "contagem_nao_inicio_carreira['Tipo'] = 'Não Início de Carreira'\n",
    "\n",
    "# Concatenar os dois DataFrames\n",
    "df_comparacao_carreira = pd.concat([contagem_inicio_carreira, contagem_nao_inicio_carreira])\n"
   ]
  },
  {
   "cell_type": "code",
   "execution_count": 60,
   "metadata": {},
   "outputs": [
    {
     "data": {
      "application/vnd.plotly.v1+json": {
       "config": {
        "plotlyServerURL": "https://plot.ly"
       },
       "data": [
        {
         "alignmentgroup": "True",
         "hovertemplate": "Tipo de Carreira=Início de Carreira<br>Áreas=%{x}<br>Quantidade de Vagas=%{y}<extra></extra>",
         "legendgroup": "Início de Carreira",
         "marker": {
          "color": "#636efa",
          "pattern": {
           "shape": ""
          }
         },
         "name": "Início de Carreira",
         "offsetgroup": "Início de Carreira",
         "orientation": "v",
         "showlegend": true,
         "textposition": "auto",
         "type": "bar",
         "x": [
          "desenvolvimento de software",
          "ti",
          "suporte",
          "Indefinida",
          "dados",
          "qualidade",
          "infraestrutura",
          "gestao",
          "aplicacao e implantacao de sistemas",
          "design",
          "conectividade iot e 5g",
          "seguranca da informacao",
          "hardware",
          "cloud computing",
          "devops",
          "inteligencia artificial",
          "automacao",
          "arquitetura",
          "transformacao digital",
          "devsecops"
         ],
         "xaxis": "x",
         "y": [
          956,
          893,
          769,
          518,
          474,
          207,
          203,
          155,
          71,
          60,
          52,
          46,
          46,
          31,
          28,
          25,
          21,
          4,
          3,
          2
         ],
         "yaxis": "y"
        },
        {
         "alignmentgroup": "True",
         "hovertemplate": "Tipo de Carreira=Não Início de Carreira<br>Áreas=%{x}<br>Quantidade de Vagas=%{y}<extra></extra>",
         "legendgroup": "Não Início de Carreira",
         "marker": {
          "color": "#EF553B",
          "pattern": {
           "shape": ""
          }
         },
         "name": "Não Início de Carreira",
         "offsetgroup": "Não Início de Carreira",
         "orientation": "v",
         "showlegend": true,
         "textposition": "auto",
         "type": "bar",
         "x": [
          "desenvolvimento de software",
          "dados",
          "suporte",
          "gestao",
          "Indefinida",
          "infraestrutura",
          "qualidade",
          "ti",
          "cloud computing",
          "aplicacao e implantacao de sistemas",
          "design",
          "devops",
          "seguranca da informacao",
          "conectividade iot e 5g",
          "automacao",
          "hardware",
          "inteligencia artificial",
          "arquitetura",
          "blockchain",
          "devsecops",
          "transformacao digital",
          "lideranca"
         ],
         "xaxis": "x",
         "y": [
          8703,
          2779,
          1798,
          1650,
          1547,
          1232,
          1213,
          1203,
          763,
          745,
          472,
          461,
          365,
          329,
          185,
          168,
          121,
          46,
          35,
          32,
          16,
          4
         ],
         "yaxis": "y"
        }
       ],
       "layout": {
        "barmode": "stack",
        "legend": {
         "title": {
          "text": "Tipo de Carreira"
         },
         "tracegroupgap": 0
        },
        "template": {
         "data": {
          "bar": [
           {
            "error_x": {
             "color": "#2a3f5f"
            },
            "error_y": {
             "color": "#2a3f5f"
            },
            "marker": {
             "line": {
              "color": "#E5ECF6",
              "width": 0.5
             },
             "pattern": {
              "fillmode": "overlay",
              "size": 10,
              "solidity": 0.2
             }
            },
            "type": "bar"
           }
          ],
          "barpolar": [
           {
            "marker": {
             "line": {
              "color": "#E5ECF6",
              "width": 0.5
             },
             "pattern": {
              "fillmode": "overlay",
              "size": 10,
              "solidity": 0.2
             }
            },
            "type": "barpolar"
           }
          ],
          "carpet": [
           {
            "aaxis": {
             "endlinecolor": "#2a3f5f",
             "gridcolor": "white",
             "linecolor": "white",
             "minorgridcolor": "white",
             "startlinecolor": "#2a3f5f"
            },
            "baxis": {
             "endlinecolor": "#2a3f5f",
             "gridcolor": "white",
             "linecolor": "white",
             "minorgridcolor": "white",
             "startlinecolor": "#2a3f5f"
            },
            "type": "carpet"
           }
          ],
          "choropleth": [
           {
            "colorbar": {
             "outlinewidth": 0,
             "ticks": ""
            },
            "type": "choropleth"
           }
          ],
          "contour": [
           {
            "colorbar": {
             "outlinewidth": 0,
             "ticks": ""
            },
            "colorscale": [
             [
              0,
              "#0d0887"
             ],
             [
              0.1111111111111111,
              "#46039f"
             ],
             [
              0.2222222222222222,
              "#7201a8"
             ],
             [
              0.3333333333333333,
              "#9c179e"
             ],
             [
              0.4444444444444444,
              "#bd3786"
             ],
             [
              0.5555555555555556,
              "#d8576b"
             ],
             [
              0.6666666666666666,
              "#ed7953"
             ],
             [
              0.7777777777777778,
              "#fb9f3a"
             ],
             [
              0.8888888888888888,
              "#fdca26"
             ],
             [
              1,
              "#f0f921"
             ]
            ],
            "type": "contour"
           }
          ],
          "contourcarpet": [
           {
            "colorbar": {
             "outlinewidth": 0,
             "ticks": ""
            },
            "type": "contourcarpet"
           }
          ],
          "heatmap": [
           {
            "colorbar": {
             "outlinewidth": 0,
             "ticks": ""
            },
            "colorscale": [
             [
              0,
              "#0d0887"
             ],
             [
              0.1111111111111111,
              "#46039f"
             ],
             [
              0.2222222222222222,
              "#7201a8"
             ],
             [
              0.3333333333333333,
              "#9c179e"
             ],
             [
              0.4444444444444444,
              "#bd3786"
             ],
             [
              0.5555555555555556,
              "#d8576b"
             ],
             [
              0.6666666666666666,
              "#ed7953"
             ],
             [
              0.7777777777777778,
              "#fb9f3a"
             ],
             [
              0.8888888888888888,
              "#fdca26"
             ],
             [
              1,
              "#f0f921"
             ]
            ],
            "type": "heatmap"
           }
          ],
          "heatmapgl": [
           {
            "colorbar": {
             "outlinewidth": 0,
             "ticks": ""
            },
            "colorscale": [
             [
              0,
              "#0d0887"
             ],
             [
              0.1111111111111111,
              "#46039f"
             ],
             [
              0.2222222222222222,
              "#7201a8"
             ],
             [
              0.3333333333333333,
              "#9c179e"
             ],
             [
              0.4444444444444444,
              "#bd3786"
             ],
             [
              0.5555555555555556,
              "#d8576b"
             ],
             [
              0.6666666666666666,
              "#ed7953"
             ],
             [
              0.7777777777777778,
              "#fb9f3a"
             ],
             [
              0.8888888888888888,
              "#fdca26"
             ],
             [
              1,
              "#f0f921"
             ]
            ],
            "type": "heatmapgl"
           }
          ],
          "histogram": [
           {
            "marker": {
             "pattern": {
              "fillmode": "overlay",
              "size": 10,
              "solidity": 0.2
             }
            },
            "type": "histogram"
           }
          ],
          "histogram2d": [
           {
            "colorbar": {
             "outlinewidth": 0,
             "ticks": ""
            },
            "colorscale": [
             [
              0,
              "#0d0887"
             ],
             [
              0.1111111111111111,
              "#46039f"
             ],
             [
              0.2222222222222222,
              "#7201a8"
             ],
             [
              0.3333333333333333,
              "#9c179e"
             ],
             [
              0.4444444444444444,
              "#bd3786"
             ],
             [
              0.5555555555555556,
              "#d8576b"
             ],
             [
              0.6666666666666666,
              "#ed7953"
             ],
             [
              0.7777777777777778,
              "#fb9f3a"
             ],
             [
              0.8888888888888888,
              "#fdca26"
             ],
             [
              1,
              "#f0f921"
             ]
            ],
            "type": "histogram2d"
           }
          ],
          "histogram2dcontour": [
           {
            "colorbar": {
             "outlinewidth": 0,
             "ticks": ""
            },
            "colorscale": [
             [
              0,
              "#0d0887"
             ],
             [
              0.1111111111111111,
              "#46039f"
             ],
             [
              0.2222222222222222,
              "#7201a8"
             ],
             [
              0.3333333333333333,
              "#9c179e"
             ],
             [
              0.4444444444444444,
              "#bd3786"
             ],
             [
              0.5555555555555556,
              "#d8576b"
             ],
             [
              0.6666666666666666,
              "#ed7953"
             ],
             [
              0.7777777777777778,
              "#fb9f3a"
             ],
             [
              0.8888888888888888,
              "#fdca26"
             ],
             [
              1,
              "#f0f921"
             ]
            ],
            "type": "histogram2dcontour"
           }
          ],
          "mesh3d": [
           {
            "colorbar": {
             "outlinewidth": 0,
             "ticks": ""
            },
            "type": "mesh3d"
           }
          ],
          "parcoords": [
           {
            "line": {
             "colorbar": {
              "outlinewidth": 0,
              "ticks": ""
             }
            },
            "type": "parcoords"
           }
          ],
          "pie": [
           {
            "automargin": true,
            "type": "pie"
           }
          ],
          "scatter": [
           {
            "fillpattern": {
             "fillmode": "overlay",
             "size": 10,
             "solidity": 0.2
            },
            "type": "scatter"
           }
          ],
          "scatter3d": [
           {
            "line": {
             "colorbar": {
              "outlinewidth": 0,
              "ticks": ""
             }
            },
            "marker": {
             "colorbar": {
              "outlinewidth": 0,
              "ticks": ""
             }
            },
            "type": "scatter3d"
           }
          ],
          "scattercarpet": [
           {
            "marker": {
             "colorbar": {
              "outlinewidth": 0,
              "ticks": ""
             }
            },
            "type": "scattercarpet"
           }
          ],
          "scattergeo": [
           {
            "marker": {
             "colorbar": {
              "outlinewidth": 0,
              "ticks": ""
             }
            },
            "type": "scattergeo"
           }
          ],
          "scattergl": [
           {
            "marker": {
             "colorbar": {
              "outlinewidth": 0,
              "ticks": ""
             }
            },
            "type": "scattergl"
           }
          ],
          "scattermapbox": [
           {
            "marker": {
             "colorbar": {
              "outlinewidth": 0,
              "ticks": ""
             }
            },
            "type": "scattermapbox"
           }
          ],
          "scatterpolar": [
           {
            "marker": {
             "colorbar": {
              "outlinewidth": 0,
              "ticks": ""
             }
            },
            "type": "scatterpolar"
           }
          ],
          "scatterpolargl": [
           {
            "marker": {
             "colorbar": {
              "outlinewidth": 0,
              "ticks": ""
             }
            },
            "type": "scatterpolargl"
           }
          ],
          "scatterternary": [
           {
            "marker": {
             "colorbar": {
              "outlinewidth": 0,
              "ticks": ""
             }
            },
            "type": "scatterternary"
           }
          ],
          "surface": [
           {
            "colorbar": {
             "outlinewidth": 0,
             "ticks": ""
            },
            "colorscale": [
             [
              0,
              "#0d0887"
             ],
             [
              0.1111111111111111,
              "#46039f"
             ],
             [
              0.2222222222222222,
              "#7201a8"
             ],
             [
              0.3333333333333333,
              "#9c179e"
             ],
             [
              0.4444444444444444,
              "#bd3786"
             ],
             [
              0.5555555555555556,
              "#d8576b"
             ],
             [
              0.6666666666666666,
              "#ed7953"
             ],
             [
              0.7777777777777778,
              "#fb9f3a"
             ],
             [
              0.8888888888888888,
              "#fdca26"
             ],
             [
              1,
              "#f0f921"
             ]
            ],
            "type": "surface"
           }
          ],
          "table": [
           {
            "cells": {
             "fill": {
              "color": "#EBF0F8"
             },
             "line": {
              "color": "white"
             }
            },
            "header": {
             "fill": {
              "color": "#C8D4E3"
             },
             "line": {
              "color": "white"
             }
            },
            "type": "table"
           }
          ]
         },
         "layout": {
          "annotationdefaults": {
           "arrowcolor": "#2a3f5f",
           "arrowhead": 0,
           "arrowwidth": 1
          },
          "autotypenumbers": "strict",
          "coloraxis": {
           "colorbar": {
            "outlinewidth": 0,
            "ticks": ""
           }
          },
          "colorscale": {
           "diverging": [
            [
             0,
             "#8e0152"
            ],
            [
             0.1,
             "#c51b7d"
            ],
            [
             0.2,
             "#de77ae"
            ],
            [
             0.3,
             "#f1b6da"
            ],
            [
             0.4,
             "#fde0ef"
            ],
            [
             0.5,
             "#f7f7f7"
            ],
            [
             0.6,
             "#e6f5d0"
            ],
            [
             0.7,
             "#b8e186"
            ],
            [
             0.8,
             "#7fbc41"
            ],
            [
             0.9,
             "#4d9221"
            ],
            [
             1,
             "#276419"
            ]
           ],
           "sequential": [
            [
             0,
             "#0d0887"
            ],
            [
             0.1111111111111111,
             "#46039f"
            ],
            [
             0.2222222222222222,
             "#7201a8"
            ],
            [
             0.3333333333333333,
             "#9c179e"
            ],
            [
             0.4444444444444444,
             "#bd3786"
            ],
            [
             0.5555555555555556,
             "#d8576b"
            ],
            [
             0.6666666666666666,
             "#ed7953"
            ],
            [
             0.7777777777777778,
             "#fb9f3a"
            ],
            [
             0.8888888888888888,
             "#fdca26"
            ],
            [
             1,
             "#f0f921"
            ]
           ],
           "sequentialminus": [
            [
             0,
             "#0d0887"
            ],
            [
             0.1111111111111111,
             "#46039f"
            ],
            [
             0.2222222222222222,
             "#7201a8"
            ],
            [
             0.3333333333333333,
             "#9c179e"
            ],
            [
             0.4444444444444444,
             "#bd3786"
            ],
            [
             0.5555555555555556,
             "#d8576b"
            ],
            [
             0.6666666666666666,
             "#ed7953"
            ],
            [
             0.7777777777777778,
             "#fb9f3a"
            ],
            [
             0.8888888888888888,
             "#fdca26"
            ],
            [
             1,
             "#f0f921"
            ]
           ]
          },
          "colorway": [
           "#636efa",
           "#EF553B",
           "#00cc96",
           "#ab63fa",
           "#FFA15A",
           "#19d3f3",
           "#FF6692",
           "#B6E880",
           "#FF97FF",
           "#FECB52"
          ],
          "font": {
           "color": "#2a3f5f"
          },
          "geo": {
           "bgcolor": "white",
           "lakecolor": "white",
           "landcolor": "#E5ECF6",
           "showlakes": true,
           "showland": true,
           "subunitcolor": "white"
          },
          "hoverlabel": {
           "align": "left"
          },
          "hovermode": "closest",
          "mapbox": {
           "style": "light"
          },
          "paper_bgcolor": "white",
          "plot_bgcolor": "#E5ECF6",
          "polar": {
           "angularaxis": {
            "gridcolor": "white",
            "linecolor": "white",
            "ticks": ""
           },
           "bgcolor": "#E5ECF6",
           "radialaxis": {
            "gridcolor": "white",
            "linecolor": "white",
            "ticks": ""
           }
          },
          "scene": {
           "xaxis": {
            "backgroundcolor": "#E5ECF6",
            "gridcolor": "white",
            "gridwidth": 2,
            "linecolor": "white",
            "showbackground": true,
            "ticks": "",
            "zerolinecolor": "white"
           },
           "yaxis": {
            "backgroundcolor": "#E5ECF6",
            "gridcolor": "white",
            "gridwidth": 2,
            "linecolor": "white",
            "showbackground": true,
            "ticks": "",
            "zerolinecolor": "white"
           },
           "zaxis": {
            "backgroundcolor": "#E5ECF6",
            "gridcolor": "white",
            "gridwidth": 2,
            "linecolor": "white",
            "showbackground": true,
            "ticks": "",
            "zerolinecolor": "white"
           }
          },
          "shapedefaults": {
           "line": {
            "color": "#2a3f5f"
           }
          },
          "ternary": {
           "aaxis": {
            "gridcolor": "white",
            "linecolor": "white",
            "ticks": ""
           },
           "baxis": {
            "gridcolor": "white",
            "linecolor": "white",
            "ticks": ""
           },
           "bgcolor": "#E5ECF6",
           "caxis": {
            "gridcolor": "white",
            "linecolor": "white",
            "ticks": ""
           }
          },
          "title": {
           "x": 0.05
          },
          "xaxis": {
           "automargin": true,
           "gridcolor": "white",
           "linecolor": "white",
           "ticks": "",
           "title": {
            "standoff": 15
           },
           "zerolinecolor": "white",
           "zerolinewidth": 2
          },
          "yaxis": {
           "automargin": true,
           "gridcolor": "white",
           "linecolor": "white",
           "ticks": "",
           "title": {
            "standoff": 15
           },
           "zerolinecolor": "white",
           "zerolinewidth": 2
          }
         }
        },
        "title": {
         "text": "Comparação de Vagas em Início de Carreira por Área"
        },
        "xaxis": {
         "anchor": "y",
         "domain": [
          0,
          1
         ],
         "title": {
          "text": "Áreas"
         }
        },
        "yaxis": {
         "anchor": "x",
         "domain": [
          0,
          1
         ],
         "title": {
          "text": "Quantidade de Vagas"
         }
        }
       }
      }
     },
     "metadata": {},
     "output_type": "display_data"
    }
   ],
   "source": [
    "# Gráfico de barras comparativo\n",
    "fig1 = px.bar(df_comparacao_carreira, x='Área', y='Quantidade', color='Tipo',\n",
    "              title='Comparação de Vagas em Início de Carreira por Área',\n",
    "              labels={'Quantidade': 'Quantidade de Vagas', 'Área': 'Áreas', 'Tipo': 'Tipo de Carreira'},\n",
    "              barmode='stack')\n",
    "fig1.show()"
   ]
  },
  {
   "cell_type": "code",
   "execution_count": 61,
   "metadata": {},
   "outputs": [
    {
     "data": {
      "application/vnd.plotly.v1+json": {
       "config": {
        "plotlyServerURL": "https://plot.ly"
       },
       "data": [
        {
         "alignmentgroup": "True",
         "hovertemplate": "Áreas=%{x}<br>Quantidade de Vagas=%{y}<extra></extra>",
         "legendgroup": "",
         "marker": {
          "color": "#636efa",
          "pattern": {
           "shape": ""
          }
         },
         "name": "",
         "offsetgroup": "",
         "orientation": "v",
         "showlegend": false,
         "textposition": "auto",
         "type": "bar",
         "x": [
          "desenvolvimento de software",
          "ti",
          "suporte",
          "Indefinida",
          "dados",
          "qualidade",
          "infraestrutura",
          "gestao",
          "aplicacao e implantacao de sistemas",
          "design",
          "conectividade iot e 5g",
          "seguranca da informacao",
          "hardware",
          "cloud computing",
          "devops",
          "inteligencia artificial",
          "automacao",
          "arquitetura",
          "transformacao digital",
          "devsecops"
         ],
         "xaxis": "x",
         "y": [
          956,
          893,
          769,
          518,
          474,
          207,
          203,
          155,
          71,
          60,
          52,
          46,
          46,
          31,
          28,
          25,
          21,
          4,
          3,
          2
         ],
         "yaxis": "y"
        }
       ],
       "layout": {
        "barmode": "relative",
        "legend": {
         "tracegroupgap": 0
        },
        "template": {
         "data": {
          "bar": [
           {
            "error_x": {
             "color": "#2a3f5f"
            },
            "error_y": {
             "color": "#2a3f5f"
            },
            "marker": {
             "line": {
              "color": "#E5ECF6",
              "width": 0.5
             },
             "pattern": {
              "fillmode": "overlay",
              "size": 10,
              "solidity": 0.2
             }
            },
            "type": "bar"
           }
          ],
          "barpolar": [
           {
            "marker": {
             "line": {
              "color": "#E5ECF6",
              "width": 0.5
             },
             "pattern": {
              "fillmode": "overlay",
              "size": 10,
              "solidity": 0.2
             }
            },
            "type": "barpolar"
           }
          ],
          "carpet": [
           {
            "aaxis": {
             "endlinecolor": "#2a3f5f",
             "gridcolor": "white",
             "linecolor": "white",
             "minorgridcolor": "white",
             "startlinecolor": "#2a3f5f"
            },
            "baxis": {
             "endlinecolor": "#2a3f5f",
             "gridcolor": "white",
             "linecolor": "white",
             "minorgridcolor": "white",
             "startlinecolor": "#2a3f5f"
            },
            "type": "carpet"
           }
          ],
          "choropleth": [
           {
            "colorbar": {
             "outlinewidth": 0,
             "ticks": ""
            },
            "type": "choropleth"
           }
          ],
          "contour": [
           {
            "colorbar": {
             "outlinewidth": 0,
             "ticks": ""
            },
            "colorscale": [
             [
              0,
              "#0d0887"
             ],
             [
              0.1111111111111111,
              "#46039f"
             ],
             [
              0.2222222222222222,
              "#7201a8"
             ],
             [
              0.3333333333333333,
              "#9c179e"
             ],
             [
              0.4444444444444444,
              "#bd3786"
             ],
             [
              0.5555555555555556,
              "#d8576b"
             ],
             [
              0.6666666666666666,
              "#ed7953"
             ],
             [
              0.7777777777777778,
              "#fb9f3a"
             ],
             [
              0.8888888888888888,
              "#fdca26"
             ],
             [
              1,
              "#f0f921"
             ]
            ],
            "type": "contour"
           }
          ],
          "contourcarpet": [
           {
            "colorbar": {
             "outlinewidth": 0,
             "ticks": ""
            },
            "type": "contourcarpet"
           }
          ],
          "heatmap": [
           {
            "colorbar": {
             "outlinewidth": 0,
             "ticks": ""
            },
            "colorscale": [
             [
              0,
              "#0d0887"
             ],
             [
              0.1111111111111111,
              "#46039f"
             ],
             [
              0.2222222222222222,
              "#7201a8"
             ],
             [
              0.3333333333333333,
              "#9c179e"
             ],
             [
              0.4444444444444444,
              "#bd3786"
             ],
             [
              0.5555555555555556,
              "#d8576b"
             ],
             [
              0.6666666666666666,
              "#ed7953"
             ],
             [
              0.7777777777777778,
              "#fb9f3a"
             ],
             [
              0.8888888888888888,
              "#fdca26"
             ],
             [
              1,
              "#f0f921"
             ]
            ],
            "type": "heatmap"
           }
          ],
          "heatmapgl": [
           {
            "colorbar": {
             "outlinewidth": 0,
             "ticks": ""
            },
            "colorscale": [
             [
              0,
              "#0d0887"
             ],
             [
              0.1111111111111111,
              "#46039f"
             ],
             [
              0.2222222222222222,
              "#7201a8"
             ],
             [
              0.3333333333333333,
              "#9c179e"
             ],
             [
              0.4444444444444444,
              "#bd3786"
             ],
             [
              0.5555555555555556,
              "#d8576b"
             ],
             [
              0.6666666666666666,
              "#ed7953"
             ],
             [
              0.7777777777777778,
              "#fb9f3a"
             ],
             [
              0.8888888888888888,
              "#fdca26"
             ],
             [
              1,
              "#f0f921"
             ]
            ],
            "type": "heatmapgl"
           }
          ],
          "histogram": [
           {
            "marker": {
             "pattern": {
              "fillmode": "overlay",
              "size": 10,
              "solidity": 0.2
             }
            },
            "type": "histogram"
           }
          ],
          "histogram2d": [
           {
            "colorbar": {
             "outlinewidth": 0,
             "ticks": ""
            },
            "colorscale": [
             [
              0,
              "#0d0887"
             ],
             [
              0.1111111111111111,
              "#46039f"
             ],
             [
              0.2222222222222222,
              "#7201a8"
             ],
             [
              0.3333333333333333,
              "#9c179e"
             ],
             [
              0.4444444444444444,
              "#bd3786"
             ],
             [
              0.5555555555555556,
              "#d8576b"
             ],
             [
              0.6666666666666666,
              "#ed7953"
             ],
             [
              0.7777777777777778,
              "#fb9f3a"
             ],
             [
              0.8888888888888888,
              "#fdca26"
             ],
             [
              1,
              "#f0f921"
             ]
            ],
            "type": "histogram2d"
           }
          ],
          "histogram2dcontour": [
           {
            "colorbar": {
             "outlinewidth": 0,
             "ticks": ""
            },
            "colorscale": [
             [
              0,
              "#0d0887"
             ],
             [
              0.1111111111111111,
              "#46039f"
             ],
             [
              0.2222222222222222,
              "#7201a8"
             ],
             [
              0.3333333333333333,
              "#9c179e"
             ],
             [
              0.4444444444444444,
              "#bd3786"
             ],
             [
              0.5555555555555556,
              "#d8576b"
             ],
             [
              0.6666666666666666,
              "#ed7953"
             ],
             [
              0.7777777777777778,
              "#fb9f3a"
             ],
             [
              0.8888888888888888,
              "#fdca26"
             ],
             [
              1,
              "#f0f921"
             ]
            ],
            "type": "histogram2dcontour"
           }
          ],
          "mesh3d": [
           {
            "colorbar": {
             "outlinewidth": 0,
             "ticks": ""
            },
            "type": "mesh3d"
           }
          ],
          "parcoords": [
           {
            "line": {
             "colorbar": {
              "outlinewidth": 0,
              "ticks": ""
             }
            },
            "type": "parcoords"
           }
          ],
          "pie": [
           {
            "automargin": true,
            "type": "pie"
           }
          ],
          "scatter": [
           {
            "fillpattern": {
             "fillmode": "overlay",
             "size": 10,
             "solidity": 0.2
            },
            "type": "scatter"
           }
          ],
          "scatter3d": [
           {
            "line": {
             "colorbar": {
              "outlinewidth": 0,
              "ticks": ""
             }
            },
            "marker": {
             "colorbar": {
              "outlinewidth": 0,
              "ticks": ""
             }
            },
            "type": "scatter3d"
           }
          ],
          "scattercarpet": [
           {
            "marker": {
             "colorbar": {
              "outlinewidth": 0,
              "ticks": ""
             }
            },
            "type": "scattercarpet"
           }
          ],
          "scattergeo": [
           {
            "marker": {
             "colorbar": {
              "outlinewidth": 0,
              "ticks": ""
             }
            },
            "type": "scattergeo"
           }
          ],
          "scattergl": [
           {
            "marker": {
             "colorbar": {
              "outlinewidth": 0,
              "ticks": ""
             }
            },
            "type": "scattergl"
           }
          ],
          "scattermapbox": [
           {
            "marker": {
             "colorbar": {
              "outlinewidth": 0,
              "ticks": ""
             }
            },
            "type": "scattermapbox"
           }
          ],
          "scatterpolar": [
           {
            "marker": {
             "colorbar": {
              "outlinewidth": 0,
              "ticks": ""
             }
            },
            "type": "scatterpolar"
           }
          ],
          "scatterpolargl": [
           {
            "marker": {
             "colorbar": {
              "outlinewidth": 0,
              "ticks": ""
             }
            },
            "type": "scatterpolargl"
           }
          ],
          "scatterternary": [
           {
            "marker": {
             "colorbar": {
              "outlinewidth": 0,
              "ticks": ""
             }
            },
            "type": "scatterternary"
           }
          ],
          "surface": [
           {
            "colorbar": {
             "outlinewidth": 0,
             "ticks": ""
            },
            "colorscale": [
             [
              0,
              "#0d0887"
             ],
             [
              0.1111111111111111,
              "#46039f"
             ],
             [
              0.2222222222222222,
              "#7201a8"
             ],
             [
              0.3333333333333333,
              "#9c179e"
             ],
             [
              0.4444444444444444,
              "#bd3786"
             ],
             [
              0.5555555555555556,
              "#d8576b"
             ],
             [
              0.6666666666666666,
              "#ed7953"
             ],
             [
              0.7777777777777778,
              "#fb9f3a"
             ],
             [
              0.8888888888888888,
              "#fdca26"
             ],
             [
              1,
              "#f0f921"
             ]
            ],
            "type": "surface"
           }
          ],
          "table": [
           {
            "cells": {
             "fill": {
              "color": "#EBF0F8"
             },
             "line": {
              "color": "white"
             }
            },
            "header": {
             "fill": {
              "color": "#C8D4E3"
             },
             "line": {
              "color": "white"
             }
            },
            "type": "table"
           }
          ]
         },
         "layout": {
          "annotationdefaults": {
           "arrowcolor": "#2a3f5f",
           "arrowhead": 0,
           "arrowwidth": 1
          },
          "autotypenumbers": "strict",
          "coloraxis": {
           "colorbar": {
            "outlinewidth": 0,
            "ticks": ""
           }
          },
          "colorscale": {
           "diverging": [
            [
             0,
             "#8e0152"
            ],
            [
             0.1,
             "#c51b7d"
            ],
            [
             0.2,
             "#de77ae"
            ],
            [
             0.3,
             "#f1b6da"
            ],
            [
             0.4,
             "#fde0ef"
            ],
            [
             0.5,
             "#f7f7f7"
            ],
            [
             0.6,
             "#e6f5d0"
            ],
            [
             0.7,
             "#b8e186"
            ],
            [
             0.8,
             "#7fbc41"
            ],
            [
             0.9,
             "#4d9221"
            ],
            [
             1,
             "#276419"
            ]
           ],
           "sequential": [
            [
             0,
             "#0d0887"
            ],
            [
             0.1111111111111111,
             "#46039f"
            ],
            [
             0.2222222222222222,
             "#7201a8"
            ],
            [
             0.3333333333333333,
             "#9c179e"
            ],
            [
             0.4444444444444444,
             "#bd3786"
            ],
            [
             0.5555555555555556,
             "#d8576b"
            ],
            [
             0.6666666666666666,
             "#ed7953"
            ],
            [
             0.7777777777777778,
             "#fb9f3a"
            ],
            [
             0.8888888888888888,
             "#fdca26"
            ],
            [
             1,
             "#f0f921"
            ]
           ],
           "sequentialminus": [
            [
             0,
             "#0d0887"
            ],
            [
             0.1111111111111111,
             "#46039f"
            ],
            [
             0.2222222222222222,
             "#7201a8"
            ],
            [
             0.3333333333333333,
             "#9c179e"
            ],
            [
             0.4444444444444444,
             "#bd3786"
            ],
            [
             0.5555555555555556,
             "#d8576b"
            ],
            [
             0.6666666666666666,
             "#ed7953"
            ],
            [
             0.7777777777777778,
             "#fb9f3a"
            ],
            [
             0.8888888888888888,
             "#fdca26"
            ],
            [
             1,
             "#f0f921"
            ]
           ]
          },
          "colorway": [
           "#636efa",
           "#EF553B",
           "#00cc96",
           "#ab63fa",
           "#FFA15A",
           "#19d3f3",
           "#FF6692",
           "#B6E880",
           "#FF97FF",
           "#FECB52"
          ],
          "font": {
           "color": "#2a3f5f"
          },
          "geo": {
           "bgcolor": "white",
           "lakecolor": "white",
           "landcolor": "#E5ECF6",
           "showlakes": true,
           "showland": true,
           "subunitcolor": "white"
          },
          "hoverlabel": {
           "align": "left"
          },
          "hovermode": "closest",
          "mapbox": {
           "style": "light"
          },
          "paper_bgcolor": "white",
          "plot_bgcolor": "#E5ECF6",
          "polar": {
           "angularaxis": {
            "gridcolor": "white",
            "linecolor": "white",
            "ticks": ""
           },
           "bgcolor": "#E5ECF6",
           "radialaxis": {
            "gridcolor": "white",
            "linecolor": "white",
            "ticks": ""
           }
          },
          "scene": {
           "xaxis": {
            "backgroundcolor": "#E5ECF6",
            "gridcolor": "white",
            "gridwidth": 2,
            "linecolor": "white",
            "showbackground": true,
            "ticks": "",
            "zerolinecolor": "white"
           },
           "yaxis": {
            "backgroundcolor": "#E5ECF6",
            "gridcolor": "white",
            "gridwidth": 2,
            "linecolor": "white",
            "showbackground": true,
            "ticks": "",
            "zerolinecolor": "white"
           },
           "zaxis": {
            "backgroundcolor": "#E5ECF6",
            "gridcolor": "white",
            "gridwidth": 2,
            "linecolor": "white",
            "showbackground": true,
            "ticks": "",
            "zerolinecolor": "white"
           }
          },
          "shapedefaults": {
           "line": {
            "color": "#2a3f5f"
           }
          },
          "ternary": {
           "aaxis": {
            "gridcolor": "white",
            "linecolor": "white",
            "ticks": ""
           },
           "baxis": {
            "gridcolor": "white",
            "linecolor": "white",
            "ticks": ""
           },
           "bgcolor": "#E5ECF6",
           "caxis": {
            "gridcolor": "white",
            "linecolor": "white",
            "ticks": ""
           }
          },
          "title": {
           "x": 0.05
          },
          "xaxis": {
           "automargin": true,
           "gridcolor": "white",
           "linecolor": "white",
           "ticks": "",
           "title": {
            "standoff": 15
           },
           "zerolinecolor": "white",
           "zerolinewidth": 2
          },
          "yaxis": {
           "automargin": true,
           "gridcolor": "white",
           "linecolor": "white",
           "ticks": "",
           "title": {
            "standoff": 15
           },
           "zerolinecolor": "white",
           "zerolinewidth": 2
          }
         }
        },
        "title": {
         "text": "Quantidade de Vagas em Início de Carreira por Área"
        },
        "xaxis": {
         "anchor": "y",
         "domain": [
          0,
          1
         ],
         "title": {
          "text": "Áreas"
         }
        },
        "yaxis": {
         "anchor": "x",
         "domain": [
          0,
          1
         ],
         "title": {
          "text": "Quantidade de Vagas"
         }
        }
       }
      }
     },
     "metadata": {},
     "output_type": "display_data"
    }
   ],
   "source": [
    "fig2 = px.bar(contagem_inicio_carreira, x='Área', y='Quantidade',\n",
    "              title='Quantidade de Vagas em Início de Carreira por Área',\n",
    "              labels={'Quantidade': 'Quantidade de Vagas', 'Área': 'Áreas'})\n",
    "\n",
    "fig2.show()"
   ]
  },
  {
   "cell_type": "code",
   "execution_count": 62,
   "metadata": {},
   "outputs": [
    {
     "data": {
      "text/plain": [
       "Index(['Funcao', 'Localização', 'Skills Necessarias', 'Média Salarial',\n",
       "       'Cargo', 'ver_cargo', 'palavra_chave', 'nivel', 'cargos_tech', 'area',\n",
       "       'macro_area', 'tipo_cargo', 'tipo_nivel', 'momento_carreira', 'Área'],\n",
       "      dtype='object')"
      ]
     },
     "execution_count": 62,
     "metadata": {},
     "output_type": "execute_result"
    }
   ],
   "source": [
    "df_tech.columns"
   ]
  },
  {
   "cell_type": "code",
   "execution_count": 63,
   "metadata": {},
   "outputs": [
    {
     "data": {
      "text/plain": [
       "\"\\nimport spacy\\n\\n# Carregar o modelo de linguagem em português do spaCy\\nnlp = spacy.load('pt_core_news_sm')\\n\\n# Limpeza e preparação dos textos usando spaCy\\ndef extrair_palavras_chave(texto):\\n    doc = nlp(texto.lower())  # transformar em minúsculas e processar com spaCy\\n    palavras_chave = [token.lemma_ for token in doc if token.is_alpha and not token.is_stop]  # lematização e remoção de stop words\\n    return palavras_chave\\n\\n# Aplicar a função de extração de palavras-chave nas descrições\\ndf_tech['Palavras Chave'] = df_tech['Skills Necessarias'].apply(extrair_palavras_chave)\\n\\n# Contar as palavras por área\\ncontagens_por_area = df_tech.groupby('Área')['Palavras Chave'].sum()\\n\\n# Função para contar as palavras mais frequentes\\ndef contar_palavras(palavras):\\n    return Counter(palavras)\\n\\n# Aplicar a função de contagem de palavras por área\\nfrequencia_palavras_por_area = contagens_por_area.apply(contar_palavras)\\n\\n# Transformar o resultado em DataFrame para visualização\\ndados_frequencia = []\\nfor area, contador in frequencia_palavras_por_area.items():\\n    for palavra, frequencia in contador.items():\\n        dados_frequencia.append({'Área': area, 'Palavra': palavra, 'Frequência': frequencia})\\n\\ndf_frequencia_palavras = pd.DataFrame(dados_frequencia)\\n\\n# Visualização das palavras mais frequentes por área\\nfig = px.bar(df_frequencia_palavras, x='Palavra', y='Frequência', color='Área', \\n             title='Palavras mais frequentes nas descrições das vagas por área',\\n             labels={'Frequência': 'Frequência', 'Palavra': 'Palavras'})\\n\\n# Exibir o gráfico\\nfig.show()\\n\""
      ]
     },
     "execution_count": 63,
     "metadata": {},
     "output_type": "execute_result"
    }
   ],
   "source": [
    "'''\n",
    "import spacy\n",
    "\n",
    "# Carregar o modelo de linguagem em português do spaCy\n",
    "nlp = spacy.load('pt_core_news_sm')\n",
    "\n",
    "# Limpeza e preparação dos textos usando spaCy\n",
    "def extrair_palavras_chave(texto):\n",
    "    doc = nlp(texto.lower())  # transformar em minúsculas e processar com spaCy\n",
    "    palavras_chave = [token.lemma_ for token in doc if token.is_alpha and not token.is_stop]  # lematização e remoção de stop words\n",
    "    return palavras_chave\n",
    "\n",
    "# Aplicar a função de extração de palavras-chave nas descrições\n",
    "df_tech['Palavras Chave'] = df_tech['Skills Necessarias'].apply(extrair_palavras_chave)\n",
    "\n",
    "# Contar as palavras por área\n",
    "contagens_por_area = df_tech.groupby('Área')['Palavras Chave'].sum()\n",
    "\n",
    "# Função para contar as palavras mais frequentes\n",
    "def contar_palavras(palavras):\n",
    "    return Counter(palavras)\n",
    "\n",
    "# Aplicar a função de contagem de palavras por área\n",
    "frequencia_palavras_por_area = contagens_por_area.apply(contar_palavras)\n",
    "\n",
    "# Transformar o resultado em DataFrame para visualização\n",
    "dados_frequencia = []\n",
    "for area, contador in frequencia_palavras_por_area.items():\n",
    "    for palavra, frequencia in contador.items():\n",
    "        dados_frequencia.append({'Área': area, 'Palavra': palavra, 'Frequência': frequencia})\n",
    "\n",
    "df_frequencia_palavras = pd.DataFrame(dados_frequencia)\n",
    "\n",
    "# Visualização das palavras mais frequentes por área\n",
    "fig = px.bar(df_frequencia_palavras, x='Palavra', y='Frequência', color='Área', \n",
    "             title='Palavras mais frequentes nas descrições das vagas por área',\n",
    "             labels={'Frequência': 'Frequência', 'Palavra': 'Palavras'})\n",
    "\n",
    "# Exibir o gráfico\n",
    "fig.show()\n",
    "'''"
   ]
  },
  {
   "cell_type": "code",
   "execution_count": 64,
   "metadata": {},
   "outputs": [
    {
     "data": {
      "text/plain": [
       "Index(['Funcao', 'Localização', 'Skills Necessarias', 'Média Salarial',\n",
       "       'Cargo', 'ver_cargo', 'palavra_chave', 'nivel', 'cargos_tech', 'area',\n",
       "       'macro_area', 'tipo_cargo', 'tipo_nivel', 'momento_carreira', 'Área'],\n",
       "      dtype='object')"
      ]
     },
     "execution_count": 64,
     "metadata": {},
     "output_type": "execute_result"
    }
   ],
   "source": [
    "df_tech.columns"
   ]
  },
  {
   "cell_type": "code",
   "execution_count": 65,
   "metadata": {},
   "outputs": [
    {
     "data": {
      "text/html": [
       "<div>\n",
       "<style scoped>\n",
       "    .dataframe tbody tr th:only-of-type {\n",
       "        vertical-align: middle;\n",
       "    }\n",
       "\n",
       "    .dataframe tbody tr th {\n",
       "        vertical-align: top;\n",
       "    }\n",
       "\n",
       "    .dataframe thead th {\n",
       "        text-align: right;\n",
       "    }\n",
       "</style>\n",
       "<table border=\"1\" class=\"dataframe\">\n",
       "  <thead>\n",
       "    <tr style=\"text-align: right;\">\n",
       "      <th></th>\n",
       "      <th>Funcao</th>\n",
       "      <th>Localização</th>\n",
       "      <th>Skills Necessarias</th>\n",
       "      <th>Média Salarial</th>\n",
       "      <th>Cargo</th>\n",
       "      <th>ver_cargo</th>\n",
       "      <th>palavra_chave</th>\n",
       "      <th>nivel</th>\n",
       "      <th>cargos_tech</th>\n",
       "      <th>area</th>\n",
       "      <th>macro_area</th>\n",
       "      <th>tipo_cargo</th>\n",
       "      <th>tipo_nivel</th>\n",
       "      <th>momento_carreira</th>\n",
       "      <th>Área</th>\n",
       "    </tr>\n",
       "  </thead>\n",
       "  <tbody>\n",
       "    <tr>\n",
       "      <th>0</th>\n",
       "      <td>LawnStarter\\n4.4\\nSenior UX/Product Designer\\n...</td>\n",
       "      <td>Trabalho remoto</td>\n",
       "      <td>LawnStarter is the leading on-demand platform ...</td>\n",
       "      <td>R$ 60 mil – R$ 70 mil/ano (est. Empresa)</td>\n",
       "      <td>senior ux / product designer</td>\n",
       "      <td>designer</td>\n",
       "      <td>product ,  ux</td>\n",
       "      <td>senior</td>\n",
       "      <td>Outros</td>\n",
       "      <td>produto ,  ux</td>\n",
       "      <td>design</td>\n",
       "      <td>cargos tecnicos</td>\n",
       "      <td>outros niveis</td>\n",
       "      <td>carreira avançada</td>\n",
       "      <td>design</td>\n",
       "    </tr>\n",
       "  </tbody>\n",
       "</table>\n",
       "</div>"
      ],
      "text/plain": [
       "                                              Funcao      Localização  \\\n",
       "0  LawnStarter\\n4.4\\nSenior UX/Product Designer\\n...  Trabalho remoto   \n",
       "\n",
       "                                  Skills Necessarias  \\\n",
       "0  LawnStarter is the leading on-demand platform ...   \n",
       "\n",
       "                             Média Salarial                           Cargo  \\\n",
       "0  R$ 60 mil – R$ 70 mil/ano (est. Empresa)   senior ux / product designer    \n",
       "\n",
       "    ver_cargo    palavra_chave     nivel cargos_tech             area  \\\n",
       "0   designer    product ,  ux    senior       Outros   produto ,  ux    \n",
       "\n",
       "  macro_area       tipo_cargo     tipo_nivel   momento_carreira    Área  \n",
       "0     design  cargos tecnicos  outros niveis  carreira avançada  design  "
      ]
     },
     "execution_count": 65,
     "metadata": {},
     "output_type": "execute_result"
    }
   ],
   "source": [
    "df_tech.head(1)"
   ]
  },
  {
   "cell_type": "code",
   "execution_count": 66,
   "metadata": {},
   "outputs": [],
   "source": [
    "df_sample = df_tech.sample(n=1000, random_state=1)\n",
    "df_sample.to_csv('df_tech_gpt.csv', columns= ['Localização', 'Skills Necessarias', 'Média Salarial','Cargo', 'ver_cargo', 'palavra_chave'] ,index = False)"
   ]
  },
  {
   "cell_type": "code",
   "execution_count": 67,
   "metadata": {},
   "outputs": [
    {
     "data": {
      "text/plain": [
       "'import pandas as pd\\nimport unidecode\\nfrom sklearn.feature_extraction.text import TfidfVectorizer\\nfrom sklearn.metrics.pairwise import cosine_similarity\\n\\n# Carregar o DataFrame de cadastro de funções\\npath_cadastro = \"Cadastro de funções - Cadastro de funções.csv\"\\ndf_cadastro = pd.read_csv(path_cadastro)\\n\\n# Função para remover espaços e acentuações\\ndef normalizar_texto(texto):\\n    return unidecode.unidecode(texto.strip().lower())\\n\\n# Normalizar as colunas do DataFrame de cadastro de funções\\nfor col in df_cadastro.columns:\\n    df_cadastro[col] = df_cadastro[col].astype(str).apply(normalizar_texto)\\n\\n# Normalizar as colunas relevantes do DataFrame de amostra\\ndf_tech[\\'ver_cargo\\'] = df_tech[\\'ver_cargo\\'].astype(str).apply(normalizar_texto)\\ndf_tech[\\'palavra_chave\\'] = df_tech[\\'palavra_chave\\'].astype(str).apply(normalizar_texto)\\n\\n# Ajustar os nomes das colunas conforme necessário\\ncargo_cols = [\\'Cargo 1\\', \\'Cargo 2\\', \\'Cargo 3\\', \\'Cargo 4\\', \\'Cargo 5\\', \\'Cargo 6\\']\\npalavra_chave_cols = [\\'palavra-chave 1\\', \\'palavra-chave 2\\', \\'palavra-chave 3\\', \\'palavra-chave 4\\', \\'palavra-chave 5\\', \\'palavra-chave 6\\']\\n\\n# Função para calcular a similaridade entre textos\\ndef calcular_similaridade(texto1, texto2):\\n    vectorizer = TfidfVectorizer().fit_transform([texto1, texto2])\\n    vectors = vectorizer.toarray()\\n    return cosine_similarity(vectors)[0, 1]\\n\\n# Função para normalizar cargos e palavras-chave com melhor correspondência\\ndef normalizar_cargo(row, df_cadastro):\\n    ver_cargo = row[\\'ver_cargo\\']\\n    palavra_chave = row[\\'palavra_chave\\']\\n    \\n    melhor_pontuacao = 0\\n    melhor_nome_vaga = \\'Indefinido\\'\\n    \\n    for _, cadastro_row in df_cadastro.iterrows():\\n        cargos_cadastro = \\' \\'.join([cadastro_row[col] for col in cargo_cols if pd.notnull(cadastro_row[col])])\\n        palavras_cadastro = \\' \\'.join([cadastro_row[col] for col in palavra_chave_cols if pd.notnull(cadastro_row[col])])\\n        \\n        # Calcular similaridade\\n        similaridade_cargo = calcular_similaridade(ver_cargo, cargos_cadastro)\\n        similaridade_palavra = calcular_similaridade(palavra_chave, palavras_cadastro)\\n        \\n        # Atribuir pesos às similaridades\\n        pontuacao = 0.7 * similaridade_cargo + 0.3 * similaridade_palavra\\n        \\n        if pontuacao > melhor_pontuacao:\\n            melhor_pontuacao = pontuacao\\n            melhor_nome_vaga = cadastro_row[\\'Nome normalizado\\']\\n    \\n    return melhor_nome_vaga\\n\\n# Aplicar a função de normalização ao DataFrame de amostra\\ndf_tech[\\'Nome Vaga Normalizado\\'] = df_tech.apply(lambda row: normalizar_cargo(row, df_cadastro), axis=1)\\n\\n'"
      ]
     },
     "execution_count": 67,
     "metadata": {},
     "output_type": "execute_result"
    }
   ],
   "source": [
    "'''import pandas as pd\n",
    "import unidecode\n",
    "from sklearn.feature_extraction.text import TfidfVectorizer\n",
    "from sklearn.metrics.pairwise import cosine_similarity\n",
    "\n",
    "# Carregar o DataFrame de cadastro de funções\n",
    "path_cadastro = \"Cadastro de funções - Cadastro de funções.csv\"\n",
    "df_cadastro = pd.read_csv(path_cadastro)\n",
    "\n",
    "# Função para remover espaços e acentuações\n",
    "def normalizar_texto(texto):\n",
    "    return unidecode.unidecode(texto.strip().lower())\n",
    "\n",
    "# Normalizar as colunas do DataFrame de cadastro de funções\n",
    "for col in df_cadastro.columns:\n",
    "    df_cadastro[col] = df_cadastro[col].astype(str).apply(normalizar_texto)\n",
    "\n",
    "# Normalizar as colunas relevantes do DataFrame de amostra\n",
    "df_tech['ver_cargo'] = df_tech['ver_cargo'].astype(str).apply(normalizar_texto)\n",
    "df_tech['palavra_chave'] = df_tech['palavra_chave'].astype(str).apply(normalizar_texto)\n",
    "\n",
    "# Ajustar os nomes das colunas conforme necessário\n",
    "cargo_cols = ['Cargo 1', 'Cargo 2', 'Cargo 3', 'Cargo 4', 'Cargo 5', 'Cargo 6']\n",
    "palavra_chave_cols = ['palavra-chave 1', 'palavra-chave 2', 'palavra-chave 3', 'palavra-chave 4', 'palavra-chave 5', 'palavra-chave 6']\n",
    "\n",
    "# Função para calcular a similaridade entre textos\n",
    "def calcular_similaridade(texto1, texto2):\n",
    "    vectorizer = TfidfVectorizer().fit_transform([texto1, texto2])\n",
    "    vectors = vectorizer.toarray()\n",
    "    return cosine_similarity(vectors)[0, 1]\n",
    "\n",
    "# Função para normalizar cargos e palavras-chave com melhor correspondência\n",
    "def normalizar_cargo(row, df_cadastro):\n",
    "    ver_cargo = row['ver_cargo']\n",
    "    palavra_chave = row['palavra_chave']\n",
    "    \n",
    "    melhor_pontuacao = 0\n",
    "    melhor_nome_vaga = 'Indefinido'\n",
    "    \n",
    "    for _, cadastro_row in df_cadastro.iterrows():\n",
    "        cargos_cadastro = ' '.join([cadastro_row[col] for col in cargo_cols if pd.notnull(cadastro_row[col])])\n",
    "        palavras_cadastro = ' '.join([cadastro_row[col] for col in palavra_chave_cols if pd.notnull(cadastro_row[col])])\n",
    "        \n",
    "        # Calcular similaridade\n",
    "        similaridade_cargo = calcular_similaridade(ver_cargo, cargos_cadastro)\n",
    "        similaridade_palavra = calcular_similaridade(palavra_chave, palavras_cadastro)\n",
    "        \n",
    "        # Atribuir pesos às similaridades\n",
    "        pontuacao = 0.7 * similaridade_cargo + 0.3 * similaridade_palavra\n",
    "        \n",
    "        if pontuacao > melhor_pontuacao:\n",
    "            melhor_pontuacao = pontuacao\n",
    "            melhor_nome_vaga = cadastro_row['Nome normalizado']\n",
    "    \n",
    "    return melhor_nome_vaga\n",
    "\n",
    "# Aplicar a função de normalização ao DataFrame de amostra\n",
    "df_tech['Nome Vaga Normalizado'] = df_tech.apply(lambda row: normalizar_cargo(row, df_cadastro), axis=1)\n",
    "\n",
    "'''"
   ]
  },
  {
   "cell_type": "code",
   "execution_count": 68,
   "metadata": {},
   "outputs": [
    {
     "data": {
      "text/plain": [
       "'\\nimport pandas as pd\\nimport unidecode\\nimport spacy\\nfrom tqdm import tqdm\\nimport re\\n\\n# Carregar o modelo de linguagem do spaCy\\nnlp = spacy.load(\\'pt_core_news_sm\\')\\n\\n# Carregar o DataFrame de cadastro de funções\\npath_cadastro = \"Cadastro de funções - Cadastro de funções.csv\"\\ndf_cadastro = pd.read_csv(path_cadastro)\\n\\n# Função para remover espaços, acentuações e caracteres especiais\\ndef normalizar_texto(texto):\\n    texto = unidecode.unidecode(texto.strip().lower())\\n    texto = re.sub(r\\'\\\\W+\\', \\' \\', texto)\\n    return texto\\n\\n# Função para lematização e remoção de stopwords\\ndef preprocessar_texto(texto):\\n    doc = nlp(texto)\\n    return \\' \\'.join([token.lemma_ for token in doc if not token.is_stop])\\n\\n# Normalizar e preprocessar as colunas do DataFrame de cadastro de funções\\nfor col in df_cadastro.columns:\\n    df_cadastro[col] = df_cadastro[col].astype(str).apply(normalizar_texto).apply(preprocessar_texto)\\n\\n# Normalizar e preprocessar as colunas relevantes do DataFrame de amostra\\ndf_tech[\\'ver_cargo\\'] = df_tech[\\'ver_cargo\\'].astype(str).apply(normalizar_texto).apply(preprocessar_texto)\\ndf_tech[\\'palavra_chave\\'] = df_tech[\\'palavra_chave\\'].astype(str).apply(normalizar_texto).apply(preprocessar_texto)\\n\\n# Ajustar os nomes das colunas conforme necessário\\ncargo_cols = [\\'Cargo 1\\', \\'Cargo 2\\', \\'Cargo 3\\', \\'Cargo 4\\', \\'Cargo 5\\', \\'Cargo 6\\']\\npalavra_chave_cols = [\\'palavra-chave 1\\', \\'palavra-chave 2\\', \\'palavra-chave 3\\', \\'palavra-chave 4\\', \\'palavra-chave 5\\', \\'palavra-chave 6\\']\\n\\n# Função para calcular a similaridade entre textos usando embeddings do SpaCy\\ndef calcular_similaridade(texto1, texto2):\\n    doc1 = nlp(texto1)\\n    doc2 = nlp(texto2)\\n    return doc1.similarity(doc2)\\n\\n# Função para normalizar cargos e palavras-chave com melhor correspondência\\ndef normalizar_cargo(row, df_cadastro):\\n    ver_cargo = row[\\'ver_cargo\\']\\n    palavra_chave = row[\\'palavra_chave\\']\\n    \\n    melhor_pontuacao = 0\\n    melhor_nome_vaga = \\'Indefinido\\'\\n    \\n    for _, cadastro_row in df_cadastro.iterrows():\\n        cargos_cadastro = \\' \\'.join([cadastro_row[col] for col in cargo_cols if pd.notnull(cadastro_row[col])])\\n        palavras_cadastro = \\' \\'.join([cadastro_row[col] for col in palavra_chave_cols if pd.notnull(cadastro_row[col])])\\n        \\n        # Calcular similaridade\\n        similaridade_cargo = calcular_similaridade(ver_cargo, cargos_cadastro)\\n        similaridade_palavra = calcular_similaridade(palavra_chave, palavras_cadastro)\\n        \\n        # Atribuir pesos às similaridades (peso maior para palavras-chave)\\n        pontuacao = 0.3 * similaridade_cargo + 0.7 * similaridade_palavra\\n        \\n        if pontuacao > melhor_pontuacao:\\n            melhor_pontuacao = pontuacao\\n            melhor_nome_vaga = cadastro_row[\\'Nome normalizado\\']\\n    \\n    return melhor_nome_vaga\\n\\n# Aplicar a função de normalização ao DataFrame de amostra com barra de progresso\\ntqdm.pandas()\\ndf_tech[\\'Nome Vaga Normalizado\\'] = df_tech.progress_apply(lambda row: normalizar_cargo(row, df_cadastro), axis=1)\\n'"
      ]
     },
     "execution_count": 68,
     "metadata": {},
     "output_type": "execute_result"
    }
   ],
   "source": [
    "'''\n",
    "import pandas as pd\n",
    "import unidecode\n",
    "import spacy\n",
    "from tqdm import tqdm\n",
    "import re\n",
    "\n",
    "# Carregar o modelo de linguagem do spaCy\n",
    "nlp = spacy.load('pt_core_news_sm')\n",
    "\n",
    "# Carregar o DataFrame de cadastro de funções\n",
    "path_cadastro = \"Cadastro de funções - Cadastro de funções.csv\"\n",
    "df_cadastro = pd.read_csv(path_cadastro)\n",
    "\n",
    "# Função para remover espaços, acentuações e caracteres especiais\n",
    "def normalizar_texto(texto):\n",
    "    texto = unidecode.unidecode(texto.strip().lower())\n",
    "    texto = re.sub(r'\\W+', ' ', texto)\n",
    "    return texto\n",
    "\n",
    "# Função para lematização e remoção de stopwords\n",
    "def preprocessar_texto(texto):\n",
    "    doc = nlp(texto)\n",
    "    return ' '.join([token.lemma_ for token in doc if not token.is_stop])\n",
    "\n",
    "# Normalizar e preprocessar as colunas do DataFrame de cadastro de funções\n",
    "for col in df_cadastro.columns:\n",
    "    df_cadastro[col] = df_cadastro[col].astype(str).apply(normalizar_texto).apply(preprocessar_texto)\n",
    "\n",
    "# Normalizar e preprocessar as colunas relevantes do DataFrame de amostra\n",
    "df_tech['ver_cargo'] = df_tech['ver_cargo'].astype(str).apply(normalizar_texto).apply(preprocessar_texto)\n",
    "df_tech['palavra_chave'] = df_tech['palavra_chave'].astype(str).apply(normalizar_texto).apply(preprocessar_texto)\n",
    "\n",
    "# Ajustar os nomes das colunas conforme necessário\n",
    "cargo_cols = ['Cargo 1', 'Cargo 2', 'Cargo 3', 'Cargo 4', 'Cargo 5', 'Cargo 6']\n",
    "palavra_chave_cols = ['palavra-chave 1', 'palavra-chave 2', 'palavra-chave 3', 'palavra-chave 4', 'palavra-chave 5', 'palavra-chave 6']\n",
    "\n",
    "# Função para calcular a similaridade entre textos usando embeddings do SpaCy\n",
    "def calcular_similaridade(texto1, texto2):\n",
    "    doc1 = nlp(texto1)\n",
    "    doc2 = nlp(texto2)\n",
    "    return doc1.similarity(doc2)\n",
    "\n",
    "# Função para normalizar cargos e palavras-chave com melhor correspondência\n",
    "def normalizar_cargo(row, df_cadastro):\n",
    "    ver_cargo = row['ver_cargo']\n",
    "    palavra_chave = row['palavra_chave']\n",
    "    \n",
    "    melhor_pontuacao = 0\n",
    "    melhor_nome_vaga = 'Indefinido'\n",
    "    \n",
    "    for _, cadastro_row in df_cadastro.iterrows():\n",
    "        cargos_cadastro = ' '.join([cadastro_row[col] for col in cargo_cols if pd.notnull(cadastro_row[col])])\n",
    "        palavras_cadastro = ' '.join([cadastro_row[col] for col in palavra_chave_cols if pd.notnull(cadastro_row[col])])\n",
    "        \n",
    "        # Calcular similaridade\n",
    "        similaridade_cargo = calcular_similaridade(ver_cargo, cargos_cadastro)\n",
    "        similaridade_palavra = calcular_similaridade(palavra_chave, palavras_cadastro)\n",
    "        \n",
    "        # Atribuir pesos às similaridades (peso maior para palavras-chave)\n",
    "        pontuacao = 0.3 * similaridade_cargo + 0.7 * similaridade_palavra\n",
    "        \n",
    "        if pontuacao > melhor_pontuacao:\n",
    "            melhor_pontuacao = pontuacao\n",
    "            melhor_nome_vaga = cadastro_row['Nome normalizado']\n",
    "    \n",
    "    return melhor_nome_vaga\n",
    "\n",
    "# Aplicar a função de normalização ao DataFrame de amostra com barra de progresso\n",
    "tqdm.pandas()\n",
    "df_tech['Nome Vaga Normalizado'] = df_tech.progress_apply(lambda row: normalizar_cargo(row, df_cadastro), axis=1)\n",
    "'''"
   ]
  },
  {
   "cell_type": "code",
   "execution_count": 69,
   "metadata": {},
   "outputs": [
    {
     "data": {
      "text/plain": [
       "'\\nmodelo bom!!!\\nimport pandas as pd\\nimport unidecode\\nimport spacy\\nfrom sklearn.feature_extraction.text import TfidfVectorizer\\nfrom sklearn.model_selection import train_test_split\\nfrom sklearn.ensemble import RandomForestClassifier\\nfrom sklearn.metrics import classification_report\\nfrom tqdm import tqdm\\nimport re\\n\\n# Carregar o modelo de linguagem do spaCy\\nnlp = spacy.load(\\'pt_core_news_sm\\')\\n\\n# Carregar o DataFrame com a amostra de vagas rotuladas manualmente\\npath_amostra = \"amostra_vagas_rotuladas.csv\"\\ndf_amostra = pd.read_csv(path_amostra)\\n\\n# Carregar o DataFrame de cadastro de funções\\npath_cadastro = \"Cadastro de funções - Cadastro de funções.csv\"\\ndf_cadastro = pd.read_csv(path_cadastro)\\n\\n# Função para remover espaços, acentuações e caracteres especiais\\ndef normalizar_texto(texto):\\n    texto = unidecode.unidecode(texto.strip().lower())\\n    texto = re.sub(r\\'\\\\W+\\', \\' \\', texto)\\n    return texto\\n\\n# Função para lematização e remoção de stopwords\\ndef preprocessar_texto(texto):\\n    doc = nlp(texto)\\n    return \\' \\'.join([token.lemma_ for token in doc if not token.is_stop])\\n\\n# Aplicar a normalização e o pré-processamento\\ndf_amostra[\\'texto\\'] = df_amostra[\\'ver_cargo\\'] + \\' \\' + df_amostra[\\'palavra_chave\\']\\ndf_amostra[\\'texto\\'] = df_amostra[\\'texto\\'].astype(str).apply(normalizar_texto).apply(preprocessar_texto)\\n\\n# Adicionar características de listas de cargos e palavras-chave\\ncargo_cols = [\\'Cargo 1\\', \\'Cargo 2\\', \\'Cargo 3\\', \\'Cargo 4\\', \\'Cargo 5\\', \\'Cargo 6\\']\\npalavra_chave_cols = [\\'palavra-chave 1\\', \\'palavra-chave 2\\', \\'palavra-chave 3\\', \\'palavra-chave 4\\', \\'palavra-chave 5\\', \\'palavra-chave 6\\']\\n\\n# Função para verificar a presença de palavras-chave e cargos\\ndef verificar_presenca(texto, lista):\\n    return any(item in texto for item in lista)\\n\\n# Criar novas características no DataFrame\\nfor i, row in df_amostra.iterrows():\\n    for col in cargo_cols:\\n        df_amostra.loc[i, col] = verificar_presenca(row[\\'texto\\'], df_cadastro[col].dropna().tolist())\\n    for col in palavra_chave_cols:\\n        df_amostra.loc[i, col] = verificar_presenca(row[\\'texto\\'], df_cadastro[col].dropna().tolist())\\n\\n# Converter colunas de características em numérico\\nfor col in cargo_cols + palavra_chave_cols:\\n    df_amostra[col] = df_amostra[col].astype(int)\\n\\n# Separar as variáveis dependentes e independentes\\nX = df_amostra.drop(columns=[\\'Nome Vaga Normalizado\\', \\'Localização\\', \\'Skills Necessarias\\', \\'Média Salarial\\', \\'Cargo\\', \\'ver_cargo\\', \\'palavra_chave\\'])\\ny = df_amostra[\\'Nome Vaga Normalizado\\']\\n\\n# Dividir os dados em conjuntos de treino e teste\\nX_train, X_test, y_train, y_test = train_test_split(X, y, test_size=0.2, random_state=42)\\n\\n# Vetorização do texto\\nvectorizer = TfidfVectorizer()\\nX_train_tfidf = vectorizer.fit_transform(X_train[\\'texto\\'])\\nX_test_tfidf = vectorizer.transform(X_test[\\'texto\\'])\\n\\n# Concatenar as novas características\\nX_train_combined = pd.concat([pd.DataFrame(X_train_tfidf.toarray()), X_train.drop(columns=[\\'texto\\']).reset_index(drop=True)], axis=1)\\nX_test_combined = pd.concat([pd.DataFrame(X_test_tfidf.toarray()), X_test.drop(columns=[\\'texto\\']).reset_index(drop=True)], axis=1)\\n\\n# Treinar o modelo de RandomForest\\nmodel = RandomForestClassifier(n_estimators=100, random_state=42)\\nmodel.fit(X_train_combined, y_train)\\n\\n# Prever nos dados de teste\\ny_pred = model.predict(X_test_combined)\\n\\n# Avaliar o desempenho do modelo\\nprint(classification_report(y_test, y_pred))\\n\\n# Aplicar o modelo aos dados não rotulados\\ndf_nao_rotulados = df_tech[[\\'Localização\\', \\'Skills Necessarias\\', \\'Média Salarial\\',\\'Cargo\\',\\'ver_cargo\\',\\'palavra_chave\\']]\\n\\n# Aplicar a normalização e o pré-processamento\\ndf_nao_rotulados[\\'texto\\'] = df_nao_rotulados[\\'ver_cargo\\'] + \\' \\' + df_nao_rotulados[\\'palavra_chave\\']\\ndf_nao_rotulados[\\'texto\\'] = df_nao_rotulados[\\'texto\\'].astype(str).apply(normalizar_texto).apply(preprocessar_texto)\\n\\n# Adicionar características de listas de cargos e palavras-chave\\nfor i, row in df_nao_rotulados.iterrows():\\n    for col in cargo_cols:\\n        df_nao_rotulados.loc[i, col] = verificar_presenca(row[\\'texto\\'], df_cadastro[col].dropna().tolist())\\n    for col in palavra_chave_cols:\\n        df_nao_rotulados.loc[i, col] = verificar_presenca(row[\\'texto\\'], df_cadastro[col].dropna().tolist())\\n\\n# Converter colunas de características em numérico\\nfor col in cargo_cols + palavra_chave_cols:\\n    df_nao_rotulados[col] = df_nao_rotulados[col].astype(int)\\n\\n# Vetorização do texto\\nX_nao_rotulados_tfidf = vectorizer.transform(df_nao_rotulados[\\'texto\\'])\\n\\n# Concatenar as novas características\\nX_nao_rotulados_combined = pd.concat([pd.DataFrame(X_nao_rotulados_tfidf.toarray()), df_nao_rotulados.drop(columns=[\\'texto\\', \\'Localização\\', \\'Skills Necessarias\\', \\'Média Salarial\\', \\'Cargo\\', \\'ver_cargo\\', \\'palavra_chave\\']).reset_index(drop=True)], axis=1)\\n\\n# Prever nos dados não rotulados\\ndf_nao_rotulados[\\'Nome Vaga Normalizado\\'] = model.predict(X_nao_rotulados_combined)\\n\\n# Salvar o DataFrame resultante\\ndf_nao_rotulados.to_csv(\\'vagas_classificadas.csv\\', index=False)\\n'"
      ]
     },
     "execution_count": 69,
     "metadata": {},
     "output_type": "execute_result"
    }
   ],
   "source": [
    "'''\n",
    "modelo bom!!!\n",
    "import pandas as pd\n",
    "import unidecode\n",
    "import spacy\n",
    "from sklearn.feature_extraction.text import TfidfVectorizer\n",
    "from sklearn.model_selection import train_test_split\n",
    "from sklearn.ensemble import RandomForestClassifier\n",
    "from sklearn.metrics import classification_report\n",
    "from tqdm import tqdm\n",
    "import re\n",
    "\n",
    "# Carregar o modelo de linguagem do spaCy\n",
    "nlp = spacy.load('pt_core_news_sm')\n",
    "\n",
    "# Carregar o DataFrame com a amostra de vagas rotuladas manualmente\n",
    "path_amostra = \"amostra_vagas_rotuladas.csv\"\n",
    "df_amostra = pd.read_csv(path_amostra)\n",
    "\n",
    "# Carregar o DataFrame de cadastro de funções\n",
    "path_cadastro = \"Cadastro de funções - Cadastro de funções.csv\"\n",
    "df_cadastro = pd.read_csv(path_cadastro)\n",
    "\n",
    "# Função para remover espaços, acentuações e caracteres especiais\n",
    "def normalizar_texto(texto):\n",
    "    texto = unidecode.unidecode(texto.strip().lower())\n",
    "    texto = re.sub(r'\\W+', ' ', texto)\n",
    "    return texto\n",
    "\n",
    "# Função para lematização e remoção de stopwords\n",
    "def preprocessar_texto(texto):\n",
    "    doc = nlp(texto)\n",
    "    return ' '.join([token.lemma_ for token in doc if not token.is_stop])\n",
    "\n",
    "# Aplicar a normalização e o pré-processamento\n",
    "df_amostra['texto'] = df_amostra['ver_cargo'] + ' ' + df_amostra['palavra_chave']\n",
    "df_amostra['texto'] = df_amostra['texto'].astype(str).apply(normalizar_texto).apply(preprocessar_texto)\n",
    "\n",
    "# Adicionar características de listas de cargos e palavras-chave\n",
    "cargo_cols = ['Cargo 1', 'Cargo 2', 'Cargo 3', 'Cargo 4', 'Cargo 5', 'Cargo 6']\n",
    "palavra_chave_cols = ['palavra-chave 1', 'palavra-chave 2', 'palavra-chave 3', 'palavra-chave 4', 'palavra-chave 5', 'palavra-chave 6']\n",
    "\n",
    "# Função para verificar a presença de palavras-chave e cargos\n",
    "def verificar_presenca(texto, lista):\n",
    "    return any(item in texto for item in lista)\n",
    "\n",
    "# Criar novas características no DataFrame\n",
    "for i, row in df_amostra.iterrows():\n",
    "    for col in cargo_cols:\n",
    "        df_amostra.loc[i, col] = verificar_presenca(row['texto'], df_cadastro[col].dropna().tolist())\n",
    "    for col in palavra_chave_cols:\n",
    "        df_amostra.loc[i, col] = verificar_presenca(row['texto'], df_cadastro[col].dropna().tolist())\n",
    "\n",
    "# Converter colunas de características em numérico\n",
    "for col in cargo_cols + palavra_chave_cols:\n",
    "    df_amostra[col] = df_amostra[col].astype(int)\n",
    "\n",
    "# Separar as variáveis dependentes e independentes\n",
    "X = df_amostra.drop(columns=['Nome Vaga Normalizado', 'Localização', 'Skills Necessarias', 'Média Salarial', 'Cargo', 'ver_cargo', 'palavra_chave'])\n",
    "y = df_amostra['Nome Vaga Normalizado']\n",
    "\n",
    "# Dividir os dados em conjuntos de treino e teste\n",
    "X_train, X_test, y_train, y_test = train_test_split(X, y, test_size=0.2, random_state=42)\n",
    "\n",
    "# Vetorização do texto\n",
    "vectorizer = TfidfVectorizer()\n",
    "X_train_tfidf = vectorizer.fit_transform(X_train['texto'])\n",
    "X_test_tfidf = vectorizer.transform(X_test['texto'])\n",
    "\n",
    "# Concatenar as novas características\n",
    "X_train_combined = pd.concat([pd.DataFrame(X_train_tfidf.toarray()), X_train.drop(columns=['texto']).reset_index(drop=True)], axis=1)\n",
    "X_test_combined = pd.concat([pd.DataFrame(X_test_tfidf.toarray()), X_test.drop(columns=['texto']).reset_index(drop=True)], axis=1)\n",
    "\n",
    "# Treinar o modelo de RandomForest\n",
    "model = RandomForestClassifier(n_estimators=100, random_state=42)\n",
    "model.fit(X_train_combined, y_train)\n",
    "\n",
    "# Prever nos dados de teste\n",
    "y_pred = model.predict(X_test_combined)\n",
    "\n",
    "# Avaliar o desempenho do modelo\n",
    "print(classification_report(y_test, y_pred))\n",
    "\n",
    "# Aplicar o modelo aos dados não rotulados\n",
    "df_nao_rotulados = df_tech[['Localização', 'Skills Necessarias', 'Média Salarial','Cargo','ver_cargo','palavra_chave']]\n",
    "\n",
    "# Aplicar a normalização e o pré-processamento\n",
    "df_nao_rotulados['texto'] = df_nao_rotulados['ver_cargo'] + ' ' + df_nao_rotulados['palavra_chave']\n",
    "df_nao_rotulados['texto'] = df_nao_rotulados['texto'].astype(str).apply(normalizar_texto).apply(preprocessar_texto)\n",
    "\n",
    "# Adicionar características de listas de cargos e palavras-chave\n",
    "for i, row in df_nao_rotulados.iterrows():\n",
    "    for col in cargo_cols:\n",
    "        df_nao_rotulados.loc[i, col] = verificar_presenca(row['texto'], df_cadastro[col].dropna().tolist())\n",
    "    for col in palavra_chave_cols:\n",
    "        df_nao_rotulados.loc[i, col] = verificar_presenca(row['texto'], df_cadastro[col].dropna().tolist())\n",
    "\n",
    "# Converter colunas de características em numérico\n",
    "for col in cargo_cols + palavra_chave_cols:\n",
    "    df_nao_rotulados[col] = df_nao_rotulados[col].astype(int)\n",
    "\n",
    "# Vetorização do texto\n",
    "X_nao_rotulados_tfidf = vectorizer.transform(df_nao_rotulados['texto'])\n",
    "\n",
    "# Concatenar as novas características\n",
    "X_nao_rotulados_combined = pd.concat([pd.DataFrame(X_nao_rotulados_tfidf.toarray()), df_nao_rotulados.drop(columns=['texto', 'Localização', 'Skills Necessarias', 'Média Salarial', 'Cargo', 'ver_cargo', 'palavra_chave']).reset_index(drop=True)], axis=1)\n",
    "\n",
    "# Prever nos dados não rotulados\n",
    "df_nao_rotulados['Nome Vaga Normalizado'] = model.predict(X_nao_rotulados_combined)\n",
    "\n",
    "# Salvar o DataFrame resultante\n",
    "df_nao_rotulados.to_csv('vagas_classificadas.csv', index=False)\n",
    "'''\n"
   ]
  },
  {
   "cell_type": "code",
   "execution_count": 70,
   "metadata": {},
   "outputs": [
    {
     "name": "stdout",
     "output_type": "stream",
     "text": [
      "Fitting 3 folds for each of 648 candidates, totalling 1944 fits\n"
     ]
    },
    {
     "name": "stderr",
     "output_type": "stream",
     "text": [
      "C:\\Users\\Inteli\\AppData\\Local\\Packages\\PythonSoftwareFoundation.Python.3.11_qbz5n2kfra8p0\\LocalCache\\local-packages\\Python311\\site-packages\\sklearn\\model_selection\\_split.py:684: UserWarning:\n",
      "\n",
      "The least populated class in y has only 1 members, which is less than n_splits=3.\n",
      "\n",
      "C:\\Users\\Inteli\\AppData\\Local\\Packages\\PythonSoftwareFoundation.Python.3.11_qbz5n2kfra8p0\\LocalCache\\local-packages\\Python311\\site-packages\\sklearn\\utils\\validation.py:1858: FutureWarning:\n",
      "\n",
      "Feature names only support names that are all strings. Got feature names with dtypes: ['int', 'str']. An error will be raised in 1.2.\n",
      "\n",
      "C:\\Users\\Inteli\\AppData\\Local\\Packages\\PythonSoftwareFoundation.Python.3.11_qbz5n2kfra8p0\\LocalCache\\local-packages\\Python311\\site-packages\\sklearn\\utils\\validation.py:1858: FutureWarning:\n",
      "\n",
      "Feature names only support names that are all strings. Got feature names with dtypes: ['int', 'str']. An error will be raised in 1.2.\n",
      "\n",
      "C:\\Users\\Inteli\\AppData\\Local\\Packages\\PythonSoftwareFoundation.Python.3.11_qbz5n2kfra8p0\\LocalCache\\local-packages\\Python311\\site-packages\\sklearn\\metrics\\_classification.py:1334: UndefinedMetricWarning:\n",
      "\n",
      "Precision and F-score are ill-defined and being set to 0.0 in labels with no predicted samples. Use `zero_division` parameter to control this behavior.\n",
      "\n",
      "C:\\Users\\Inteli\\AppData\\Local\\Packages\\PythonSoftwareFoundation.Python.3.11_qbz5n2kfra8p0\\LocalCache\\local-packages\\Python311\\site-packages\\sklearn\\metrics\\_classification.py:1334: UndefinedMetricWarning:\n",
      "\n",
      "Recall and F-score are ill-defined and being set to 0.0 in labels with no true samples. Use `zero_division` parameter to control this behavior.\n",
      "\n",
      "C:\\Users\\Inteli\\AppData\\Local\\Packages\\PythonSoftwareFoundation.Python.3.11_qbz5n2kfra8p0\\LocalCache\\local-packages\\Python311\\site-packages\\sklearn\\metrics\\_classification.py:1334: UndefinedMetricWarning:\n",
      "\n",
      "Precision and F-score are ill-defined and being set to 0.0 in labels with no predicted samples. Use `zero_division` parameter to control this behavior.\n",
      "\n",
      "C:\\Users\\Inteli\\AppData\\Local\\Packages\\PythonSoftwareFoundation.Python.3.11_qbz5n2kfra8p0\\LocalCache\\local-packages\\Python311\\site-packages\\sklearn\\metrics\\_classification.py:1334: UndefinedMetricWarning:\n",
      "\n",
      "Recall and F-score are ill-defined and being set to 0.0 in labels with no true samples. Use `zero_division` parameter to control this behavior.\n",
      "\n",
      "C:\\Users\\Inteli\\AppData\\Local\\Packages\\PythonSoftwareFoundation.Python.3.11_qbz5n2kfra8p0\\LocalCache\\local-packages\\Python311\\site-packages\\sklearn\\metrics\\_classification.py:1334: UndefinedMetricWarning:\n",
      "\n",
      "Precision and F-score are ill-defined and being set to 0.0 in labels with no predicted samples. Use `zero_division` parameter to control this behavior.\n",
      "\n",
      "C:\\Users\\Inteli\\AppData\\Local\\Packages\\PythonSoftwareFoundation.Python.3.11_qbz5n2kfra8p0\\LocalCache\\local-packages\\Python311\\site-packages\\sklearn\\metrics\\_classification.py:1334: UndefinedMetricWarning:\n",
      "\n",
      "Recall and F-score are ill-defined and being set to 0.0 in labels with no true samples. Use `zero_division` parameter to control this behavior.\n",
      "\n",
      "C:\\Users\\Inteli\\AppData\\Local\\Temp\\ipykernel_28572\\1671549817.py:99: SettingWithCopyWarning:\n",
      "\n",
      "\n",
      "A value is trying to be set on a copy of a slice from a DataFrame.\n",
      "Try using .loc[row_indexer,col_indexer] = value instead\n",
      "\n",
      "See the caveats in the documentation: https://pandas.pydata.org/pandas-docs/stable/user_guide/indexing.html#returning-a-view-versus-a-copy\n",
      "\n"
     ]
    },
    {
     "name": "stdout",
     "output_type": "stream",
     "text": [
      "                                         precision    recall  f1-score   support\n",
      "\n",
      "     Administrador de de ambiente nuvem       0.00      0.00      0.00         1\n",
      "                            Agile Coach       1.00      1.00      1.00         4\n",
      "                         Analista de BI       0.80      1.00      0.89         8\n",
      "       Analista de Infraestrutura de TI       0.67      0.80      0.73         5\n",
      "                      Analista de Redes       1.00      1.00      1.00         1\n",
      "    Analista de Segurança da Informação       1.00      1.00      1.00         2\n",
      "                         Analista de TI       0.67      0.67      0.67         6\n",
      "                      Analista de dados       1.00      0.67      0.80         6\n",
      "                    Analista de produto       0.00      0.00      0.00         0\n",
      "                   Analista de sistemas       1.00      0.75      0.86         4\n",
      "                    Analista de suporte       1.00      0.86      0.92         7\n",
      "                  Arquiteto de Sistemas       0.00      0.00      0.00         0\n",
      "         Arquiteto de Soluções em Nuvem       0.00      0.00      0.00         1\n",
      "            Arquiteto de banco de dados       0.00      0.00      0.00         0\n",
      "                          Assistente TI       1.00      0.75      0.86         4\n",
      "                     Cientista de dados       0.50      1.00      0.67         1\n",
      "                          Consultor ERP       1.00      1.00      1.00         2\n",
      "                         Coordenador QA       0.00      0.00      0.00         1\n",
      "    Coordenador de Infraestrutura de TI       0.00      0.00      0.00         1\n",
      "                          Desenvolvedor       0.62      0.88      0.73        17\n",
      "                     Desenvolvedor .NET       0.86      1.00      0.92         6\n",
      "                 Desenvolvedor Back-end       1.00      1.00      1.00         2\n",
      "                Desenvolvedor Front-end       1.00      0.50      0.67         6\n",
      "               Desenvolvedor Full Stack       1.00      1.00      1.00         4\n",
      "                     Desenvolvedor Java       0.67      0.67      0.67         3\n",
      "                      Desenvolvedor PHP       0.00      0.00      0.00         2\n",
      "                   Desenvolvedor Python       0.00      0.00      0.00         1\n",
      "                      Desenvolvedor RPA       0.83      0.71      0.77         7\n",
      "                     Desenvolvedor Ruby       0.00      0.00      0.00         1\n",
      "                      Desenvolvedor Web       0.00      0.00      0.00         1\n",
      "                  Desenvolvedor angular       1.00      1.00      1.00         1\n",
      "              Desenvolvedor de Big Data       0.00      0.00      0.00         1\n",
      "                   Desenvolvedor mobile       1.00      0.50      0.67         2\n",
      "                     Desenvolvedor node       0.00      0.00      0.00         0\n",
      "                    Desenvolvedor react       1.00      0.50      0.67         2\n",
      "                      Engenheiro DevOps       0.00      0.00      0.00         1\n",
      "                    Engenheiro de dados       0.50      0.75      0.60         4\n",
      "                    Engenheiro de nuvem       1.00      0.33      0.50         3\n",
      "         Especialista de Infraestrutura       0.50      1.00      0.67         1\n",
      "Especialista de Segurança da Informação       0.00      0.00      0.00         2\n",
      "                  Especialista de dados       0.00      0.00      0.00         1\n",
      "                  Especialista em nuvem       0.00      0.00      0.00         1\n",
      "                       Estagiário de TI       0.43      1.00      0.60         3\n",
      "          Estagiário de desenvolvimento       0.00      0.00      0.00         1\n",
      "                    Estagiário em Dados       0.00      0.00      0.00         1\n",
      "           Estagiário em Infraestrutura       0.00      0.00      0.00         1\n",
      "                    Gerente de Projetos       0.50      1.00      0.67         1\n",
      "                         Gerente de RPA       0.00      0.00      0.00         1\n",
      "     Gerente de Segurança da Informação       0.00      0.00      0.00         0\n",
      "                             Indefinido       0.45      0.71      0.56        21\n",
      "                          Líder técnico       0.00      0.00      0.00         3\n",
      "                          Product Owner       1.00      0.86      0.92         7\n",
      "                      Proteção de dados       1.00      0.67      0.80         3\n",
      "                                     QA       0.86      0.86      0.86         7\n",
      "                                    SRE       1.00      1.00      1.00         2\n",
      "                    Supervisor de redes       0.00      0.00      0.00         1\n",
      "                     Tecnico de Suporte       0.91      1.00      0.95        10\n",
      "                                     UX       0.60      0.75      0.67         4\n",
      "                                    dba       0.00      0.00      0.00         1\n",
      "                 engenheiro de software       0.88      1.00      0.93         7\n",
      "  professor / pesquisador em tecnologia       0.00      0.00      0.00         3\n",
      "\n",
      "                               accuracy                           0.71       200\n",
      "                              macro avg       0.48      0.48      0.46       200\n",
      "                           weighted avg       0.69      0.71      0.68       200\n",
      "\n"
     ]
    },
    {
     "name": "stderr",
     "output_type": "stream",
     "text": [
      "C:\\Users\\Inteli\\AppData\\Local\\Temp\\ipykernel_28572\\1671549817.py:100: SettingWithCopyWarning:\n",
      "\n",
      "\n",
      "A value is trying to be set on a copy of a slice from a DataFrame.\n",
      "Try using .loc[row_indexer,col_indexer] = value instead\n",
      "\n",
      "See the caveats in the documentation: https://pandas.pydata.org/pandas-docs/stable/user_guide/indexing.html#returning-a-view-versus-a-copy\n",
      "\n",
      "C:\\Users\\Inteli\\AppData\\Local\\Temp\\ipykernel_28572\\1671549817.py:105: SettingWithCopyWarning:\n",
      "\n",
      "\n",
      "A value is trying to be set on a copy of a slice from a DataFrame.\n",
      "Try using .loc[row_indexer,col_indexer] = value instead\n",
      "\n",
      "See the caveats in the documentation: https://pandas.pydata.org/pandas-docs/stable/user_guide/indexing.html#returning-a-view-versus-a-copy\n",
      "\n",
      "C:\\Users\\Inteli\\AppData\\Local\\Temp\\ipykernel_28572\\1671549817.py:105: SettingWithCopyWarning:\n",
      "\n",
      "\n",
      "A value is trying to be set on a copy of a slice from a DataFrame.\n",
      "Try using .loc[row_indexer,col_indexer] = value instead\n",
      "\n",
      "See the caveats in the documentation: https://pandas.pydata.org/pandas-docs/stable/user_guide/indexing.html#returning-a-view-versus-a-copy\n",
      "\n",
      "C:\\Users\\Inteli\\AppData\\Local\\Temp\\ipykernel_28572\\1671549817.py:105: SettingWithCopyWarning:\n",
      "\n",
      "\n",
      "A value is trying to be set on a copy of a slice from a DataFrame.\n",
      "Try using .loc[row_indexer,col_indexer] = value instead\n",
      "\n",
      "See the caveats in the documentation: https://pandas.pydata.org/pandas-docs/stable/user_guide/indexing.html#returning-a-view-versus-a-copy\n",
      "\n",
      "C:\\Users\\Inteli\\AppData\\Local\\Temp\\ipykernel_28572\\1671549817.py:105: SettingWithCopyWarning:\n",
      "\n",
      "\n",
      "A value is trying to be set on a copy of a slice from a DataFrame.\n",
      "Try using .loc[row_indexer,col_indexer] = value instead\n",
      "\n",
      "See the caveats in the documentation: https://pandas.pydata.org/pandas-docs/stable/user_guide/indexing.html#returning-a-view-versus-a-copy\n",
      "\n",
      "C:\\Users\\Inteli\\AppData\\Local\\Temp\\ipykernel_28572\\1671549817.py:105: SettingWithCopyWarning:\n",
      "\n",
      "\n",
      "A value is trying to be set on a copy of a slice from a DataFrame.\n",
      "Try using .loc[row_indexer,col_indexer] = value instead\n",
      "\n",
      "See the caveats in the documentation: https://pandas.pydata.org/pandas-docs/stable/user_guide/indexing.html#returning-a-view-versus-a-copy\n",
      "\n",
      "C:\\Users\\Inteli\\AppData\\Local\\Temp\\ipykernel_28572\\1671549817.py:105: SettingWithCopyWarning:\n",
      "\n",
      "\n",
      "A value is trying to be set on a copy of a slice from a DataFrame.\n",
      "Try using .loc[row_indexer,col_indexer] = value instead\n",
      "\n",
      "See the caveats in the documentation: https://pandas.pydata.org/pandas-docs/stable/user_guide/indexing.html#returning-a-view-versus-a-copy\n",
      "\n",
      "C:\\Users\\Inteli\\AppData\\Local\\Temp\\ipykernel_28572\\1671549817.py:107: SettingWithCopyWarning:\n",
      "\n",
      "\n",
      "A value is trying to be set on a copy of a slice from a DataFrame.\n",
      "Try using .loc[row_indexer,col_indexer] = value instead\n",
      "\n",
      "See the caveats in the documentation: https://pandas.pydata.org/pandas-docs/stable/user_guide/indexing.html#returning-a-view-versus-a-copy\n",
      "\n",
      "C:\\Users\\Inteli\\AppData\\Local\\Packages\\PythonSoftwareFoundation.Python.3.11_qbz5n2kfra8p0\\LocalCache\\local-packages\\Python311\\site-packages\\sklearn\\utils\\validation.py:1858: FutureWarning:\n",
      "\n",
      "Feature names only support names that are all strings. Got feature names with dtypes: ['int', 'str']. An error will be raised in 1.2.\n",
      "\n"
     ]
    }
   ],
   "source": [
    "import pandas as pd\n",
    "import unidecode\n",
    "import spacy\n",
    "from sklearn.feature_extraction.text import TfidfVectorizer\n",
    "from sklearn.model_selection import train_test_split, GridSearchCV\n",
    "from sklearn.ensemble import RandomForestClassifier\n",
    "from sklearn.metrics import classification_report\n",
    "from tqdm import tqdm\n",
    "import re\n",
    "\n",
    "# Carregar o modelo de linguagem do spaCy\n",
    "nlp = spacy.load('pt_core_news_sm')\n",
    "\n",
    "# Carregar o DataFrame com a amostra de vagas rotuladas manualmente\n",
    "path_amostra = \"amostra_vagas_rotuladas.csv\"\n",
    "df_amostra = pd.read_csv(path_amostra)\n",
    "\n",
    "# Carregar o DataFrame de cadastro de funções\n",
    "path_cadastro = \"Cadastro de funções - Cadastro de funções.csv\"\n",
    "df_cadastro = pd.read_csv(path_cadastro)\n",
    "\n",
    "# Função para remover espaços, acentuações e caracteres especiais\n",
    "def normalizar_texto(texto):\n",
    "    texto = unidecode.unidecode(texto.strip().lower())\n",
    "    texto = re.sub(r'\\W+', ' ', texto)\n",
    "    return texto\n",
    "\n",
    "# Função para lematização e remoção de stopwords\n",
    "def preprocessar_texto(texto):\n",
    "    doc = nlp(texto)\n",
    "    return ' '.join([token.lemma_ for token in doc if not token.is_stop])\n",
    "\n",
    "# Aplicar a normalização e o pré-processamento\n",
    "df_amostra['texto'] = df_amostra['ver_cargo'] + ' ' + df_amostra['palavra_chave']\n",
    "df_amostra['texto'] = df_amostra['texto'].astype(str).apply(normalizar_texto).apply(preprocessar_texto)\n",
    "\n",
    "# Adicionar características de listas de cargos e palavras-chave\n",
    "cargo_cols = ['Cargo 1', 'Cargo 2', 'Cargo 3', 'Cargo 4', 'Cargo 5', 'Cargo 6']\n",
    "palavra_chave_cols = ['palavra-chave 1', 'palavra-chave 2', 'palavra-chave 3', 'palavra-chave 4', 'palavra-chave 5', 'palavra-chave 6']\n",
    "\n",
    "# Função para verificar a presença de palavras-chave e cargos\n",
    "def verificar_presenca(texto, lista):\n",
    "    return any(item in texto for item in lista)\n",
    "\n",
    "# Criar novas características no DataFrame\n",
    "for i, row in df_amostra.iterrows():\n",
    "    for col in cargo_cols:\n",
    "        df_amostra.loc[i, col] = verificar_presenca(row['texto'], df_cadastro[col].dropna().tolist())\n",
    "    for col in palavra_chave_cols:\n",
    "        df_amostra.loc[i, col] = verificar_presenca(row['texto'], df_cadastro[col].dropna().tolist())\n",
    "\n",
    "# Converter colunas de características em numérico\n",
    "for col in cargo_cols + palavra_chave_cols:\n",
    "    df_amostra[col] = df_amostra[col].astype(int)\n",
    "\n",
    "# Separar as variáveis dependentes e independentes\n",
    "X = df_amostra.drop(columns=['Nome Vaga Normalizado', 'Localização', 'Skills Necessarias', 'Média Salarial', 'Cargo', 'ver_cargo', 'palavra_chave'])\n",
    "y = df_amostra['Nome Vaga Normalizado']\n",
    "\n",
    "# Dividir os dados em conjuntos de treino e teste\n",
    "X_train, X_test, y_train, y_test = train_test_split(X, y, test_size=0.2, random_state=42)\n",
    "\n",
    "# Vetorização do texto\n",
    "vectorizer = TfidfVectorizer()\n",
    "X_train_tfidf = vectorizer.fit_transform(X_train['texto'])\n",
    "X_test_tfidf = vectorizer.transform(X_test['texto'])\n",
    "\n",
    "# Concatenar as novas características\n",
    "X_train_combined = pd.concat([pd.DataFrame(X_train_tfidf.toarray()), X_train.drop(columns=['texto']).reset_index(drop=True)], axis=1)\n",
    "X_test_combined = pd.concat([pd.DataFrame(X_test_tfidf.toarray()), X_test.drop(columns=['texto']).reset_index(drop=True)], axis=1)\n",
    "\n",
    "# Definir o modelo de RandomForest e os parâmetros para o GridSearchCV\n",
    "param_grid = {\n",
    "    'n_estimators': [100, 200, 300],\n",
    "    'max_features': ['auto', 'sqrt', 'log2'],\n",
    "    'max_depth': [None, 10, 20, 30],\n",
    "    'min_samples_split': [2, 5, 10],\n",
    "    'min_samples_leaf': [1, 2, 4],\n",
    "    'bootstrap': [True, False]\n",
    "}\n",
    "\n",
    "# Inicializar o GridSearchCV\n",
    "grid_search = GridSearchCV(estimator=RandomForestClassifier(random_state=42), param_grid=param_grid, cv=3, n_jobs=-1, verbose=2)\n",
    "grid_search.fit(X_train_combined, y_train)\n",
    "\n",
    "# Melhor estimador encontrado pelo GridSearchCV\n",
    "best_model = grid_search.best_estimator_\n",
    "\n",
    "# Prever nos dados de teste\n",
    "y_pred = best_model.predict(X_test_combined)\n",
    "\n",
    "# Avaliar o desempenho do modelo\n",
    "print(classification_report(y_test, y_pred))\n",
    "\n",
    "# Aplicar o modelo aos dados não rotulados\n",
    "df_nao_rotulados = df_tech[['Localização', 'Skills Necessarias', 'Média Salarial','Cargo','ver_cargo','palavra_chave']]\n",
    "\n",
    "# Aplicar a normalização e o pré-processamento\n",
    "df_nao_rotulados['texto'] = df_nao_rotulados['ver_cargo'] + ' ' + df_nao_rotulados['palavra_chave']\n",
    "df_nao_rotulados['texto'] = df_nao_rotulados['texto'].astype(str).apply(normalizar_texto).apply(preprocessar_texto)\n",
    "\n",
    "# Adicionar características de listas de cargos e palavras-chave\n",
    "for i, row in df_nao_rotulados.iterrows():\n",
    "    for col in cargo_cols:\n",
    "        df_nao_rotulados.loc[i, col] = verificar_presenca(row['texto'], df_cadastro[col].dropna().tolist())\n",
    "    for col in palavra_chave_cols:\n",
    "        df_nao_rotulados.loc[i, col] = verificar_presenca(row['texto'], df_cadastro[col].dropna().tolist())\n",
    "\n",
    "# Converter colunas de características em numérico\n",
    "for col in cargo_cols + palavra_chave_cols:\n",
    "    df_nao_rotulados[col] = df_nao_rotulados[col].astype(int)\n",
    "\n",
    "# Vetorização do texto\n",
    "X_nao_rotulados_tfidf = vectorizer.transform(df_nao_rotulados['texto'])\n",
    "\n",
    "# Concatenar as novas características\n",
    "X_nao_rotulados_combined = pd.concat([pd.DataFrame(X_nao_rotulados_tfidf.toarray()), df_nao_rotulados.drop(columns=['texto', 'Localização', 'Skills Necessarias', 'Média Salarial', 'Cargo', 'ver_cargo', 'palavra_chave']).reset_index(drop=True)], axis=1)\n",
    "\n",
    "# Prever nos dados não rotulados\n",
    "df_nao_rotulados['Nome Vaga Normalizado'] = best_model.predict(X_nao_rotulados_combined)\n",
    "\n",
    "# Salvar o DataFrame resultante\n",
    "df_nao_rotulados.to_csv('vagas_classificadas.csv', index=False)\n"
   ]
  },
  {
   "cell_type": "code",
   "execution_count": 71,
   "metadata": {},
   "outputs": [
    {
     "name": "stdout",
     "output_type": "stream",
     "text": [
      "Total de posições indefinidas: 5156\n"
     ]
    }
   ],
   "source": [
    "# Contar o número de posições indefinidas\n",
    "num_indefinidos = df_nao_rotulados[df_nao_rotulados['Nome Vaga Normalizado'] == 'Indefinido'].shape[0]\n",
    "\n",
    "# Exibir o número de posições indefinidas\n",
    "print(f\"Total de posições indefinidas: {num_indefinidos}\")\n"
   ]
  }
 ],
 "metadata": {
  "kernelspec": {
   "display_name": "Python 3",
   "language": "python",
   "name": "python3"
  },
  "language_info": {
   "codemirror_mode": {
    "name": "ipython",
    "version": 3
   },
   "file_extension": ".py",
   "mimetype": "text/x-python",
   "name": "python",
   "nbconvert_exporter": "python",
   "pygments_lexer": "ipython3",
   "version": "3.11.9"
  }
 },
 "nbformat": 4,
 "nbformat_minor": 2
}
